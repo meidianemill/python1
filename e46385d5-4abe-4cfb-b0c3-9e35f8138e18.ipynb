{
 "cells": [
  {
   "cell_type": "markdown",
   "metadata": {},
   "source": [
    "<div style=\"border:solid black 2px; padding: 20px\">\n",
    "\n",
    "# Reviewer's feedback v.1\n",
    "\n",
    "**Halo Junior**\n",
    "    \n",
    "**Greetings from Chamdani**\n",
    "\n",
    "Terima kasih telah mengirimkan project kamu dengan ini kamu sudah memulai sebuah langkah yang luar biasa saat ini. Disini saya akan mereview proyek kamu ya.\n",
    "\n",
    "Saya akan memberikan beberapa komentar dan feedback seperti dibawah ini, **mohon jangan dipindah, dirubah, maupun dihapus ya :).**\n",
    "    \n",
    "> Mohon diperhatikan bahwa apabila ada temuan atau kesalahan yang sama namun tidak ada komentar perbaikan disana, itu berarti kamu masih tetap harus memperbaikinya yaa.\n",
    "\n",
    "Komentar yang saya berikan akan muncul dalam warna hijau, kuning, atau pun merah seperti ini:\n",
    "\n",
    "</div>\n",
    "\n",
    "<div class=\"alert alert-success\">\n",
    "<b>Chamdani's comment v.*</b> <a class=\"tocSkip\"></a>\n",
    "\n",
    "Bagus, semua berjalan lancar.\n",
    "\n",
    "</div>\n",
    "\n",
    "<div class=\"alert alert-warning\">\n",
    "<b>Chamdani's comment v.*</b> <a class=\"tocSkip\"></a>\n",
    "\n",
    "Ada beberapa catatan.\n",
    "\n",
    "</div>\n",
    "\n",
    "<div class=\"alert alert-danger\">\n",
    "<b>Chamdani's comment v.*</b> <a class=\"tocSkip\"></a>\n",
    "\n",
    "Perlu beberapa perbaikan.\n",
    "\n",
    "</div>\n",
    "\n",
    "<div class=\"alert alert-info\">\n",
    "<b>Chamdani's info v.1</b> <a class=\"tocSkip\"></a>\n",
    "\n",
    "Catatan umum:\n",
    "* Fungsi `print` tidak diperlukan untuk mencetak suatu nilai\n",
    "* Lebih baik tulis kode pada bagian akhir cell code untuk menampilkan output tanpa `print`\n",
    "* Perintah soal yang ada dalam tanda kurung siku `[...]` sebaiknya dihilangkan\n",
    "* Sangat disarankan untuk menggunakan cell markdown untuk memberikan deskripsi temuan atau kesimpulan.\n",
    "* Tidak disarankan menggunakan cell code untuk memberikan penjelasan / deskripsi.\n",
    "* Untuk menghindari galat pada notebook project kamu. Batasi jumlah output yang dikeluarkan setiap kode dengan batas max 10 baris data.\n",
    "\n",
    "</div>\n",
    "\n",
    "<div style=\"border:solid gray 5px; padding: 20px\" class=\"alert alert-warning\">\n",
    "\n",
    "**INGATLAH** \n",
    "* Project kamu tidak akan bisa diterima bila kamu masih memiliki feedback berwarna merah. \n",
    "* Kamu hanya memiliki 3 kali kesempatan iterasi submission disetiap projectnya \n",
    "* Jika merasa kesulitan kamu dapat menuliskan responmu atas feedback saya menggunakan blok markdown warna biru dan kamu bisa mengirimkan project pada submission selanjutnya untuk mendapatkan jawaban / respon dari saya segera yaa\n",
    "\n",
    "Kamu dapat menjawab saya dengan menggunakan blok berwarna biru seperti ini\n",
    "\n",
    "<div class=\"alert alert-info\">\n",
    "<b>Student answer</b> <a class=\"tocSkip\"></a>\n",
    "\n",
    "Siap kak.\n",
    "\n",
    "</div>"
   ]
  },
  {
   "cell_type": "markdown",
   "metadata": {},
   "source": [
    "<div style=\"border:solid black 2px; padding: 20px\" class=\"alert alert-success\">\n",
    "    \n",
    "# General feedback v.1 *Project Accepted*\n",
    "\n",
    "Terima kasih banyak telah mengirimkan proyek Anda! \n",
    "<br>\n",
    "    \n",
    "Secara keseluruhan, proyek Anda **SANGAT** mengesankan. Semoga apa yang kamu pelajari dalam project ini dapat membantu meningkatkan kemampuanmu. Pertahankan apa yang sudah bagus, dan tingkatkan apa yang menurutmu masih perlu ditingkatkan. Semoga berhasil pada project selanjutnya yaa :)\n",
    "\n",
    "**TETAP SEMANGAT!!**\n",
    "    \n",
    "</div>"
   ]
  },
  {
   "cell_type": "markdown",
   "metadata": {},
   "source": [
    "# Paket Prabayar Manakah yang Lebih Baik?\n",
    "\n",
    "Anda bekerja sebagai seorang analis di perusahaan operator telekomunikasi bernama Megaline. Perusahaan tersebut menawarkan kliennya dua jenis paket prabayar, yaitu paket Surf dan paket Ultimate. Departemen periklanan ingin mengetahui paket prabayar mana yang menghasilkan lebih banyak pendapatan, sehingga mereka bisa membuat anggaran iklan yang sesuai.\n",
    "\n",
    "Anda akan melakukan analisis awal untuk paket-paket prabayar tersebut berdasarkan sampel klien yang berukuran relatif kecil. Anda memiliki 500 data klien Megaline, yang berisi informasi seperti: siapa mereka, dari mana asalnya, jenis paket apa yang mereka gunakan, serta jumlah panggilan dan pesan yang mereka kirim di tahun 2018. Tugas Anda adalah untuk menganalisis perilaku para pengguna, lalu menentukan paket prabayar manakah yang lebih menguntungkan."
   ]
  },
  {
   "cell_type": "markdown",
   "metadata": {},
   "source": [
    "Hal pertama yang akan dilakukan untuk menganalisis ialah memuat semua library yang dibutuhkan dalam proses penganalisisan."
   ]
  },
  {
   "cell_type": "markdown",
   "metadata": {},
   "source": [
    "## Inisialisasi"
   ]
  },
  {
   "cell_type": "markdown",
   "metadata": {},
   "source": []
  },
  {
   "cell_type": "code",
   "execution_count": 1,
   "metadata": {},
   "outputs": [],
   "source": [
    "# Muat semua library\n",
    "\n",
    "import pandas as pd\n",
    "import numpy as np\n",
    "import matplotlib.pyplot as plt\n",
    "import seaborn as sns\n",
    "\n",
    "# Import Library Statistics\n",
    "\n",
    "from scipy import stats as st \n",
    "\n"
   ]
  },
  {
   "cell_type": "markdown",
   "metadata": {},
   "source": [
    "<div class=\"alert alert-success\">\n",
    "<b>Chamdani's comment v.1</b> <a class=\"tocSkip\"></a>\n",
    "\n",
    "Hebat, Kerja bagus!\n",
    "\n",
    "</div>"
   ]
  },
  {
   "cell_type": "markdown",
   "metadata": {},
   "source": [
    "## Memuat Data\n",
    "\n",
    "Memuat file data ke dalam dataframe"
   ]
  },
  {
   "cell_type": "markdown",
   "metadata": {},
   "source": []
  },
  {
   "cell_type": "code",
   "execution_count": 2,
   "metadata": {},
   "outputs": [],
   "source": [
    "# Muat file data ke dalam DataFrame yang berbeda\n",
    "\n",
    "user_df = pd.read_csv('/datasets/megaline_users.csv')\n",
    "call_df = pd.read_csv('/datasets/megaline_calls.csv')\n",
    "inet_df = pd.read_csv('/datasets/megaline_internet.csv')\n",
    "mesg_df = pd.read_csv('/datasets/megaline_messages.csv') \n",
    "plan_df = pd.read_csv('/datasets/megaline_plans.csv') \n",
    " \n"
   ]
  },
  {
   "cell_type": "markdown",
   "metadata": {},
   "source": [
    "<div class=\"alert alert-success\">\n",
    "<b>Chamdani's comment v.1</b> <a class=\"tocSkip\"></a>\n",
    "\n",
    "Hebat, Kerja bagus!\n",
    "\n",
    "</div>"
   ]
  },
  {
   "cell_type": "markdown",
   "metadata": {},
   "source": [
    "## Mempersiapkan Data"
   ]
  },
  {
   "cell_type": "markdown",
   "metadata": {},
   "source": [
    "## Paket Prabayar\n",
    "Pada tahap ini kita akan mencocokan kolom-kolom yang tersedia dengan info nya pada plan_df. Setelah itu juga kita akan memperbaiki beberapa data yang perlu dirubah atau data yang hilang. Disini juga akan dilakukan penambahan kolom untuk memperkaya informasi terhadap data (jika diperlukan)."
   ]
  },
  {
   "cell_type": "code",
   "execution_count": 3,
   "metadata": {},
   "outputs": [
    {
     "name": "stdout",
     "output_type": "stream",
     "text": [
      "<class 'pandas.core.frame.DataFrame'>\n",
      "RangeIndex: 2 entries, 0 to 1\n",
      "Data columns (total 8 columns):\n",
      " #   Column                 Non-Null Count  Dtype  \n",
      "---  ------                 --------------  -----  \n",
      " 0   messages_included      2 non-null      int64  \n",
      " 1   mb_per_month_included  2 non-null      int64  \n",
      " 2   minutes_included       2 non-null      int64  \n",
      " 3   usd_monthly_pay        2 non-null      int64  \n",
      " 4   usd_per_gb             2 non-null      int64  \n",
      " 5   usd_per_message        2 non-null      float64\n",
      " 6   usd_per_minute         2 non-null      float64\n",
      " 7   plan_name              2 non-null      object \n",
      "dtypes: float64(2), int64(5), object(1)\n",
      "memory usage: 256.0+ bytes\n"
     ]
    }
   ],
   "source": [
    "# Tampilkan informasi/rangkuman umum tentang DataFrame paket-paket prabayar\n",
    "plan_df.info()"
   ]
  },
  {
   "cell_type": "code",
   "execution_count": 4,
   "metadata": {},
   "outputs": [
    {
     "data": {
      "text/html": [
       "<div>\n",
       "<style scoped>\n",
       "    .dataframe tbody tr th:only-of-type {\n",
       "        vertical-align: middle;\n",
       "    }\n",
       "\n",
       "    .dataframe tbody tr th {\n",
       "        vertical-align: top;\n",
       "    }\n",
       "\n",
       "    .dataframe thead th {\n",
       "        text-align: right;\n",
       "    }\n",
       "</style>\n",
       "<table border=\"1\" class=\"dataframe\">\n",
       "  <thead>\n",
       "    <tr style=\"text-align: right;\">\n",
       "      <th></th>\n",
       "      <th>messages_included</th>\n",
       "      <th>mb_per_month_included</th>\n",
       "      <th>minutes_included</th>\n",
       "      <th>usd_monthly_pay</th>\n",
       "      <th>usd_per_gb</th>\n",
       "      <th>usd_per_message</th>\n",
       "      <th>usd_per_minute</th>\n",
       "      <th>plan_name</th>\n",
       "    </tr>\n",
       "  </thead>\n",
       "  <tbody>\n",
       "    <tr>\n",
       "      <th>0</th>\n",
       "      <td>50</td>\n",
       "      <td>15360</td>\n",
       "      <td>500</td>\n",
       "      <td>20</td>\n",
       "      <td>10</td>\n",
       "      <td>0.03</td>\n",
       "      <td>0.03</td>\n",
       "      <td>surf</td>\n",
       "    </tr>\n",
       "    <tr>\n",
       "      <th>1</th>\n",
       "      <td>1000</td>\n",
       "      <td>30720</td>\n",
       "      <td>3000</td>\n",
       "      <td>70</td>\n",
       "      <td>7</td>\n",
       "      <td>0.01</td>\n",
       "      <td>0.01</td>\n",
       "      <td>ultimate</td>\n",
       "    </tr>\n",
       "  </tbody>\n",
       "</table>\n",
       "</div>"
      ],
      "text/plain": [
       "   messages_included  mb_per_month_included  minutes_included  \\\n",
       "0                 50                  15360               500   \n",
       "1               1000                  30720              3000   \n",
       "\n",
       "   usd_monthly_pay  usd_per_gb  usd_per_message  usd_per_minute plan_name  \n",
       "0               20          10             0.03            0.03      surf  \n",
       "1               70           7             0.01            0.01  ultimate  "
      ]
     },
     "execution_count": 4,
     "metadata": {},
     "output_type": "execute_result"
    }
   ],
   "source": [
    "# Tampilkan sampel data untuk paket-paket tersebut\n",
    "plan_df.head()"
   ]
  },
  {
   "cell_type": "markdown",
   "metadata": {},
   "source": [
    "Setelah dilihat dari dataframe diatas, tidak ada data yang hilang dan juga tidak ada duplikat data karena data hanya terdapat 2 baris.\n",
    "Datframe plan_df memperlihatkan paket gratis apa saja yang didapatkan jika membeli paket yang disediakan. Selain itu juga,  biaya lebih akan ditangguhkan kepada pengguna jika ada penggunaan telpon, SMS dan internet yang melebihi kapasitas yang sudah ditentukan.\n",
    "\n",
    "Setelah melakukan pencocokan, tidak ada data yang perlu perbaiki ataupun menambahkan kolom.\n",
    "\n"
   ]
  },
  {
   "cell_type": "markdown",
   "metadata": {},
   "source": [
    "<div class=\"alert alert-success\">\n",
    "<b>Chamdani's comment v.1</b> <a class=\"tocSkip\"></a>\n",
    "\n",
    "Hebat, Kerja bagus!\n",
    "\n",
    "</div>"
   ]
  },
  {
   "cell_type": "markdown",
   "metadata": {},
   "source": [
    " "
   ]
  },
  {
   "cell_type": "markdown",
   "metadata": {},
   "source": [
    "## Memperbaiki Data"
   ]
  },
  {
   "cell_type": "markdown",
   "metadata": {},
   "source": [
    "\n",
    "## Memperkaya Kualitas Data\n",
    "\n",
    "Tambahkan kolom yang memberikan informasi berapa besaran gb dari mb_per_month_included"
   ]
  },
  {
   "cell_type": "code",
   "execution_count": 5,
   "metadata": {},
   "outputs": [],
   "source": [
    "plan_df['gb_month'] = (plan_df['mb_per_month_included'] / 1024).astype('int16')"
   ]
  },
  {
   "cell_type": "code",
   "execution_count": 6,
   "metadata": {},
   "outputs": [
    {
     "data": {
      "text/html": [
       "<div>\n",
       "<style scoped>\n",
       "    .dataframe tbody tr th:only-of-type {\n",
       "        vertical-align: middle;\n",
       "    }\n",
       "\n",
       "    .dataframe tbody tr th {\n",
       "        vertical-align: top;\n",
       "    }\n",
       "\n",
       "    .dataframe thead th {\n",
       "        text-align: right;\n",
       "    }\n",
       "</style>\n",
       "<table border=\"1\" class=\"dataframe\">\n",
       "  <thead>\n",
       "    <tr style=\"text-align: right;\">\n",
       "      <th></th>\n",
       "      <th>messages_included</th>\n",
       "      <th>mb_per_month_included</th>\n",
       "      <th>minutes_included</th>\n",
       "      <th>usd_monthly_pay</th>\n",
       "      <th>usd_per_gb</th>\n",
       "      <th>usd_per_message</th>\n",
       "      <th>usd_per_minute</th>\n",
       "      <th>plan_name</th>\n",
       "      <th>gb_month</th>\n",
       "    </tr>\n",
       "  </thead>\n",
       "  <tbody>\n",
       "    <tr>\n",
       "      <th>0</th>\n",
       "      <td>50</td>\n",
       "      <td>15360</td>\n",
       "      <td>500</td>\n",
       "      <td>20</td>\n",
       "      <td>10</td>\n",
       "      <td>0.03</td>\n",
       "      <td>0.03</td>\n",
       "      <td>surf</td>\n",
       "      <td>15</td>\n",
       "    </tr>\n",
       "    <tr>\n",
       "      <th>1</th>\n",
       "      <td>1000</td>\n",
       "      <td>30720</td>\n",
       "      <td>3000</td>\n",
       "      <td>70</td>\n",
       "      <td>7</td>\n",
       "      <td>0.01</td>\n",
       "      <td>0.01</td>\n",
       "      <td>ultimate</td>\n",
       "      <td>30</td>\n",
       "    </tr>\n",
       "  </tbody>\n",
       "</table>\n",
       "</div>"
      ],
      "text/plain": [
       "   messages_included  mb_per_month_included  minutes_included  \\\n",
       "0                 50                  15360               500   \n",
       "1               1000                  30720              3000   \n",
       "\n",
       "   usd_monthly_pay  usd_per_gb  usd_per_message  usd_per_minute plan_name  \\\n",
       "0               20          10             0.03            0.03      surf   \n",
       "1               70           7             0.01            0.01  ultimate   \n",
       "\n",
       "   gb_month  \n",
       "0        15  \n",
       "1        30  "
      ]
     },
     "execution_count": 6,
     "metadata": {},
     "output_type": "execute_result"
    }
   ],
   "source": [
    "plan_df.head()"
   ]
  },
  {
   "cell_type": "markdown",
   "metadata": {},
   "source": [
    "\n",
    "\n",
    "Kolom ini ditambahkan, untuk memperjelas pembayaran lebih nya pemakaian pada paket internet"
   ]
  },
  
  {
   "cell_type": "markdown",
   "metadata": {},
   "source": [
    "## Pengguna\n",
    "    Pada tahap ini kita akan mencocokan kolom-kolom yang tersedia dengan info nya pada user_df. Pada tahap ini juga akan    dilakukan  perbaikan data jika ada yang kosong dan duplikat. Akan dilakukan juga penambahan kolom untuk mempekaya informasi pada data, jika diperlukan."
   ]
  },
  {
   "cell_type": "code",
   "execution_count": 7,
   "metadata": {},
   "outputs": [
    {
     "name": "stdout",
     "output_type": "stream",
     "text": [
      "<class 'pandas.core.frame.DataFrame'>\n",
      "RangeIndex: 500 entries, 0 to 499\n",
      "Data columns (total 8 columns):\n",
      " #   Column      Non-Null Count  Dtype \n",
      "---  ------      --------------  ----- \n",
      " 0   user_id     500 non-null    int64 \n",
      " 1   first_name  500 non-null    object\n",
      " 2   last_name   500 non-null    object\n",
      " 3   age         500 non-null    int64 \n",
      " 4   city        500 non-null    object\n",
      " 5   reg_date    500 non-null    object\n",
      " 6   plan        500 non-null    object\n",
      " 7   churn_date  34 non-null     object\n",
      "dtypes: int64(2), object(6)\n",
      "memory usage: 31.4+ KB\n"
     ]
    }
   ],
   "source": [
    "# Tampilkan informasi/rangkuman umum tentang DataFrame pengguna\n",
    "\n",
    "user_df.info()"
   ]
  },
  {
   "cell_type": "code",
   "execution_count": 8,
   "metadata": {},
   "outputs": [
    {
     "data": {
      "text/html": [
       "<div>\n",
       "<style scoped>\n",
       "    .dataframe tbody tr th:only-of-type {\n",
       "        vertical-align: middle;\n",
       "    }\n",
       "\n",
       "    .dataframe tbody tr th {\n",
       "        vertical-align: top;\n",
       "    }\n",
       "\n",
       "    .dataframe thead th {\n",
       "        text-align: right;\n",
       "    }\n",
       "</style>\n",
       "<table border=\"1\" class=\"dataframe\">\n",
       "  <thead>\n",
       "    <tr style=\"text-align: right;\">\n",
       "      <th></th>\n",
       "      <th>user_id</th>\n",
       "      <th>first_name</th>\n",
       "      <th>last_name</th>\n",
       "      <th>age</th>\n",
       "      <th>city</th>\n",
       "      <th>reg_date</th>\n",
       "      <th>plan</th>\n",
       "      <th>churn_date</th>\n",
       "    </tr>\n",
       "  </thead>\n",
       "  <tbody>\n",
       "    <tr>\n",
       "      <th>0</th>\n",
       "      <td>1000</td>\n",
       "      <td>Anamaria</td>\n",
       "      <td>Bauer</td>\n",
       "      <td>45</td>\n",
       "      <td>Atlanta-Sandy Springs-Roswell, GA MSA</td>\n",
       "      <td>2018-12-24</td>\n",
       "      <td>ultimate</td>\n",
       "      <td>NaN</td>\n",
       "    </tr>\n",
       "    <tr>\n",
       "      <th>1</th>\n",
       "      <td>1001</td>\n",
       "      <td>Mickey</td>\n",
       "      <td>Wilkerson</td>\n",
       "      <td>28</td>\n",
       "      <td>Seattle-Tacoma-Bellevue, WA MSA</td>\n",
       "      <td>2018-08-13</td>\n",
       "      <td>surf</td>\n",
       "      <td>NaN</td>\n",
       "    </tr>\n",
       "    <tr>\n",
       "      <th>2</th>\n",
       "      <td>1002</td>\n",
       "      <td>Carlee</td>\n",
       "      <td>Hoffman</td>\n",
       "      <td>36</td>\n",
       "      <td>Las Vegas-Henderson-Paradise, NV MSA</td>\n",
       "      <td>2018-10-21</td>\n",
       "      <td>surf</td>\n",
       "      <td>NaN</td>\n",
       "    </tr>\n",
       "    <tr>\n",
       "      <th>3</th>\n",
       "      <td>1003</td>\n",
       "      <td>Reynaldo</td>\n",
       "      <td>Jenkins</td>\n",
       "      <td>52</td>\n",
       "      <td>Tulsa, OK MSA</td>\n",
       "      <td>2018-01-28</td>\n",
       "      <td>surf</td>\n",
       "      <td>NaN</td>\n",
       "    </tr>\n",
       "    <tr>\n",
       "      <th>4</th>\n",
       "      <td>1004</td>\n",
       "      <td>Leonila</td>\n",
       "      <td>Thompson</td>\n",
       "      <td>40</td>\n",
       "      <td>Seattle-Tacoma-Bellevue, WA MSA</td>\n",
       "      <td>2018-05-23</td>\n",
       "      <td>surf</td>\n",
       "      <td>NaN</td>\n",
       "    </tr>\n",
       "  </tbody>\n",
       "</table>\n",
       "</div>"
      ],
      "text/plain": [
       "   user_id first_name  last_name  age                                   city  \\\n",
       "0     1000   Anamaria      Bauer   45  Atlanta-Sandy Springs-Roswell, GA MSA   \n",
       "1     1001     Mickey  Wilkerson   28        Seattle-Tacoma-Bellevue, WA MSA   \n",
       "2     1002     Carlee    Hoffman   36   Las Vegas-Henderson-Paradise, NV MSA   \n",
       "3     1003   Reynaldo    Jenkins   52                          Tulsa, OK MSA   \n",
       "4     1004    Leonila   Thompson   40        Seattle-Tacoma-Bellevue, WA MSA   \n",
       "\n",
       "     reg_date      plan churn_date  \n",
       "0  2018-12-24  ultimate        NaN  \n",
       "1  2018-08-13      surf        NaN  \n",
       "2  2018-10-21      surf        NaN  \n",
       "3  2018-01-28      surf        NaN  \n",
       "4  2018-05-23      surf        NaN  "
      ]
     },
     "execution_count": 8,
     "metadata": {},
     "output_type": "execute_result"
    }
   ],
   "source": [
    "# Tampilkan sampel data pengguna\n",
    "\n",
    "user_df.head()"
   ]
  },
  {
   "cell_type": "markdown",
   "metadata": {},
   "source": [
    " User_df terdapat 8 kolom dengan 500 baris. Pada kolom reg_Date dan churn_date, tipe data masih belum bertipe dateTime. ada kolom city, terlalu banyak informasi, sedangkan yang kita butuhkan hanya yang dibelakang koma. Terlihat bahwa pada kolom churn_date, ada baris yang hilang. Hal ini dijadikan informasi bahwa paket masih berlangsung sampai saat ini. \n",
    " \n",
    "Dari hipotesis yang sudah ditentukan yaitu :\n",
    " \n",
    " - `Rata-rata pendapatan dari pengguna paket telepon Ultimate dan Surf berbeda.`\n",
    " \n",
    " - `Rata-rata pendapatan dari pengguna di wilayah NY-NJ berbeda dengan pendapatan pengguna dari wilayah lain.`\n",
    " \n",
    " Ada beberapa hal yang harus diperbaiki dan dibutuhkan beberapa perubahan untuk memperkaya data.\n"
   ]
  },
  
  {
   "cell_type": "markdown",
   "metadata": {},
   "source": [
    " "
   ]
  },
  {
   "cell_type": "markdown",
   "metadata": {},
   "source": [
    "### Memperbaiki Data\n",
    " \n",
    " Langkah selanjutnya untuk memperbaiki data ialah, mengganti type data reg_date dan churn_date menjadi tipe datetime. \n",
    " \n"
   ]
  },
  {
   "cell_type": "code",
   "execution_count": 9,
   "metadata": {},
   "outputs": [
    {
     "data": {
      "text/plain": [
       "0"
      ]
     },
     "execution_count": 9,
     "metadata": {},
     "output_type": "execute_result"
    }
   ],
   "source": [
    "user_df.duplicated().sum()"
   ]
  },
  {
   "cell_type": "code",
   "execution_count": 10,
   "metadata": {},
   "outputs": [],
   "source": [
    "#Membuat fungsi untuk mengubah tipe object menjadi date\n",
    "def toDate (df, column):\n",
    "    date = pd.to_datetime(df[column])\n",
    "    return date"
   ]
  },
  {
   "cell_type": "code",
   "execution_count": 11,
   "metadata": {},
   "outputs": [],
   "source": [
    "user_df['reg_date'] = toDate(user_df,'reg_date')\n",
    "user_df['churn_date'] = toDate(user_df,'churn_date')"
   ]
  },
  {
   "cell_type": "code",
   "execution_count": 12,
   "metadata": {},
   "outputs": [],
   "source": [
    "user_df = user_df.rename(columns={'plan' : 'plan_name'})"
   ]
  },
  
  {
   "cell_type": "markdown",
   "metadata": {},
   "source": [
    "### Memperkaya Kualitas Data\n",
    "\n",
    "Untuk meperkaya kualitas data, mari kita tambahkan informasi apakah client merupakan pengguna di wilayah NY-NJ. Juga kita akan tambahkan bulan registrasi. Setelah itu juga kita akan membuat kolom kategori untuk memberikan info apakah tiap pelanggan yang masih aktiv berlangganan atau tidak berlangganan yang berdasarkan kolom churn_date."
   ]
  },
  {
   "cell_type": "code",
   "execution_count": 13,
   "metadata": {},
   "outputs": [],
   "source": [
    "#membuat fungsi untuk mengambil bulan saja dri tipe data dateTime\n",
    "def monthOnly (df, column):\n",
    "    month = df[column].dt.to_period('M')\n",
    "    return month"
   ]
  },
  {
   "cell_type": "code",
   "execution_count": 14,
   "metadata": {},
   "outputs": [],
   "source": [
    "user_df['month_reg'] = monthOnly(user_df, 'reg_date')"
   ]
  },
  {
   "cell_type": "code",
   "execution_count": 15,
   "metadata": {},
   "outputs": [],
   "source": [
    "#membuat duplikat df baru untuk menambahkan dan mengganti beberapa kolom\n",
    "user_df_new = user_df"
   ]
  },
  {
   "cell_type": "markdown",
   "metadata": {},
   "source": [
    "Membenahi kolom city yang memuat terlalu banyak informasi yang tidak dibutuhkan dari hipotesis kita. Maka itu kita hanya akan mengambil inisial kotanya saja agar informasi lebih mudah dicerna."
   ]
  },
 
  {
   "cell_type": "code",
   "execution_count": 16,
   "metadata": {},
   "outputs": [],
   "source": [
    "user_df_new['city'] = user_df_new['city'].str.split(', ').str[1]"
   ]
  },
  {
   "cell_type": "code",
   "execution_count": 17,
   "metadata": {},
   "outputs": [],
   "source": [
    "user_df_new['city'] = user_df_new['city'].str.replace(' MSA', '')"
   ]
  },
  {
   "cell_type": "code",
   "execution_count": 18,
   "metadata": {
    "scrolled": false
   },
   "outputs": [
    {
     "data": {
      "text/html": [
       "<div>\n",
       "<style scoped>\n",
       "    .dataframe tbody tr th:only-of-type {\n",
       "        vertical-align: middle;\n",
       "    }\n",
       "\n",
       "    .dataframe tbody tr th {\n",
       "        vertical-align: top;\n",
       "    }\n",
       "\n",
       "    .dataframe thead th {\n",
       "        text-align: right;\n",
       "    }\n",
       "</style>\n",
       "<table border=\"1\" class=\"dataframe\">\n",
       "  <thead>\n",
       "    <tr style=\"text-align: right;\">\n",
       "      <th></th>\n",
       "      <th>user_id</th>\n",
       "      <th>first_name</th>\n",
       "      <th>last_name</th>\n",
       "      <th>age</th>\n",
       "      <th>city</th>\n",
       "      <th>reg_date</th>\n",
       "      <th>plan_name</th>\n",
       "      <th>churn_date</th>\n",
       "      <th>month_reg</th>\n",
       "    </tr>\n",
       "  </thead>\n",
       "  <tbody>\n",
       "    <tr>\n",
       "      <th>0</th>\n",
       "      <td>1000</td>\n",
       "      <td>Anamaria</td>\n",
       "      <td>Bauer</td>\n",
       "      <td>45</td>\n",
       "      <td>GA</td>\n",
       "      <td>2018-12-24</td>\n",
       "      <td>ultimate</td>\n",
       "      <td>NaT</td>\n",
       "      <td>2018-12</td>\n",
       "    </tr>\n",
       "    <tr>\n",
       "      <th>1</th>\n",
       "      <td>1001</td>\n",
       "      <td>Mickey</td>\n",
       "      <td>Wilkerson</td>\n",
       "      <td>28</td>\n",
       "      <td>WA</td>\n",
       "      <td>2018-08-13</td>\n",
       "      <td>surf</td>\n",
       "      <td>NaT</td>\n",
       "      <td>2018-08</td>\n",
       "    </tr>\n",
       "    <tr>\n",
       "      <th>2</th>\n",
       "      <td>1002</td>\n",
       "      <td>Carlee</td>\n",
       "      <td>Hoffman</td>\n",
       "      <td>36</td>\n",
       "      <td>NV</td>\n",
       "      <td>2018-10-21</td>\n",
       "      <td>surf</td>\n",
       "      <td>NaT</td>\n",
       "      <td>2018-10</td>\n",
       "    </tr>\n",
       "    <tr>\n",
       "      <th>3</th>\n",
       "      <td>1003</td>\n",
       "      <td>Reynaldo</td>\n",
       "      <td>Jenkins</td>\n",
       "      <td>52</td>\n",
       "      <td>OK</td>\n",
       "      <td>2018-01-28</td>\n",
       "      <td>surf</td>\n",
       "      <td>NaT</td>\n",
       "      <td>2018-01</td>\n",
       "    </tr>\n",
       "    <tr>\n",
       "      <th>4</th>\n",
       "      <td>1004</td>\n",
       "      <td>Leonila</td>\n",
       "      <td>Thompson</td>\n",
       "      <td>40</td>\n",
       "      <td>WA</td>\n",
       "      <td>2018-05-23</td>\n",
       "      <td>surf</td>\n",
       "      <td>NaT</td>\n",
       "      <td>2018-05</td>\n",
       "    </tr>\n",
       "  </tbody>\n",
       "</table>\n",
       "</div>"
      ],
      "text/plain": [
       "   user_id first_name  last_name  age city   reg_date plan_name churn_date  \\\n",
       "0     1000   Anamaria      Bauer   45   GA 2018-12-24  ultimate        NaT   \n",
       "1     1001     Mickey  Wilkerson   28   WA 2018-08-13      surf        NaT   \n",
       "2     1002     Carlee    Hoffman   36   NV 2018-10-21      surf        NaT   \n",
       "3     1003   Reynaldo    Jenkins   52   OK 2018-01-28      surf        NaT   \n",
       "4     1004    Leonila   Thompson   40   WA 2018-05-23      surf        NaT   \n",
       "\n",
       "  month_reg  \n",
       "0   2018-12  \n",
       "1   2018-08  \n",
       "2   2018-10  \n",
       "3   2018-01  \n",
       "4   2018-05  "
      ]
     },
     "execution_count": 18,
     "metadata": {},
     "output_type": "execute_result"
    }
   ],
   "source": [
    "user_df.head()"
   ]
  },
  {
   "cell_type": "code",
   "execution_count": 19,
   "metadata": {
    "scrolled": false
   },
   "outputs": [
    {
     "data": {
      "text/plain": [
       "NY-NJ-PA       80\n",
       "CA             78\n",
       "TX             39\n",
       "FL             25\n",
       "IL-IN-WI       19\n",
       "PA-NJ-DE-MD    17\n",
       "MI             16\n",
       "GA             14\n",
       "WA             13\n",
       "MA-NH          12\n",
       "TN             12\n",
       "MN-WI          11\n",
       "AZ             11\n",
       "DC-VA-MD-WV    11\n",
       "CO              9\n",
       "OH              9\n",
       "LA              9\n",
       "OH-KY-IN        8\n",
       "NC-SC           8\n",
       "OR-WA           8\n",
       "NV              7\n",
       "SC              7\n",
       "CT              6\n",
       "IN              6\n",
       "OK              6\n",
       "NY              6\n",
       "HI              5\n",
       "KY-IN           5\n",
       "PA              5\n",
       "MD              4\n",
       "AL              4\n",
       "VA              4\n",
       "VA-NC           4\n",
       "WI              3\n",
       "MO-IL           3\n",
       "RI-MA           3\n",
       "UT              3\n",
       "TN-MS-AR        2\n",
       "NE-IA           2\n",
       "NM              2\n",
       "NC              2\n",
       "MO-KS           2\n",
       "Name: city, dtype: int64"
      ]
     },
     "execution_count": 19,
     "metadata": {},
     "output_type": "execute_result"
    }
   ],
   "source": [
    "user_df_new['city'].value_counts()"
   ]
  },
 
  {
   "cell_type": "markdown",
   "metadata": {},
   "source": [
    "Membuat kolom yang lebih memperjelas baris mana yang berlanggan paket pada kota NY-NJ"
   ]
  },
  {
   "cell_type": "code",
   "execution_count": 20,
   "metadata": {},
   "outputs": [],
   "source": [
    "user_df_new['isNy_Nj'] = user_df_new['city'] == 'NY-NJ-PA'"
   ]
  },
  {
   "cell_type": "code",
   "execution_count": 21,
   "metadata": {},
   "outputs": [],
   "source": [
    "def getBool (cell):\n",
    "    if cell == True:\n",
    "        return 1\n",
    "    else :\n",
    "        return 0"
   ]
  },
  {
   "cell_type": "code",
   "execution_count": 22,
   "metadata": {},
   "outputs": [],
   "source": [
    "user_df_new['isNy_Nj'] = user_df_new['isNy_Nj'].apply(getBool)"
   ]
  },
  {
   "cell_type": "markdown",
   "metadata": {},
   "source": [
    "Membuat kolom yang lebih memperjelas baris mana yang masih aktif dalam berlanggan paket"
   ]
  },
  {
   "cell_type": "code",
   "execution_count": 23,
   "metadata": {},
   "outputs": [],
   "source": [
    "user_df_new['berlangganan'] = user_df_new['churn_date'].fillna('Aktiv')"
   ]
  },
  {
   "cell_type": "code",
   "execution_count": 24,
   "metadata": {
    "scrolled": false
   },
   "outputs": [],
   "source": [
    "def getAktiv (cell):\n",
    "    if cell == 'Aktiv':\n",
    "        return \"iya\"\n",
    "    else :\n",
    "        return \"tidak\""
   ]
  },
  {
   "cell_type": "code",
   "execution_count": 25,
   "metadata": {},
   "outputs": [],
   "source": [
    "user_df_new['berlangganan'] = user_df_new['berlangganan'].apply(getAktiv)"
   ]
  },
  {
   "cell_type": "code",
   "execution_count": 26,
   "metadata": {
    "scrolled": true
   },
   "outputs": [
    {
     "data": {
      "text/html": [
       "<div>\n",
       "<style scoped>\n",
       "    .dataframe tbody tr th:only-of-type {\n",
       "        vertical-align: middle;\n",
       "    }\n",
       "\n",
       "    .dataframe tbody tr th {\n",
       "        vertical-align: top;\n",
       "    }\n",
       "\n",
       "    .dataframe thead th {\n",
       "        text-align: right;\n",
       "    }\n",
       "</style>\n",
       "<table border=\"1\" class=\"dataframe\">\n",
       "  <thead>\n",
       "    <tr style=\"text-align: right;\">\n",
       "      <th></th>\n",
       "      <th>user_id</th>\n",
       "      <th>first_name</th>\n",
       "      <th>last_name</th>\n",
       "      <th>age</th>\n",
       "      <th>city</th>\n",
       "      <th>reg_date</th>\n",
       "      <th>plan_name</th>\n",
       "      <th>churn_date</th>\n",
       "      <th>month_reg</th>\n",
       "      <th>isNy_Nj</th>\n",
       "      <th>berlangganan</th>\n",
       "    </tr>\n",
       "  </thead>\n",
       "  <tbody>\n",
       "    <tr>\n",
       "      <th>0</th>\n",
       "      <td>1000</td>\n",
       "      <td>Anamaria</td>\n",
       "      <td>Bauer</td>\n",
       "      <td>45</td>\n",
       "      <td>GA</td>\n",
       "      <td>2018-12-24</td>\n",
       "      <td>ultimate</td>\n",
       "      <td>NaT</td>\n",
       "      <td>2018-12</td>\n",
       "      <td>0</td>\n",
       "      <td>iya</td>\n",
       "    </tr>\n",
       "    <tr>\n",
       "      <th>1</th>\n",
       "      <td>1001</td>\n",
       "      <td>Mickey</td>\n",
       "      <td>Wilkerson</td>\n",
       "      <td>28</td>\n",
       "      <td>WA</td>\n",
       "      <td>2018-08-13</td>\n",
       "      <td>surf</td>\n",
       "      <td>NaT</td>\n",
       "      <td>2018-08</td>\n",
       "      <td>0</td>\n",
       "      <td>iya</td>\n",
       "    </tr>\n",
       "    <tr>\n",
       "      <th>2</th>\n",
       "      <td>1002</td>\n",
       "      <td>Carlee</td>\n",
       "      <td>Hoffman</td>\n",
       "      <td>36</td>\n",
       "      <td>NV</td>\n",
       "      <td>2018-10-21</td>\n",
       "      <td>surf</td>\n",
       "      <td>NaT</td>\n",
       "      <td>2018-10</td>\n",
       "      <td>0</td>\n",
       "      <td>iya</td>\n",
       "    </tr>\n",
       "    <tr>\n",
       "      <th>3</th>\n",
       "      <td>1003</td>\n",
       "      <td>Reynaldo</td>\n",
       "      <td>Jenkins</td>\n",
       "      <td>52</td>\n",
       "      <td>OK</td>\n",
       "      <td>2018-01-28</td>\n",
       "      <td>surf</td>\n",
       "      <td>NaT</td>\n",
       "      <td>2018-01</td>\n",
       "      <td>0</td>\n",
       "      <td>iya</td>\n",
       "    </tr>\n",
       "    <tr>\n",
       "      <th>4</th>\n",
       "      <td>1004</td>\n",
       "      <td>Leonila</td>\n",
       "      <td>Thompson</td>\n",
       "      <td>40</td>\n",
       "      <td>WA</td>\n",
       "      <td>2018-05-23</td>\n",
       "      <td>surf</td>\n",
       "      <td>NaT</td>\n",
       "      <td>2018-05</td>\n",
       "      <td>0</td>\n",
       "      <td>iya</td>\n",
       "    </tr>\n",
       "  </tbody>\n",
       "</table>\n",
       "</div>"
      ],
      "text/plain": [
       "   user_id first_name  last_name  age city   reg_date plan_name churn_date  \\\n",
       "0     1000   Anamaria      Bauer   45   GA 2018-12-24  ultimate        NaT   \n",
       "1     1001     Mickey  Wilkerson   28   WA 2018-08-13      surf        NaT   \n",
       "2     1002     Carlee    Hoffman   36   NV 2018-10-21      surf        NaT   \n",
       "3     1003   Reynaldo    Jenkins   52   OK 2018-01-28      surf        NaT   \n",
       "4     1004    Leonila   Thompson   40   WA 2018-05-23      surf        NaT   \n",
       "\n",
       "  month_reg  isNy_Nj berlangganan  \n",
       "0   2018-12        0          iya  \n",
       "1   2018-08        0          iya  \n",
       "2   2018-10        0          iya  \n",
       "3   2018-01        0          iya  \n",
       "4   2018-05        0          iya  "
      ]
     },
     "execution_count": 26,
     "metadata": {},
     "output_type": "execute_result"
    }
   ],
   "source": [
    "user_df_new.head()"
   ]
  },
  
  {
   "cell_type": "markdown",
   "metadata": {},
   "source": [
    "## Panggilan\n",
    "Pada tahap ini kita akan mencocokan kolom-kolom yang tersedia dengan info nya pada call_df. Pada tahap ini juga akan dilakukan  perbaikan data jika ada yang kosong dan duplikat. Akan dilakukan juga penambahan kolom untuk memperkaya informasi pada data, jika diperlukan."
   ]
  },
  {
   "cell_type": "code",
   "execution_count": 27,
   "metadata": {},
   "outputs": [
    {
     "name": "stdout",
     "output_type": "stream",
     "text": [
      "<class 'pandas.core.frame.DataFrame'>\n",
      "RangeIndex: 137735 entries, 0 to 137734\n",
      "Data columns (total 4 columns):\n",
      " #   Column     Non-Null Count   Dtype  \n",
      "---  ------     --------------   -----  \n",
      " 0   id         137735 non-null  object \n",
      " 1   user_id    137735 non-null  int64  \n",
      " 2   call_date  137735 non-null  object \n",
      " 3   duration   137735 non-null  float64\n",
      "dtypes: float64(1), int64(1), object(2)\n",
      "memory usage: 4.2+ MB\n"
     ]
    }
   ],
   "source": [
    "# Tampilkan informasi/rangkuman umum tentang DataFrame panggilan\n",
    "call_df.info()"
   ]
  },
  {
   "cell_type": "code",
   "execution_count": 28,
   "metadata": {},
   "outputs": [
    {
     "data": {
      "text/html": [
       "<div>\n",
       "<style scoped>\n",
       "    .dataframe tbody tr th:only-of-type {\n",
       "        vertical-align: middle;\n",
       "    }\n",
       "\n",
       "    .dataframe tbody tr th {\n",
       "        vertical-align: top;\n",
       "    }\n",
       "\n",
       "    .dataframe thead th {\n",
       "        text-align: right;\n",
       "    }\n",
       "</style>\n",
       "<table border=\"1\" class=\"dataframe\">\n",
       "  <thead>\n",
       "    <tr style=\"text-align: right;\">\n",
       "      <th></th>\n",
       "      <th>id</th>\n",
       "      <th>user_id</th>\n",
       "      <th>call_date</th>\n",
       "      <th>duration</th>\n",
       "    </tr>\n",
       "  </thead>\n",
       "  <tbody>\n",
       "    <tr>\n",
       "      <th>0</th>\n",
       "      <td>1000_93</td>\n",
       "      <td>1000</td>\n",
       "      <td>2018-12-27</td>\n",
       "      <td>8.52</td>\n",
       "    </tr>\n",
       "    <tr>\n",
       "      <th>1</th>\n",
       "      <td>1000_145</td>\n",
       "      <td>1000</td>\n",
       "      <td>2018-12-27</td>\n",
       "      <td>13.66</td>\n",
       "    </tr>\n",
       "    <tr>\n",
       "      <th>2</th>\n",
       "      <td>1000_247</td>\n",
       "      <td>1000</td>\n",
       "      <td>2018-12-27</td>\n",
       "      <td>14.48</td>\n",
       "    </tr>\n",
       "    <tr>\n",
       "      <th>3</th>\n",
       "      <td>1000_309</td>\n",
       "      <td>1000</td>\n",
       "      <td>2018-12-28</td>\n",
       "      <td>5.76</td>\n",
       "    </tr>\n",
       "    <tr>\n",
       "      <th>4</th>\n",
       "      <td>1000_380</td>\n",
       "      <td>1000</td>\n",
       "      <td>2018-12-30</td>\n",
       "      <td>4.22</td>\n",
       "    </tr>\n",
       "  </tbody>\n",
       "</table>\n",
       "</div>"
      ],
      "text/plain": [
       "         id  user_id   call_date  duration\n",
       "0   1000_93     1000  2018-12-27      8.52\n",
       "1  1000_145     1000  2018-12-27     13.66\n",
       "2  1000_247     1000  2018-12-27     14.48\n",
       "3  1000_309     1000  2018-12-28      5.76\n",
       "4  1000_380     1000  2018-12-30      4.22"
      ]
     },
     "execution_count": 28,
     "metadata": {},
     "output_type": "execute_result"
    }
   ],
   "source": [
    "# Tampilkan sampel data berisi panggilan\n",
    "call_df.head()"
   ]
  },
  {
   "cell_type": "markdown",
   "metadata": {},
   "source": [
    "Terlihat pada Data diatas bahwa terdapat 4 kolom yang terdiri dari id, user_id, call_date dan duration. call_date akan diubah type nya menjadi type date. \n"
   ]
  },
 
  {
   "cell_type": "markdown",
   "metadata": {},
   "source": [
    "### Memperbaiki Data"
   ]
  },
  {
   "cell_type": "markdown",
   "metadata": {},
   "source": [
    "Dalam pencocokan informasi diatas, maka call_date akan diubah menjadi tipe datetime. Kolom duration juga akan diubah tipe datanya menjadi int.\n"
   ]
  },
  {
   "cell_type": "code",
   "execution_count": 29,
   "metadata": {
    "scrolled": true
   },
   "outputs": [
    {
     "data": {
      "text/plain": [
       "0"
      ]
     },
     "execution_count": 29,
     "metadata": {},
     "output_type": "execute_result"
    }
   ],
   "source": [
    "call_df.duplicated().sum()"
   ]
  },
  {
   "cell_type": "markdown",
   "metadata": {},
   "source": [
    "Mengubah tipe data 'call_date' menjadi datetime dan mengubah kolom duration menjadi int16."
   ]
  },
  {
   "cell_type": "code",
   "execution_count": 30,
   "metadata": {},
   "outputs": [],
   "source": [
    "call_df['call_date'] = toDate(call_df, 'call_date')"
   ]
  },
  {
   "cell_type": "code",
   "execution_count": 31,
   "metadata": {},
   "outputs": [],
   "source": [
    "call_df['duration'] = np.ceil(call_df['duration'])"
   ]
  },
  {
   "cell_type": "code",
   "execution_count": 32,
   "metadata": {},
   "outputs": [
    {
     "name": "stdout",
     "output_type": "stream",
     "text": [
      "<class 'pandas.core.frame.DataFrame'>\n",
      "RangeIndex: 137735 entries, 0 to 137734\n",
      "Data columns (total 4 columns):\n",
      " #   Column     Non-Null Count   Dtype         \n",
      "---  ------     --------------   -----         \n",
      " 0   id         137735 non-null  object        \n",
      " 1   user_id    137735 non-null  int64         \n",
      " 2   call_date  137735 non-null  datetime64[ns]\n",
      " 3   duration   137735 non-null  float64       \n",
      "dtypes: datetime64[ns](1), float64(1), int64(1), object(1)\n",
      "memory usage: 4.2+ MB\n"
     ]
    },
    {
     "data": {
      "text/html": [
       "<div>\n",
       "<style scoped>\n",
       "    .dataframe tbody tr th:only-of-type {\n",
       "        vertical-align: middle;\n",
       "    }\n",
       "\n",
       "    .dataframe tbody tr th {\n",
       "        vertical-align: top;\n",
       "    }\n",
       "\n",
       "    .dataframe thead th {\n",
       "        text-align: right;\n",
       "    }\n",
       "</style>\n",
       "<table border=\"1\" class=\"dataframe\">\n",
       "  <thead>\n",
       "    <tr style=\"text-align: right;\">\n",
       "      <th></th>\n",
       "      <th>id</th>\n",
       "      <th>user_id</th>\n",
       "      <th>call_date</th>\n",
       "      <th>duration</th>\n",
       "    </tr>\n",
       "  </thead>\n",
       "  <tbody>\n",
       "    <tr>\n",
       "      <th>0</th>\n",
       "      <td>1000_93</td>\n",
       "      <td>1000</td>\n",
       "      <td>2018-12-27</td>\n",
       "      <td>9.0</td>\n",
       "    </tr>\n",
       "    <tr>\n",
       "      <th>1</th>\n",
       "      <td>1000_145</td>\n",
       "      <td>1000</td>\n",
       "      <td>2018-12-27</td>\n",
       "      <td>14.0</td>\n",
       "    </tr>\n",
       "    <tr>\n",
       "      <th>2</th>\n",
       "      <td>1000_247</td>\n",
       "      <td>1000</td>\n",
       "      <td>2018-12-27</td>\n",
       "      <td>15.0</td>\n",
       "    </tr>\n",
       "    <tr>\n",
       "      <th>3</th>\n",
       "      <td>1000_309</td>\n",
       "      <td>1000</td>\n",
       "      <td>2018-12-28</td>\n",
       "      <td>6.0</td>\n",
       "    </tr>\n",
       "    <tr>\n",
       "      <th>4</th>\n",
       "      <td>1000_380</td>\n",
       "      <td>1000</td>\n",
       "      <td>2018-12-30</td>\n",
       "      <td>5.0</td>\n",
       "    </tr>\n",
       "  </tbody>\n",
       "</table>\n",
       "</div>"
      ],
      "text/plain": [
       "         id  user_id  call_date  duration\n",
       "0   1000_93     1000 2018-12-27       9.0\n",
       "1  1000_145     1000 2018-12-27      14.0\n",
       "2  1000_247     1000 2018-12-27      15.0\n",
       "3  1000_309     1000 2018-12-28       6.0\n",
       "4  1000_380     1000 2018-12-30       5.0"
      ]
     },
     "execution_count": 32,
     "metadata": {},
     "output_type": "execute_result"
    }
   ],
   "source": [
    "call_df.info()\n",
    "call_df.head()"
   ]
  },
 
  {
   "cell_type": "markdown",
   "metadata": {},
   "source": [
    "### Memperkaya Kualitas Data"
   ]
  },
  {
   "cell_type": "markdown",
   "metadata": {},
   "source": [
    "Mari kita tambahkan kolom bulan untuk memudahkan pengkategorian transaksi dalam hitungan bulan. Sealnjutnya, duration disini masih berjenis detik, dimana nantinya kita harus mengganti satuan waktu nya menjadi menit.\n"
   ]
  },
  {
   "cell_type": "markdown",
   "metadata": {},
   "source": [
    "Membuat kolom baru dimana tertera bulan tahun saja pada kolom"
   ]
  },
  {
   "cell_type": "code",
   "execution_count": 33,
   "metadata": {},
   "outputs": [],
   "source": [
    "call_df['month'] = monthOnly(call_df, 'call_date')"
   ]
  },
  {
   "cell_type": "markdown",
   "metadata": {},
   "source": [
    "Membuat kolom baru yaitu kolom jumlah menit  dengan menggunakan pivot tavble"
   ]
  },
  {
   "cell_type": "code",
   "execution_count": 34,
   "metadata": {},
   "outputs": [],
   "source": [
    "call_agg = call_df.pivot_table(index = ['user_id', 'month'], values = 'duration', aggfunc = 'sum').reset_index()"
   ]
  },
  {
   "cell_type": "code",
   "execution_count": 35,
   "metadata": {},
   "outputs": [],
   "source": [
    "call_agg.columns = ['user_id', 'month', 'sum_min']"
   ]
  },
  {
   "cell_type": "code",
   "execution_count": 36,
   "metadata": {},
   "outputs": [
    {
     "data": {
      "text/html": [
       "<div>\n",
       "<style scoped>\n",
       "    .dataframe tbody tr th:only-of-type {\n",
       "        vertical-align: middle;\n",
       "    }\n",
       "\n",
       "    .dataframe tbody tr th {\n",
       "        vertical-align: top;\n",
       "    }\n",
       "\n",
       "    .dataframe thead th {\n",
       "        text-align: right;\n",
       "    }\n",
       "</style>\n",
       "<table border=\"1\" class=\"dataframe\">\n",
       "  <thead>\n",
       "    <tr style=\"text-align: right;\">\n",
       "      <th></th>\n",
       "      <th>user_id</th>\n",
       "      <th>month</th>\n",
       "      <th>sum_min</th>\n",
       "    </tr>\n",
       "  </thead>\n",
       "  <tbody>\n",
       "    <tr>\n",
       "      <th>0</th>\n",
       "      <td>1000</td>\n",
       "      <td>2018-12</td>\n",
       "      <td>124.0</td>\n",
       "    </tr>\n",
       "    <tr>\n",
       "      <th>1</th>\n",
       "      <td>1001</td>\n",
       "      <td>2018-08</td>\n",
       "      <td>182.0</td>\n",
       "    </tr>\n",
       "    <tr>\n",
       "      <th>2</th>\n",
       "      <td>1001</td>\n",
       "      <td>2018-09</td>\n",
       "      <td>315.0</td>\n",
       "    </tr>\n",
       "    <tr>\n",
       "      <th>3</th>\n",
       "      <td>1001</td>\n",
       "      <td>2018-10</td>\n",
       "      <td>393.0</td>\n",
       "    </tr>\n",
       "    <tr>\n",
       "      <th>4</th>\n",
       "      <td>1001</td>\n",
       "      <td>2018-11</td>\n",
       "      <td>426.0</td>\n",
       "    </tr>\n",
       "    <tr>\n",
       "      <th>5</th>\n",
       "      <td>1001</td>\n",
       "      <td>2018-12</td>\n",
       "      <td>412.0</td>\n",
       "    </tr>\n",
       "    <tr>\n",
       "      <th>6</th>\n",
       "      <td>1002</td>\n",
       "      <td>2018-10</td>\n",
       "      <td>59.0</td>\n",
       "    </tr>\n",
       "    <tr>\n",
       "      <th>7</th>\n",
       "      <td>1002</td>\n",
       "      <td>2018-11</td>\n",
       "      <td>386.0</td>\n",
       "    </tr>\n",
       "    <tr>\n",
       "      <th>8</th>\n",
       "      <td>1002</td>\n",
       "      <td>2018-12</td>\n",
       "      <td>384.0</td>\n",
       "    </tr>\n",
       "    <tr>\n",
       "      <th>9</th>\n",
       "      <td>1003</td>\n",
       "      <td>2018-12</td>\n",
       "      <td>1104.0</td>\n",
       "    </tr>\n",
       "  </tbody>\n",
       "</table>\n",
       "</div>"
      ],
      "text/plain": [
       "   user_id    month  sum_min\n",
       "0     1000  2018-12    124.0\n",
       "1     1001  2018-08    182.0\n",
       "2     1001  2018-09    315.0\n",
       "3     1001  2018-10    393.0\n",
       "4     1001  2018-11    426.0\n",
       "5     1001  2018-12    412.0\n",
       "6     1002  2018-10     59.0\n",
       "7     1002  2018-11    386.0\n",
       "8     1002  2018-12    384.0\n",
       "9     1003  2018-12   1104.0"
      ]
     },
     "execution_count": 36,
     "metadata": {},
     "output_type": "execute_result"
    }
   ],
   "source": [
    "call_agg.head(10)"
   ]
  },

  {
   "cell_type": "markdown",
   "metadata": {},
   "source": [
    "## Pesan/SMS\n",
    "Pada tahap ini kita akan mencocokan kolom-kolom yang tersedia dengan info nya pada mesg_df. Pada tahap ini juga akan dilakukan  perbaikan data jika ada yang kosong dan duplikat. Akan dilakukan juga penambahan kolom untuk memperkaya informasi pada data, jika diperlukan."
   ]
  },
  {
   "cell_type": "code",
   "execution_count": 37,
   "metadata": {},
   "outputs": [
    {
     "name": "stdout",
     "output_type": "stream",
     "text": [
      "<class 'pandas.core.frame.DataFrame'>\n",
      "RangeIndex: 76051 entries, 0 to 76050\n",
      "Data columns (total 3 columns):\n",
      " #   Column        Non-Null Count  Dtype \n",
      "---  ------        --------------  ----- \n",
      " 0   id            76051 non-null  object\n",
      " 1   user_id       76051 non-null  int64 \n",
      " 2   message_date  76051 non-null  object\n",
      "dtypes: int64(1), object(2)\n",
      "memory usage: 1.7+ MB\n"
     ]
    }
   ],
   "source": [
    "# Tampilkan informasi/rangkuman umum tentang DataFrame SMS\n",
    "mesg_df.info()"
   ]
  },
  {
   "cell_type": "code",
   "execution_count": 38,
   "metadata": {},
   "outputs": [
    {
     "data": {
      "text/html": [
       "<div>\n",
       "<style scoped>\n",
       "    .dataframe tbody tr th:only-of-type {\n",
       "        vertical-align: middle;\n",
       "    }\n",
       "\n",
       "    .dataframe tbody tr th {\n",
       "        vertical-align: top;\n",
       "    }\n",
       "\n",
       "    .dataframe thead th {\n",
       "        text-align: right;\n",
       "    }\n",
       "</style>\n",
       "<table border=\"1\" class=\"dataframe\">\n",
       "  <thead>\n",
       "    <tr style=\"text-align: right;\">\n",
       "      <th></th>\n",
       "      <th>id</th>\n",
       "      <th>user_id</th>\n",
       "      <th>message_date</th>\n",
       "    </tr>\n",
       "  </thead>\n",
       "  <tbody>\n",
       "    <tr>\n",
       "      <th>0</th>\n",
       "      <td>1000_125</td>\n",
       "      <td>1000</td>\n",
       "      <td>2018-12-27</td>\n",
       "    </tr>\n",
       "    <tr>\n",
       "      <th>1</th>\n",
       "      <td>1000_160</td>\n",
       "      <td>1000</td>\n",
       "      <td>2018-12-31</td>\n",
       "    </tr>\n",
       "    <tr>\n",
       "      <th>2</th>\n",
       "      <td>1000_223</td>\n",
       "      <td>1000</td>\n",
       "      <td>2018-12-31</td>\n",
       "    </tr>\n",
       "    <tr>\n",
       "      <th>3</th>\n",
       "      <td>1000_251</td>\n",
       "      <td>1000</td>\n",
       "      <td>2018-12-27</td>\n",
       "    </tr>\n",
       "    <tr>\n",
       "      <th>4</th>\n",
       "      <td>1000_255</td>\n",
       "      <td>1000</td>\n",
       "      <td>2018-12-26</td>\n",
       "    </tr>\n",
       "  </tbody>\n",
       "</table>\n",
       "</div>"
      ],
      "text/plain": [
       "         id  user_id message_date\n",
       "0  1000_125     1000   2018-12-27\n",
       "1  1000_160     1000   2018-12-31\n",
       "2  1000_223     1000   2018-12-31\n",
       "3  1000_251     1000   2018-12-27\n",
       "4  1000_255     1000   2018-12-26"
      ]
     },
     "execution_count": 38,
     "metadata": {},
     "output_type": "execute_result"
    }
   ],
   "source": [
    "# Tampilkan sampel data untuk SMS\n",
    "\n",
    "mesg_df.head()"
   ]
  },
  {
   "cell_type": "markdown",
   "metadata": {},
   "source": [
    "Terdapat 3 kolom dan 76050 baris dengan kolom mesg_date yang masih bertipe object. Pada kolom id bermaksud 1 kali SMS terkirim dari pelanggan."
   ]
  },
 
  {
   "cell_type": "markdown",
   "metadata": {},
   "source": [
    " "
   ]
  },
  {
   "cell_type": "markdown",
   "metadata": {},
   "source": [
    "### Memperbaiki Data"
   ]
  },
  {
   "cell_type": "markdown",
   "metadata": {},
   "source": [
    "\n",
    "Dalam memperbaiki dataframe mesg_df yang harus dilakukan adalah mengubah tipe data kolom message_date menjadi tipe date."
   ]
  },
  {
   "cell_type": "code",
   "execution_count": 39,
   "metadata": {},
   "outputs": [],
   "source": [
    "mesg_df['message_date'] = toDate(mesg_df, 'message_date')"
   ]
  },
  {
   "cell_type": "code",
   "execution_count": 40,
   "metadata": {},
   "outputs": [
    {
     "name": "stdout",
     "output_type": "stream",
     "text": [
      "<class 'pandas.core.frame.DataFrame'>\n",
      "RangeIndex: 76051 entries, 0 to 76050\n",
      "Data columns (total 3 columns):\n",
      " #   Column        Non-Null Count  Dtype         \n",
      "---  ------        --------------  -----         \n",
      " 0   id            76051 non-null  object        \n",
      " 1   user_id       76051 non-null  int64         \n",
      " 2   message_date  76051 non-null  datetime64[ns]\n",
      "dtypes: datetime64[ns](1), int64(1), object(1)\n",
      "memory usage: 1.7+ MB\n"
     ]
    }
   ],
   "source": [
    "mesg_df.info()"
   ]
  },
 
  {
   "cell_type": "markdown",
   "metadata": {},
   "source": [
    "### Memperkaya Kualitas Data"
   ]
  },
  {
   "cell_type": "markdown",
   "metadata": {},
   "source": [
    "Dalam memperkaya kualitas data hal yang dibutuhkan ialah informasi tentang berapa banyak SMS yang dikirimkan pelanggan dalam kurun waktu sebulan. Untuk itu penambah kolom pertama adalah kolom month-year. Lalu perlu ditambahkan kolom yang memberikan informasi berapa kali SMS terkirim oleh pelanggan tersebut pada bulan tertentu. \n",
    "\n"
   ]
  },
  {
   "cell_type": "markdown",
   "metadata": {},
   "source": [
    "Dalam meperkaya kualitas data dataframe mesg_df yang harus dilakukan adalah menambahkan kolom informasi kolom month-year"
   ]
  },
  {
   "cell_type": "code",
   "execution_count": 41,
   "metadata": {},
   "outputs": [],
   "source": [
    "mesg_df['month'] = monthOnly(mesg_df, 'message_date')"
   ]
  },
  {
   "cell_type": "markdown",
   "metadata": {},
   "source": [
    "Membuat pivot_table pada datagram, guna menambahkan informasi berapa jumlah SMS yang terkirim pada masing-masing pelanggan pada bulan tertentu."
   ]
  },
  {
   "cell_type": "code",
   "execution_count": 42,
   "metadata": {},
   "outputs": [],
   "source": [
    "mesg_agg = mesg_df.pivot_table(index= ['user_id','month'], values= 'id', aggfunc='count').reset_index()"
   ]
  },
  {
   "cell_type": "code",
   "execution_count": 43,
   "metadata": {},
   "outputs": [],
   "source": [
    "mesg_agg.columns = ['user_id', 'month', 'mesg_sum']"
   ]
  },
  {
   "cell_type": "code",
   "execution_count": 44,
   "metadata": {},
   "outputs": [
    {
     "data": {
      "text/html": [
       "<div>\n",
       "<style scoped>\n",
       "    .dataframe tbody tr th:only-of-type {\n",
       "        vertical-align: middle;\n",
       "    }\n",
       "\n",
       "    .dataframe tbody tr th {\n",
       "        vertical-align: top;\n",
       "    }\n",
       "\n",
       "    .dataframe thead th {\n",
       "        text-align: right;\n",
       "    }\n",
       "</style>\n",
       "<table border=\"1\" class=\"dataframe\">\n",
       "  <thead>\n",
       "    <tr style=\"text-align: right;\">\n",
       "      <th></th>\n",
       "      <th>user_id</th>\n",
       "      <th>month</th>\n",
       "      <th>mesg_sum</th>\n",
       "    </tr>\n",
       "  </thead>\n",
       "  <tbody>\n",
       "    <tr>\n",
       "      <th>0</th>\n",
       "      <td>1000</td>\n",
       "      <td>2018-12</td>\n",
       "      <td>11</td>\n",
       "    </tr>\n",
       "    <tr>\n",
       "      <th>1</th>\n",
       "      <td>1001</td>\n",
       "      <td>2018-08</td>\n",
       "      <td>30</td>\n",
       "    </tr>\n",
       "    <tr>\n",
       "      <th>2</th>\n",
       "      <td>1001</td>\n",
       "      <td>2018-09</td>\n",
       "      <td>44</td>\n",
       "    </tr>\n",
       "    <tr>\n",
       "      <th>3</th>\n",
       "      <td>1001</td>\n",
       "      <td>2018-10</td>\n",
       "      <td>53</td>\n",
       "    </tr>\n",
       "    <tr>\n",
       "      <th>4</th>\n",
       "      <td>1001</td>\n",
       "      <td>2018-11</td>\n",
       "      <td>36</td>\n",
       "    </tr>\n",
       "  </tbody>\n",
       "</table>\n",
       "</div>"
      ],
      "text/plain": [
       "   user_id    month  mesg_sum\n",
       "0     1000  2018-12        11\n",
       "1     1001  2018-08        30\n",
       "2     1001  2018-09        44\n",
       "3     1001  2018-10        53\n",
       "4     1001  2018-11        36"
      ]
     },
     "execution_count": 44,
     "metadata": {},
     "output_type": "execute_result"
    }
   ],
   "source": [
    "mesg_agg.head()"
   ]
  },

  {
   "cell_type": "markdown",
   "metadata": {},
   "source": [
    "## Internet\n",
    "Pada tahap ini kita akan mencocokan kolom-kolom yang tersedia dengan info nya pada inet_df. Pada tahap ini juga akan dilakukan  perbaikan data jika ada yang kosong dan duplikat. Akan dilakukan juga penambahan kolom untuk memperkaya informasi pada data, jika diperlukan."
   ]
  },
  {
   "cell_type": "code",
   "execution_count": 45,
   "metadata": {},
   "outputs": [
    {
     "name": "stdout",
     "output_type": "stream",
     "text": [
      "<class 'pandas.core.frame.DataFrame'>\n",
      "RangeIndex: 104825 entries, 0 to 104824\n",
      "Data columns (total 4 columns):\n",
      " #   Column        Non-Null Count   Dtype  \n",
      "---  ------        --------------   -----  \n",
      " 0   id            104825 non-null  object \n",
      " 1   user_id       104825 non-null  int64  \n",
      " 2   session_date  104825 non-null  object \n",
      " 3   mb_used       104825 non-null  float64\n",
      "dtypes: float64(1), int64(1), object(2)\n",
      "memory usage: 3.2+ MB\n"
     ]
    }
   ],
   "source": [
    "# Tampilkan informasi/rangkuman umum tentang DataFrame internet\n",
    "inet_df.info()"
   ]
  },
  {
   "cell_type": "code",
   "execution_count": 46,
   "metadata": {},
   "outputs": [
    {
     "data": {
      "text/html": [
       "<div>\n",
       "<style scoped>\n",
       "    .dataframe tbody tr th:only-of-type {\n",
       "        vertical-align: middle;\n",
       "    }\n",
       "\n",
       "    .dataframe tbody tr th {\n",
       "        vertical-align: top;\n",
       "    }\n",
       "\n",
       "    .dataframe thead th {\n",
       "        text-align: right;\n",
       "    }\n",
       "</style>\n",
       "<table border=\"1\" class=\"dataframe\">\n",
       "  <thead>\n",
       "    <tr style=\"text-align: right;\">\n",
       "      <th></th>\n",
       "      <th>id</th>\n",
       "      <th>user_id</th>\n",
       "      <th>session_date</th>\n",
       "      <th>mb_used</th>\n",
       "    </tr>\n",
       "  </thead>\n",
       "  <tbody>\n",
       "    <tr>\n",
       "      <th>0</th>\n",
       "      <td>1000_13</td>\n",
       "      <td>1000</td>\n",
       "      <td>2018-12-29</td>\n",
       "      <td>89.86</td>\n",
       "    </tr>\n",
       "    <tr>\n",
       "      <th>1</th>\n",
       "      <td>1000_204</td>\n",
       "      <td>1000</td>\n",
       "      <td>2018-12-31</td>\n",
       "      <td>0.00</td>\n",
       "    </tr>\n",
       "    <tr>\n",
       "      <th>2</th>\n",
       "      <td>1000_379</td>\n",
       "      <td>1000</td>\n",
       "      <td>2018-12-28</td>\n",
       "      <td>660.40</td>\n",
       "    </tr>\n",
       "    <tr>\n",
       "      <th>3</th>\n",
       "      <td>1000_413</td>\n",
       "      <td>1000</td>\n",
       "      <td>2018-12-26</td>\n",
       "      <td>270.99</td>\n",
       "    </tr>\n",
       "    <tr>\n",
       "      <th>4</th>\n",
       "      <td>1000_442</td>\n",
       "      <td>1000</td>\n",
       "      <td>2018-12-27</td>\n",
       "      <td>880.22</td>\n",
       "    </tr>\n",
       "  </tbody>\n",
       "</table>\n",
       "</div>"
      ],
      "text/plain": [
       "         id  user_id session_date  mb_used\n",
       "0   1000_13     1000   2018-12-29    89.86\n",
       "1  1000_204     1000   2018-12-31     0.00\n",
       "2  1000_379     1000   2018-12-28   660.40\n",
       "3  1000_413     1000   2018-12-26   270.99\n",
       "4  1000_442     1000   2018-12-27   880.22"
      ]
     },
     "execution_count": 46,
     "metadata": {},
     "output_type": "execute_result"
    }
   ],
   "source": [
    "# Tampilkan sampel data untuk traffic internet\n",
    "inet_df.head()"
   ]
  },
  {
   "cell_type": "markdown",
   "metadata": {},
   "source": [
    "Pada datafram inet_df terlihat ada 4 kolom dengan 104825 baris dengan kolom session_date yang masih bertipe object, juga mb_used yang masih berbentuk float. Lalu harus ditambahkan kolom yang memberikan informasi pemakaian dalam bentuk satuan GB perbulan nya agar memudahkan penghitungan untuk per-bulannya."
   ]
  },

  {
   "cell_type": "markdown",
   "metadata": {},
   "source": [
    " "
   ]
  },
  {
   "cell_type": "markdown",
   "metadata": {},
   "source": [
    "### Memperbaiki Data"
   ]
  },
  {
   "cell_type": "markdown",
   "metadata": {},
   "source": [
    "Hal yang harus diperbaiki dalam dataframe inet_df adalah kolom session_date dan mengubah tipe data mb_used.\n"
   ]
  },
  {
   "cell_type": "code",
   "execution_count": 47,
   "metadata": {},
   "outputs": [],
   "source": [
    "inet_df['session_date'] = toDate(inet_df, 'session_date')"
   ]
  },
  {
   "cell_type": "code",
   "execution_count": 48,
   "metadata": {},
   "outputs": [],
   "source": [
    "inet_df['mb_used'] = inet_df['mb_used'].astype('int16')"
   ]
  },
  {
   "cell_type": "code",
   "execution_count": 49,
   "metadata": {},
   "outputs": [
    {
     "name": "stdout",
     "output_type": "stream",
     "text": [
      "<class 'pandas.core.frame.DataFrame'>\n",
      "RangeIndex: 104825 entries, 0 to 104824\n",
      "Data columns (total 4 columns):\n",
      " #   Column        Non-Null Count   Dtype         \n",
      "---  ------        --------------   -----         \n",
      " 0   id            104825 non-null  object        \n",
      " 1   user_id       104825 non-null  int64         \n",
      " 2   session_date  104825 non-null  datetime64[ns]\n",
      " 3   mb_used       104825 non-null  int16         \n",
      "dtypes: datetime64[ns](1), int16(1), int64(1), object(1)\n",
      "memory usage: 2.6+ MB\n"
     ]
    }
   ],
   "source": [
    "inet_df.info()"
   ]
  },
 
  {
   "cell_type": "markdown",
   "metadata": {},
   "source": [
    "### Memperkaya Kualitas Data"
   ]
  },
  {
   "cell_type": "markdown",
   "metadata": {},
   "source": [
    "Hal yang harus diperkaya pada dataframe ialah penambahan kolom month-year dan juga menjumlah semua penggunaan mb_used lalu menambahkan kolom gb_used yang isinya mb_used dikonversasi menjadi satuan GB."
   ]
  },
  {
   "cell_type": "code",
   "execution_count": 50,
   "metadata": {},
   "outputs": [],
   "source": [
    "inet_df['month'] = monthOnly(inet_df, 'session_date')"
   ]
  },
  {
   "cell_type": "code",
   "execution_count": 51,
   "metadata": {},
   "outputs": [],
   "source": [
    "inet_agg = inet_df.pivot_table(index =['user_id', 'month'], values = 'mb_used', aggfunc='sum').reset_index()"
   ]
  },
  {
   "cell_type": "code",
   "execution_count": 52,
   "metadata": {},
   "outputs": [
    {
     "data": {
      "text/html": [
       "<div>\n",
       "<style scoped>\n",
       "    .dataframe tbody tr th:only-of-type {\n",
       "        vertical-align: middle;\n",
       "    }\n",
       "\n",
       "    .dataframe tbody tr th {\n",
       "        vertical-align: top;\n",
       "    }\n",
       "\n",
       "    .dataframe thead th {\n",
       "        text-align: right;\n",
       "    }\n",
       "</style>\n",
       "<table border=\"1\" class=\"dataframe\">\n",
       "  <thead>\n",
       "    <tr style=\"text-align: right;\">\n",
       "      <th></th>\n",
       "      <th>user_id</th>\n",
       "      <th>month</th>\n",
       "      <th>mb_used</th>\n",
       "    </tr>\n",
       "  </thead>\n",
       "  <tbody>\n",
       "    <tr>\n",
       "      <th>0</th>\n",
       "      <td>1000</td>\n",
       "      <td>2018-12</td>\n",
       "      <td>1899.0</td>\n",
       "    </tr>\n",
       "    <tr>\n",
       "      <th>1</th>\n",
       "      <td>1001</td>\n",
       "      <td>2018-08</td>\n",
       "      <td>6908.0</td>\n",
       "    </tr>\n",
       "    <tr>\n",
       "      <th>2</th>\n",
       "      <td>1001</td>\n",
       "      <td>2018-09</td>\n",
       "      <td>13294.0</td>\n",
       "    </tr>\n",
       "    <tr>\n",
       "      <th>3</th>\n",
       "      <td>1001</td>\n",
       "      <td>2018-10</td>\n",
       "      <td>22308.0</td>\n",
       "    </tr>\n",
       "    <tr>\n",
       "      <th>4</th>\n",
       "      <td>1001</td>\n",
       "      <td>2018-11</td>\n",
       "      <td>18477.0</td>\n",
       "    </tr>\n",
       "    <tr>\n",
       "      <th>5</th>\n",
       "      <td>1001</td>\n",
       "      <td>2018-12</td>\n",
       "      <td>19345.0</td>\n",
       "    </tr>\n",
       "    <tr>\n",
       "      <th>6</th>\n",
       "      <td>1002</td>\n",
       "      <td>2018-10</td>\n",
       "      <td>6544.0</td>\n",
       "    </tr>\n",
       "    <tr>\n",
       "      <th>7</th>\n",
       "      <td>1002</td>\n",
       "      <td>2018-11</td>\n",
       "      <td>19320.0</td>\n",
       "    </tr>\n",
       "    <tr>\n",
       "      <th>8</th>\n",
       "      <td>1002</td>\n",
       "      <td>2018-12</td>\n",
       "      <td>14379.0</td>\n",
       "    </tr>\n",
       "    <tr>\n",
       "      <th>9</th>\n",
       "      <td>1003</td>\n",
       "      <td>2018-12</td>\n",
       "      <td>27019.0</td>\n",
       "    </tr>\n",
       "  </tbody>\n",
       "</table>\n",
       "</div>"
      ],
      "text/plain": [
       "   user_id    month  mb_used\n",
       "0     1000  2018-12   1899.0\n",
       "1     1001  2018-08   6908.0\n",
       "2     1001  2018-09  13294.0\n",
       "3     1001  2018-10  22308.0\n",
       "4     1001  2018-11  18477.0\n",
       "5     1001  2018-12  19345.0\n",
       "6     1002  2018-10   6544.0\n",
       "7     1002  2018-11  19320.0\n",
       "8     1002  2018-12  14379.0\n",
       "9     1003  2018-12  27019.0"
      ]
     },
     "execution_count": 52,
     "metadata": {},
     "output_type": "execute_result"
    }
   ],
   "source": [
    "inet_agg.head(10)"
   ]
  },
  {
   "cell_type": "code",
   "execution_count": 53,
   "metadata": {},
   "outputs": [],
   "source": [
    "inet_agg['gb_used'] = np.ceil(inet_agg['mb_used'] / 1024)\n"
   ]
  },
  {
   "cell_type": "code",
   "execution_count": 54,
   "metadata": {
    "scrolled": true
   },
   "outputs": [
    {
     "data": {
      "text/html": [
       "<div>\n",
       "<style scoped>\n",
       "    .dataframe tbody tr th:only-of-type {\n",
       "        vertical-align: middle;\n",
       "    }\n",
       "\n",
       "    .dataframe tbody tr th {\n",
       "        vertical-align: top;\n",
       "    }\n",
       "\n",
       "    .dataframe thead th {\n",
       "        text-align: right;\n",
       "    }\n",
       "</style>\n",
       "<table border=\"1\" class=\"dataframe\">\n",
       "  <thead>\n",
       "    <tr style=\"text-align: right;\">\n",
       "      <th></th>\n",
       "      <th>user_id</th>\n",
       "      <th>month</th>\n",
       "      <th>mb_used</th>\n",
       "      <th>gb_used</th>\n",
       "    </tr>\n",
       "  </thead>\n",
       "  <tbody>\n",
       "    <tr>\n",
       "      <th>0</th>\n",
       "      <td>1000</td>\n",
       "      <td>2018-12</td>\n",
       "      <td>1899.0</td>\n",
       "      <td>2.0</td>\n",
       "    </tr>\n",
       "    <tr>\n",
       "      <th>1</th>\n",
       "      <td>1001</td>\n",
       "      <td>2018-08</td>\n",
       "      <td>6908.0</td>\n",
       "      <td>7.0</td>\n",
       "    </tr>\n",
       "    <tr>\n",
       "      <th>2</th>\n",
       "      <td>1001</td>\n",
       "      <td>2018-09</td>\n",
       "      <td>13294.0</td>\n",
       "      <td>13.0</td>\n",
       "    </tr>\n",
       "    <tr>\n",
       "      <th>3</th>\n",
       "      <td>1001</td>\n",
       "      <td>2018-10</td>\n",
       "      <td>22308.0</td>\n",
       "      <td>22.0</td>\n",
       "    </tr>\n",
       "    <tr>\n",
       "      <th>4</th>\n",
       "      <td>1001</td>\n",
       "      <td>2018-11</td>\n",
       "      <td>18477.0</td>\n",
       "      <td>19.0</td>\n",
       "    </tr>\n",
       "    <tr>\n",
       "      <th>5</th>\n",
       "      <td>1001</td>\n",
       "      <td>2018-12</td>\n",
       "      <td>19345.0</td>\n",
       "      <td>19.0</td>\n",
       "    </tr>\n",
       "    <tr>\n",
       "      <th>6</th>\n",
       "      <td>1002</td>\n",
       "      <td>2018-10</td>\n",
       "      <td>6544.0</td>\n",
       "      <td>7.0</td>\n",
       "    </tr>\n",
       "    <tr>\n",
       "      <th>7</th>\n",
       "      <td>1002</td>\n",
       "      <td>2018-11</td>\n",
       "      <td>19320.0</td>\n",
       "      <td>19.0</td>\n",
       "    </tr>\n",
       "    <tr>\n",
       "      <th>8</th>\n",
       "      <td>1002</td>\n",
       "      <td>2018-12</td>\n",
       "      <td>14379.0</td>\n",
       "      <td>15.0</td>\n",
       "    </tr>\n",
       "    <tr>\n",
       "      <th>9</th>\n",
       "      <td>1003</td>\n",
       "      <td>2018-12</td>\n",
       "      <td>27019.0</td>\n",
       "      <td>27.0</td>\n",
       "    </tr>\n",
       "  </tbody>\n",
       "</table>\n",
       "</div>"
      ],
      "text/plain": [
       "   user_id    month  mb_used  gb_used\n",
       "0     1000  2018-12   1899.0      2.0\n",
       "1     1001  2018-08   6908.0      7.0\n",
       "2     1001  2018-09  13294.0     13.0\n",
       "3     1001  2018-10  22308.0     22.0\n",
       "4     1001  2018-11  18477.0     19.0\n",
       "5     1001  2018-12  19345.0     19.0\n",
       "6     1002  2018-10   6544.0      7.0\n",
       "7     1002  2018-11  19320.0     19.0\n",
       "8     1002  2018-12  14379.0     15.0\n",
       "9     1003  2018-12  27019.0     27.0"
      ]
     },
     "execution_count": 54,
     "metadata": {},
     "output_type": "execute_result"
    }
   ],
   "source": [
    "inet_agg.head(10)"
   ]
  },
 
  {
   "cell_type": "markdown",
   "metadata": {},
   "source": [
    "## Mempelajari Syarat dan Kondisi Terkait Paket Prabayar"
   ]
  },
  {
   "cell_type": "markdown",
   "metadata": {},
   "source": [
    "Sangat penting untuk memahami cara kerja paket, bagaimana pengguna dikenakan biaya berdasarkan paket prabayar yang mereka pilih. "
   ]
  },
  {
   "cell_type": "code",
   "execution_count": 55,
   "metadata": {},
   "outputs": [
    {
     "data": {
      "text/html": [
       "<div>\n",
       "<style scoped>\n",
       "    .dataframe tbody tr th:only-of-type {\n",
       "        vertical-align: middle;\n",
       "    }\n",
       "\n",
       "    .dataframe tbody tr th {\n",
       "        vertical-align: top;\n",
       "    }\n",
       "\n",
       "    .dataframe thead th {\n",
       "        text-align: right;\n",
       "    }\n",
       "</style>\n",
       "<table border=\"1\" class=\"dataframe\">\n",
       "  <thead>\n",
       "    <tr style=\"text-align: right;\">\n",
       "      <th></th>\n",
       "      <th>messages_included</th>\n",
       "      <th>mb_per_month_included</th>\n",
       "      <th>minutes_included</th>\n",
       "      <th>usd_monthly_pay</th>\n",
       "      <th>usd_per_gb</th>\n",
       "      <th>usd_per_message</th>\n",
       "      <th>usd_per_minute</th>\n",
       "      <th>plan_name</th>\n",
       "      <th>gb_month</th>\n",
       "    </tr>\n",
       "  </thead>\n",
       "  <tbody>\n",
       "    <tr>\n",
       "      <th>0</th>\n",
       "      <td>50</td>\n",
       "      <td>15360</td>\n",
       "      <td>500</td>\n",
       "      <td>20</td>\n",
       "      <td>10</td>\n",
       "      <td>0.03</td>\n",
       "      <td>0.03</td>\n",
       "      <td>surf</td>\n",
       "      <td>15</td>\n",
       "    </tr>\n",
       "    <tr>\n",
       "      <th>1</th>\n",
       "      <td>1000</td>\n",
       "      <td>30720</td>\n",
       "      <td>3000</td>\n",
       "      <td>70</td>\n",
       "      <td>7</td>\n",
       "      <td>0.01</td>\n",
       "      <td>0.01</td>\n",
       "      <td>ultimate</td>\n",
       "      <td>30</td>\n",
       "    </tr>\n",
       "  </tbody>\n",
       "</table>\n",
       "</div>"
      ],
      "text/plain": [
       "   messages_included  mb_per_month_included  minutes_included  \\\n",
       "0                 50                  15360               500   \n",
       "1               1000                  30720              3000   \n",
       "\n",
       "   usd_monthly_pay  usd_per_gb  usd_per_message  usd_per_minute plan_name  \\\n",
       "0               20          10             0.03            0.03      surf   \n",
       "1               70           7             0.01            0.01  ultimate   \n",
       "\n",
       "   gb_month  \n",
       "0        15  \n",
       "1        30  "
      ]
     },
     "execution_count": 55,
     "metadata": {},
     "output_type": "execute_result"
    }
   ],
   "source": [
    "# Tampilkan persyaratan paket prabayar dan pastikan Anda memahaminya\n",
    "plan_df"
   ]
  },

  {
   "cell_type": "markdown",
   "metadata": {},
   "source": [
    "## Mengagregasi Data per Pengguna\n",
    "\n",
    "Data sudah bersih dan beberapa data sudah diagregasikan. "
   ]
  },
  {
   "cell_type": "code",
   "execution_count": 56,
   "metadata": {},
   "outputs": [],
   "source": [
    "# Hitung jumlah panggilan yang dilakukan oleh setiap pengguna per bulan. Simpan hasilnya.\n",
    "jum_call_agg = call_df.pivot_table(index = ['user_id', 'month'], values='id', aggfunc='count').reset_index()\n",
    "jum_call_agg.columns = ['user_id', 'month', 'jum_call']"
   ]
  },
  {
   "cell_type": "code",
   "execution_count": 57,
   "metadata": {},
   "outputs": [
    {
     "data": {
      "text/html": [
       "<div>\n",
       "<style scoped>\n",
       "    .dataframe tbody tr th:only-of-type {\n",
       "        vertical-align: middle;\n",
       "    }\n",
       "\n",
       "    .dataframe tbody tr th {\n",
       "        vertical-align: top;\n",
       "    }\n",
       "\n",
       "    .dataframe thead th {\n",
       "        text-align: right;\n",
       "    }\n",
       "</style>\n",
       "<table border=\"1\" class=\"dataframe\">\n",
       "  <thead>\n",
       "    <tr style=\"text-align: right;\">\n",
       "      <th></th>\n",
       "      <th>user_id</th>\n",
       "      <th>month</th>\n",
       "      <th>jum_call</th>\n",
       "    </tr>\n",
       "  </thead>\n",
       "  <tbody>\n",
       "    <tr>\n",
       "      <th>0</th>\n",
       "      <td>1000</td>\n",
       "      <td>2018-12</td>\n",
       "      <td>16</td>\n",
       "    </tr>\n",
       "    <tr>\n",
       "      <th>1</th>\n",
       "      <td>1001</td>\n",
       "      <td>2018-08</td>\n",
       "      <td>27</td>\n",
       "    </tr>\n",
       "    <tr>\n",
       "      <th>2</th>\n",
       "      <td>1001</td>\n",
       "      <td>2018-09</td>\n",
       "      <td>49</td>\n",
       "    </tr>\n",
       "    <tr>\n",
       "      <th>3</th>\n",
       "      <td>1001</td>\n",
       "      <td>2018-10</td>\n",
       "      <td>65</td>\n",
       "    </tr>\n",
       "    <tr>\n",
       "      <th>4</th>\n",
       "      <td>1001</td>\n",
       "      <td>2018-11</td>\n",
       "      <td>64</td>\n",
       "    </tr>\n",
       "  </tbody>\n",
       "</table>\n",
       "</div>"
      ],
      "text/plain": [
       "   user_id    month  jum_call\n",
       "0     1000  2018-12        16\n",
       "1     1001  2018-08        27\n",
       "2     1001  2018-09        49\n",
       "3     1001  2018-10        65\n",
       "4     1001  2018-11        64"
      ]
     },
     "execution_count": 57,
     "metadata": {},
     "output_type": "execute_result"
    }
   ],
   "source": [
    "jum_call_agg.head()"
   ]
  },
  {
   "cell_type": "code",
   "execution_count": 58,
   "metadata": {},
   "outputs": [
    {
     "data": {
      "text/html": [
       "<div>\n",
       "<style scoped>\n",
       "    .dataframe tbody tr th:only-of-type {\n",
       "        vertical-align: middle;\n",
       "    }\n",
       "\n",
       "    .dataframe tbody tr th {\n",
       "        vertical-align: top;\n",
       "    }\n",
       "\n",
       "    .dataframe thead th {\n",
       "        text-align: right;\n",
       "    }\n",
       "</style>\n",
       "<table border=\"1\" class=\"dataframe\">\n",
       "  <thead>\n",
       "    <tr style=\"text-align: right;\">\n",
       "      <th></th>\n",
       "      <th>user_id</th>\n",
       "      <th>month</th>\n",
       "      <th>sum_min</th>\n",
       "    </tr>\n",
       "  </thead>\n",
       "  <tbody>\n",
       "    <tr>\n",
       "      <th>0</th>\n",
       "      <td>1000</td>\n",
       "      <td>2018-12</td>\n",
       "      <td>124.0</td>\n",
       "    </tr>\n",
       "    <tr>\n",
       "      <th>1</th>\n",
       "      <td>1001</td>\n",
       "      <td>2018-08</td>\n",
       "      <td>182.0</td>\n",
       "    </tr>\n",
       "    <tr>\n",
       "      <th>2</th>\n",
       "      <td>1001</td>\n",
       "      <td>2018-09</td>\n",
       "      <td>315.0</td>\n",
       "    </tr>\n",
       "    <tr>\n",
       "      <th>3</th>\n",
       "      <td>1001</td>\n",
       "      <td>2018-10</td>\n",
       "      <td>393.0</td>\n",
       "    </tr>\n",
       "    <tr>\n",
       "      <th>4</th>\n",
       "      <td>1001</td>\n",
       "      <td>2018-11</td>\n",
       "      <td>426.0</td>\n",
       "    </tr>\n",
       "    <tr>\n",
       "      <th>5</th>\n",
       "      <td>1001</td>\n",
       "      <td>2018-12</td>\n",
       "      <td>412.0</td>\n",
       "    </tr>\n",
       "    <tr>\n",
       "      <th>6</th>\n",
       "      <td>1002</td>\n",
       "      <td>2018-10</td>\n",
       "      <td>59.0</td>\n",
       "    </tr>\n",
       "    <tr>\n",
       "      <th>7</th>\n",
       "      <td>1002</td>\n",
       "      <td>2018-11</td>\n",
       "      <td>386.0</td>\n",
       "    </tr>\n",
       "    <tr>\n",
       "      <th>8</th>\n",
       "      <td>1002</td>\n",
       "      <td>2018-12</td>\n",
       "      <td>384.0</td>\n",
       "    </tr>\n",
       "    <tr>\n",
       "      <th>9</th>\n",
       "      <td>1003</td>\n",
       "      <td>2018-12</td>\n",
       "      <td>1104.0</td>\n",
       "    </tr>\n",
       "  </tbody>\n",
       "</table>\n",
       "</div>"
      ],
      "text/plain": [
       "   user_id    month  sum_min\n",
       "0     1000  2018-12    124.0\n",
       "1     1001  2018-08    182.0\n",
       "2     1001  2018-09    315.0\n",
       "3     1001  2018-10    393.0\n",
       "4     1001  2018-11    426.0\n",
       "5     1001  2018-12    412.0\n",
       "6     1002  2018-10     59.0\n",
       "7     1002  2018-11    386.0\n",
       "8     1002  2018-12    384.0\n",
       "9     1003  2018-12   1104.0"
      ]
     },
     "execution_count": 58,
     "metadata": {},
     "output_type": "execute_result"
    }
   ],
   "source": [
    "# Hitung jumlah menit yang dihabiskan oleh setiap pengguna untuk melakukan panggilan per bulan. Simpan hasilnya.\n",
    "\n",
    "call_agg.head(10)"
   ]
  },
  {
   "cell_type": "code",
   "execution_count": 59,
   "metadata": {},
   "outputs": [
    {
     "data": {
      "text/html": [
       "<div>\n",
       "<style scoped>\n",
       "    .dataframe tbody tr th:only-of-type {\n",
       "        vertical-align: middle;\n",
       "    }\n",
       "\n",
       "    .dataframe tbody tr th {\n",
       "        vertical-align: top;\n",
       "    }\n",
       "\n",
       "    .dataframe thead th {\n",
       "        text-align: right;\n",
       "    }\n",
       "</style>\n",
       "<table border=\"1\" class=\"dataframe\">\n",
       "  <thead>\n",
       "    <tr style=\"text-align: right;\">\n",
       "      <th></th>\n",
       "      <th>user_id</th>\n",
       "      <th>month</th>\n",
       "      <th>mesg_sum</th>\n",
       "    </tr>\n",
       "  </thead>\n",
       "  <tbody>\n",
       "    <tr>\n",
       "      <th>0</th>\n",
       "      <td>1000</td>\n",
       "      <td>2018-12</td>\n",
       "      <td>11</td>\n",
       "    </tr>\n",
       "    <tr>\n",
       "      <th>1</th>\n",
       "      <td>1001</td>\n",
       "      <td>2018-08</td>\n",
       "      <td>30</td>\n",
       "    </tr>\n",
       "    <tr>\n",
       "      <th>2</th>\n",
       "      <td>1001</td>\n",
       "      <td>2018-09</td>\n",
       "      <td>44</td>\n",
       "    </tr>\n",
       "    <tr>\n",
       "      <th>3</th>\n",
       "      <td>1001</td>\n",
       "      <td>2018-10</td>\n",
       "      <td>53</td>\n",
       "    </tr>\n",
       "    <tr>\n",
       "      <th>4</th>\n",
       "      <td>1001</td>\n",
       "      <td>2018-11</td>\n",
       "      <td>36</td>\n",
       "    </tr>\n",
       "    <tr>\n",
       "      <th>5</th>\n",
       "      <td>1001</td>\n",
       "      <td>2018-12</td>\n",
       "      <td>44</td>\n",
       "    </tr>\n",
       "    <tr>\n",
       "      <th>6</th>\n",
       "      <td>1002</td>\n",
       "      <td>2018-10</td>\n",
       "      <td>15</td>\n",
       "    </tr>\n",
       "    <tr>\n",
       "      <th>7</th>\n",
       "      <td>1002</td>\n",
       "      <td>2018-11</td>\n",
       "      <td>32</td>\n",
       "    </tr>\n",
       "    <tr>\n",
       "      <th>8</th>\n",
       "      <td>1002</td>\n",
       "      <td>2018-12</td>\n",
       "      <td>41</td>\n",
       "    </tr>\n",
       "    <tr>\n",
       "      <th>9</th>\n",
       "      <td>1003</td>\n",
       "      <td>2018-12</td>\n",
       "      <td>50</td>\n",
       "    </tr>\n",
       "  </tbody>\n",
       "</table>\n",
       "</div>"
      ],
      "text/plain": [
       "   user_id    month  mesg_sum\n",
       "0     1000  2018-12        11\n",
       "1     1001  2018-08        30\n",
       "2     1001  2018-09        44\n",
       "3     1001  2018-10        53\n",
       "4     1001  2018-11        36\n",
       "5     1001  2018-12        44\n",
       "6     1002  2018-10        15\n",
       "7     1002  2018-11        32\n",
       "8     1002  2018-12        41\n",
       "9     1003  2018-12        50"
      ]
     },
     "execution_count": 59,
     "metadata": {},
     "output_type": "execute_result"
    }
   ],
   "source": [
    "# Hitung jumlah SMS yang dikirim oleh setiap pengguna per bulan. Simpan hasilnya.\n",
    "\n",
    "mesg_agg.head(10)"
   ]
  },
  {
   "cell_type": "code",
   "execution_count": 60,
   "metadata": {},
   "outputs": [
    {
     "data": {
      "text/html": [
       "<div>\n",
       "<style scoped>\n",
       "    .dataframe tbody tr th:only-of-type {\n",
       "        vertical-align: middle;\n",
       "    }\n",
       "\n",
       "    .dataframe tbody tr th {\n",
       "        vertical-align: top;\n",
       "    }\n",
       "\n",
       "    .dataframe thead th {\n",
       "        text-align: right;\n",
       "    }\n",
       "</style>\n",
       "<table border=\"1\" class=\"dataframe\">\n",
       "  <thead>\n",
       "    <tr style=\"text-align: right;\">\n",
       "      <th></th>\n",
       "      <th>user_id</th>\n",
       "      <th>month</th>\n",
       "      <th>mb_used</th>\n",
       "      <th>gb_used</th>\n",
       "    </tr>\n",
       "  </thead>\n",
       "  <tbody>\n",
       "    <tr>\n",
       "      <th>0</th>\n",
       "      <td>1000</td>\n",
       "      <td>2018-12</td>\n",
       "      <td>1899.0</td>\n",
       "      <td>2.0</td>\n",
       "    </tr>\n",
       "    <tr>\n",
       "      <th>1</th>\n",
       "      <td>1001</td>\n",
       "      <td>2018-08</td>\n",
       "      <td>6908.0</td>\n",
       "      <td>7.0</td>\n",
       "    </tr>\n",
       "    <tr>\n",
       "      <th>2</th>\n",
       "      <td>1001</td>\n",
       "      <td>2018-09</td>\n",
       "      <td>13294.0</td>\n",
       "      <td>13.0</td>\n",
       "    </tr>\n",
       "    <tr>\n",
       "      <th>3</th>\n",
       "      <td>1001</td>\n",
       "      <td>2018-10</td>\n",
       "      <td>22308.0</td>\n",
       "      <td>22.0</td>\n",
       "    </tr>\n",
       "    <tr>\n",
       "      <th>4</th>\n",
       "      <td>1001</td>\n",
       "      <td>2018-11</td>\n",
       "      <td>18477.0</td>\n",
       "      <td>19.0</td>\n",
       "    </tr>\n",
       "    <tr>\n",
       "      <th>5</th>\n",
       "      <td>1001</td>\n",
       "      <td>2018-12</td>\n",
       "      <td>19345.0</td>\n",
       "      <td>19.0</td>\n",
       "    </tr>\n",
       "    <tr>\n",
       "      <th>6</th>\n",
       "      <td>1002</td>\n",
       "      <td>2018-10</td>\n",
       "      <td>6544.0</td>\n",
       "      <td>7.0</td>\n",
       "    </tr>\n",
       "    <tr>\n",
       "      <th>7</th>\n",
       "      <td>1002</td>\n",
       "      <td>2018-11</td>\n",
       "      <td>19320.0</td>\n",
       "      <td>19.0</td>\n",
       "    </tr>\n",
       "    <tr>\n",
       "      <th>8</th>\n",
       "      <td>1002</td>\n",
       "      <td>2018-12</td>\n",
       "      <td>14379.0</td>\n",
       "      <td>15.0</td>\n",
       "    </tr>\n",
       "    <tr>\n",
       "      <th>9</th>\n",
       "      <td>1003</td>\n",
       "      <td>2018-12</td>\n",
       "      <td>27019.0</td>\n",
       "      <td>27.0</td>\n",
       "    </tr>\n",
       "  </tbody>\n",
       "</table>\n",
       "</div>"
      ],
      "text/plain": [
       "   user_id    month  mb_used  gb_used\n",
       "0     1000  2018-12   1899.0      2.0\n",
       "1     1001  2018-08   6908.0      7.0\n",
       "2     1001  2018-09  13294.0     13.0\n",
       "3     1001  2018-10  22308.0     22.0\n",
       "4     1001  2018-11  18477.0     19.0\n",
       "5     1001  2018-12  19345.0     19.0\n",
       "6     1002  2018-10   6544.0      7.0\n",
       "7     1002  2018-11  19320.0     19.0\n",
       "8     1002  2018-12  14379.0     15.0\n",
       "9     1003  2018-12  27019.0     27.0"
      ]
     },
     "execution_count": 60,
     "metadata": {},
     "output_type": "execute_result"
    }
   ],
   "source": [
    "# Hitung volume traffic internet yang digunakan oleh setiap pengguna per bulan. Simpan hasilnya.\n",
    "\n",
    "inet_agg.head(10)"
   ]
  },
  
  {
   "cell_type": "markdown",
   "metadata": {},
   "source": [
    "\n",
    "Menyatukan data agregat dalam satu Dataframe, sehingga menjadi satu catatan didalamnya."
   ]
  },
  {
   "cell_type": "code",
   "execution_count": 61,
   "metadata": {},
   "outputs": [],
   "source": [
    "# Gabungkan data panggilan, menit, SMS, dan internet berdasarkan user_id dan month (bulan)\n",
    "final = mesg_agg.merge(inet_agg, on = ['month', 'user_id'])\n",
    "final = final.merge(call_agg, on = ['month', 'user_id'])\n",
    "final = final.merge(user_df_new, on = [ 'user_id'])"
   ]
  },
  {
   "cell_type": "code",
   "execution_count": 62,
   "metadata": {},
   "outputs": [
    {
     "data": {
      "text/html": [
       "<div>\n",
       "<style scoped>\n",
       "    .dataframe tbody tr th:only-of-type {\n",
       "        vertical-align: middle;\n",
       "    }\n",
       "\n",
       "    .dataframe tbody tr th {\n",
       "        vertical-align: top;\n",
       "    }\n",
       "\n",
       "    .dataframe thead th {\n",
       "        text-align: right;\n",
       "    }\n",
       "</style>\n",
       "<table border=\"1\" class=\"dataframe\">\n",
       "  <thead>\n",
       "    <tr style=\"text-align: right;\">\n",
       "      <th></th>\n",
       "      <th>user_id</th>\n",
       "      <th>month</th>\n",
       "      <th>mesg_sum</th>\n",
       "      <th>mb_used</th>\n",
       "      <th>gb_used</th>\n",
       "      <th>sum_min</th>\n",
       "      <th>first_name</th>\n",
       "      <th>last_name</th>\n",
       "      <th>age</th>\n",
       "      <th>city</th>\n",
       "      <th>reg_date</th>\n",
       "      <th>plan_name</th>\n",
       "      <th>churn_date</th>\n",
       "      <th>month_reg</th>\n",
       "      <th>isNy_Nj</th>\n",
       "      <th>berlangganan</th>\n",
       "    </tr>\n",
       "  </thead>\n",
       "  <tbody>\n",
       "    <tr>\n",
       "      <th>0</th>\n",
       "      <td>1000</td>\n",
       "      <td>2018-12</td>\n",
       "      <td>11</td>\n",
       "      <td>1899.0</td>\n",
       "      <td>2.0</td>\n",
       "      <td>124.0</td>\n",
       "      <td>Anamaria</td>\n",
       "      <td>Bauer</td>\n",
       "      <td>45</td>\n",
       "      <td>GA</td>\n",
       "      <td>2018-12-24</td>\n",
       "      <td>ultimate</td>\n",
       "      <td>NaT</td>\n",
       "      <td>2018-12</td>\n",
       "      <td>0</td>\n",
       "      <td>iya</td>\n",
       "    </tr>\n",
       "    <tr>\n",
       "      <th>1</th>\n",
       "      <td>1001</td>\n",
       "      <td>2018-08</td>\n",
       "      <td>30</td>\n",
       "      <td>6908.0</td>\n",
       "      <td>7.0</td>\n",
       "      <td>182.0</td>\n",
       "      <td>Mickey</td>\n",
       "      <td>Wilkerson</td>\n",
       "      <td>28</td>\n",
       "      <td>WA</td>\n",
       "      <td>2018-08-13</td>\n",
       "      <td>surf</td>\n",
       "      <td>NaT</td>\n",
       "      <td>2018-08</td>\n",
       "      <td>0</td>\n",
       "      <td>iya</td>\n",
       "    </tr>\n",
       "    <tr>\n",
       "      <th>2</th>\n",
       "      <td>1001</td>\n",
       "      <td>2018-09</td>\n",
       "      <td>44</td>\n",
       "      <td>13294.0</td>\n",
       "      <td>13.0</td>\n",
       "      <td>315.0</td>\n",
       "      <td>Mickey</td>\n",
       "      <td>Wilkerson</td>\n",
       "      <td>28</td>\n",
       "      <td>WA</td>\n",
       "      <td>2018-08-13</td>\n",
       "      <td>surf</td>\n",
       "      <td>NaT</td>\n",
       "      <td>2018-08</td>\n",
       "      <td>0</td>\n",
       "      <td>iya</td>\n",
       "    </tr>\n",
       "    <tr>\n",
       "      <th>3</th>\n",
       "      <td>1001</td>\n",
       "      <td>2018-10</td>\n",
       "      <td>53</td>\n",
       "      <td>22308.0</td>\n",
       "      <td>22.0</td>\n",
       "      <td>393.0</td>\n",
       "      <td>Mickey</td>\n",
       "      <td>Wilkerson</td>\n",
       "      <td>28</td>\n",
       "      <td>WA</td>\n",
       "      <td>2018-08-13</td>\n",
       "      <td>surf</td>\n",
       "      <td>NaT</td>\n",
       "      <td>2018-08</td>\n",
       "      <td>0</td>\n",
       "      <td>iya</td>\n",
       "    </tr>\n",
       "    <tr>\n",
       "      <th>4</th>\n",
       "      <td>1001</td>\n",
       "      <td>2018-11</td>\n",
       "      <td>36</td>\n",
       "      <td>18477.0</td>\n",
       "      <td>19.0</td>\n",
       "      <td>426.0</td>\n",
       "      <td>Mickey</td>\n",
       "      <td>Wilkerson</td>\n",
       "      <td>28</td>\n",
       "      <td>WA</td>\n",
       "      <td>2018-08-13</td>\n",
       "      <td>surf</td>\n",
       "      <td>NaT</td>\n",
       "      <td>2018-08</td>\n",
       "      <td>0</td>\n",
       "      <td>iya</td>\n",
       "    </tr>\n",
       "  </tbody>\n",
       "</table>\n",
       "</div>"
      ],
      "text/plain": [
       "   user_id    month  mesg_sum  mb_used  gb_used  sum_min first_name  \\\n",
       "0     1000  2018-12        11   1899.0      2.0    124.0   Anamaria   \n",
       "1     1001  2018-08        30   6908.0      7.0    182.0     Mickey   \n",
       "2     1001  2018-09        44  13294.0     13.0    315.0     Mickey   \n",
       "3     1001  2018-10        53  22308.0     22.0    393.0     Mickey   \n",
       "4     1001  2018-11        36  18477.0     19.0    426.0     Mickey   \n",
       "\n",
       "   last_name  age city   reg_date plan_name churn_date month_reg  isNy_Nj  \\\n",
       "0      Bauer   45   GA 2018-12-24  ultimate        NaT   2018-12        0   \n",
       "1  Wilkerson   28   WA 2018-08-13      surf        NaT   2018-08        0   \n",
       "2  Wilkerson   28   WA 2018-08-13      surf        NaT   2018-08        0   \n",
       "3  Wilkerson   28   WA 2018-08-13      surf        NaT   2018-08        0   \n",
       "4  Wilkerson   28   WA 2018-08-13      surf        NaT   2018-08        0   \n",
       "\n",
       "  berlangganan  \n",
       "0          iya  \n",
       "1          iya  \n",
       "2          iya  \n",
       "3          iya  \n",
       "4          iya  "
      ]
     },
     "execution_count": 62,
     "metadata": {},
     "output_type": "execute_result"
    }
   ],
   "source": [
    "final.head()"
   ]
  },
  
  {
   "cell_type": "markdown",
   "metadata": {},
   "source": [
    "Menggabungkan informasi plan pada Dataframe final."
   ]
  },
  {
   "cell_type": "code",
   "execution_count": 63,
   "metadata": {},
   "outputs": [],
   "source": [
    "# Tambahkan informasi paket prabayarnya\n",
    "final = final.merge(plan_df, on=['plan_name'])"
   ]
  },
  {
   "cell_type": "code",
   "execution_count": 64,
   "metadata": {},
   "outputs": [
    {
     "data": {
      "text/html": [
       "<div>\n",
       "<style scoped>\n",
       "    .dataframe tbody tr th:only-of-type {\n",
       "        vertical-align: middle;\n",
       "    }\n",
       "\n",
       "    .dataframe tbody tr th {\n",
       "        vertical-align: top;\n",
       "    }\n",
       "\n",
       "    .dataframe thead th {\n",
       "        text-align: right;\n",
       "    }\n",
       "</style>\n",
       "<table border=\"1\" class=\"dataframe\">\n",
       "  <thead>\n",
       "    <tr style=\"text-align: right;\">\n",
       "      <th></th>\n",
       "      <th>user_id</th>\n",
       "      <th>month</th>\n",
       "      <th>mesg_sum</th>\n",
       "      <th>mb_used</th>\n",
       "      <th>gb_used</th>\n",
       "      <th>sum_min</th>\n",
       "      <th>first_name</th>\n",
       "      <th>last_name</th>\n",
       "      <th>age</th>\n",
       "      <th>city</th>\n",
       "      <th>...</th>\n",
       "      <th>isNy_Nj</th>\n",
       "      <th>berlangganan</th>\n",
       "      <th>messages_included</th>\n",
       "      <th>mb_per_month_included</th>\n",
       "      <th>minutes_included</th>\n",
       "      <th>usd_monthly_pay</th>\n",
       "      <th>usd_per_gb</th>\n",
       "      <th>usd_per_message</th>\n",
       "      <th>usd_per_minute</th>\n",
       "      <th>gb_month</th>\n",
       "    </tr>\n",
       "  </thead>\n",
       "  <tbody>\n",
       "    <tr>\n",
       "      <th>0</th>\n",
       "      <td>1000</td>\n",
       "      <td>2018-12</td>\n",
       "      <td>11</td>\n",
       "      <td>1899.0</td>\n",
       "      <td>2.0</td>\n",
       "      <td>124.0</td>\n",
       "      <td>Anamaria</td>\n",
       "      <td>Bauer</td>\n",
       "      <td>45</td>\n",
       "      <td>GA</td>\n",
       "      <td>...</td>\n",
       "      <td>0</td>\n",
       "      <td>iya</td>\n",
       "      <td>1000</td>\n",
       "      <td>30720</td>\n",
       "      <td>3000</td>\n",
       "      <td>70</td>\n",
       "      <td>7</td>\n",
       "      <td>0.01</td>\n",
       "      <td>0.01</td>\n",
       "      <td>30</td>\n",
       "    </tr>\n",
       "    <tr>\n",
       "      <th>1</th>\n",
       "      <td>1006</td>\n",
       "      <td>2018-11</td>\n",
       "      <td>15</td>\n",
       "      <td>2066.0</td>\n",
       "      <td>3.0</td>\n",
       "      <td>10.0</td>\n",
       "      <td>Jesusa</td>\n",
       "      <td>Bradford</td>\n",
       "      <td>73</td>\n",
       "      <td>CA</td>\n",
       "      <td>...</td>\n",
       "      <td>0</td>\n",
       "      <td>tidak</td>\n",
       "      <td>1000</td>\n",
       "      <td>30720</td>\n",
       "      <td>3000</td>\n",
       "      <td>70</td>\n",
       "      <td>7</td>\n",
       "      <td>0.01</td>\n",
       "      <td>0.01</td>\n",
       "      <td>30</td>\n",
       "    </tr>\n",
       "    <tr>\n",
       "      <th>2</th>\n",
       "      <td>1006</td>\n",
       "      <td>2018-12</td>\n",
       "      <td>139</td>\n",
       "      <td>32085.0</td>\n",
       "      <td>32.0</td>\n",
       "      <td>59.0</td>\n",
       "      <td>Jesusa</td>\n",
       "      <td>Bradford</td>\n",
       "      <td>73</td>\n",
       "      <td>CA</td>\n",
       "      <td>...</td>\n",
       "      <td>0</td>\n",
       "      <td>tidak</td>\n",
       "      <td>1000</td>\n",
       "      <td>30720</td>\n",
       "      <td>3000</td>\n",
       "      <td>70</td>\n",
       "      <td>7</td>\n",
       "      <td>0.01</td>\n",
       "      <td>0.01</td>\n",
       "      <td>30</td>\n",
       "    </tr>\n",
       "    <tr>\n",
       "      <th>3</th>\n",
       "      <td>1008</td>\n",
       "      <td>2018-10</td>\n",
       "      <td>21</td>\n",
       "      <td>17083.0</td>\n",
       "      <td>17.0</td>\n",
       "      <td>476.0</td>\n",
       "      <td>Emely</td>\n",
       "      <td>Hoffman</td>\n",
       "      <td>53</td>\n",
       "      <td>FL</td>\n",
       "      <td>...</td>\n",
       "      <td>0</td>\n",
       "      <td>iya</td>\n",
       "      <td>1000</td>\n",
       "      <td>30720</td>\n",
       "      <td>3000</td>\n",
       "      <td>70</td>\n",
       "      <td>7</td>\n",
       "      <td>0.01</td>\n",
       "      <td>0.01</td>\n",
       "      <td>30</td>\n",
       "    </tr>\n",
       "    <tr>\n",
       "      <th>4</th>\n",
       "      <td>1008</td>\n",
       "      <td>2018-11</td>\n",
       "      <td>37</td>\n",
       "      <td>23652.0</td>\n",
       "      <td>24.0</td>\n",
       "      <td>446.0</td>\n",
       "      <td>Emely</td>\n",
       "      <td>Hoffman</td>\n",
       "      <td>53</td>\n",
       "      <td>FL</td>\n",
       "      <td>...</td>\n",
       "      <td>0</td>\n",
       "      <td>iya</td>\n",
       "      <td>1000</td>\n",
       "      <td>30720</td>\n",
       "      <td>3000</td>\n",
       "      <td>70</td>\n",
       "      <td>7</td>\n",
       "      <td>0.01</td>\n",
       "      <td>0.01</td>\n",
       "      <td>30</td>\n",
       "    </tr>\n",
       "  </tbody>\n",
       "</table>\n",
       "<p>5 rows × 24 columns</p>\n",
       "</div>"
      ],
      "text/plain": [
       "   user_id    month  mesg_sum  mb_used  gb_used  sum_min first_name last_name  \\\n",
       "0     1000  2018-12        11   1899.0      2.0    124.0   Anamaria     Bauer   \n",
       "1     1006  2018-11        15   2066.0      3.0     10.0     Jesusa  Bradford   \n",
       "2     1006  2018-12       139  32085.0     32.0     59.0     Jesusa  Bradford   \n",
       "3     1008  2018-10        21  17083.0     17.0    476.0      Emely   Hoffman   \n",
       "4     1008  2018-11        37  23652.0     24.0    446.0      Emely   Hoffman   \n",
       "\n",
       "   age city  ... isNy_Nj berlangganan messages_included mb_per_month_included  \\\n",
       "0   45   GA  ...       0          iya              1000                 30720   \n",
       "1   73   CA  ...       0        tidak              1000                 30720   \n",
       "2   73   CA  ...       0        tidak              1000                 30720   \n",
       "3   53   FL  ...       0          iya              1000                 30720   \n",
       "4   53   FL  ...       0          iya              1000                 30720   \n",
       "\n",
       "   minutes_included usd_monthly_pay  usd_per_gb  usd_per_message  \\\n",
       "0              3000              70           7             0.01   \n",
       "1              3000              70           7             0.01   \n",
       "2              3000              70           7             0.01   \n",
       "3              3000              70           7             0.01   \n",
       "4              3000              70           7             0.01   \n",
       "\n",
       "   usd_per_minute  gb_month  \n",
       "0            0.01        30  \n",
       "1            0.01        30  \n",
       "2            0.01        30  \n",
       "3            0.01        30  \n",
       "4            0.01        30  \n",
       "\n",
       "[5 rows x 24 columns]"
      ]
     },
     "execution_count": 64,
     "metadata": {},
     "output_type": "execute_result"
    }
   ],
   "source": [
    "final.head()"
   ]
  },
  {
   "cell_type": "code",
   "execution_count": 65,
   "metadata": {
    "scrolled": false
   },
   "outputs": [
    {
     "data": {
      "text/plain": [
       "Index(['user_id', 'month', 'mesg_sum', 'mb_used', 'gb_used', 'sum_min',\n",
       "       'first_name', 'last_name', 'age', 'city', 'reg_date', 'plan_name',\n",
       "       'churn_date', 'month_reg', 'isNy_Nj', 'berlangganan',\n",
       "       'messages_included', 'mb_per_month_included', 'minutes_included',\n",
       "       'usd_monthly_pay', 'usd_per_gb', 'usd_per_message', 'usd_per_minute',\n",
       "       'gb_month'],\n",
       "      dtype='object')"
      ]
     },
     "execution_count": 65,
     "metadata": {},
     "output_type": "execute_result"
    }
   ],
   "source": [
    "final.columns"
   ]
  },
 
  {
   "cell_type": "markdown",
   "metadata": {},
   "source": [
    "Mensortir kolom mana yang tidak diperlukan, sehingga memudahkan analisis"
   ]
  },
  {
   "cell_type": "code",
   "execution_count": 66,
   "metadata": {},
   "outputs": [],
   "source": [
    "final.drop(['first_name', 'last_name', 'berlangganan', 'reg_date', 'age'], axis=1, inplace=True)\n"
   ]
  },
  {
   "cell_type": "markdown",
   "metadata": {},
   "source": [
    "Mengganti nama kolom menjadi lebih singkat, sehingga mudah untuk dimengerti"
   ]
  },
  {
   "cell_type": "code",
   "execution_count": 67,
   "metadata": {},
   "outputs": [],
   "source": [
    "final = final.rename(columns={'messages_included' : 'mesg_inc', 'mb_per_month_included' : 'mb_inc', \n",
    "                              'minutes_included' : 'min_inc', 'usd_monthly_pay' : 'usd_monthly', \n",
    "                              'usd_per_message' : 'usd_per_mesg', 'usd_per_minute':'usd_per_min', 'gb_month' : 'gb_inc'})"
   ]
  },
  {
   "cell_type": "code",
   "execution_count": 68,
   "metadata": {
    "scrolled": true
   },
   "outputs": [
    {
     "data": {
      "text/plain": [
       "Index(['user_id', 'month', 'mesg_sum', 'mb_used', 'gb_used', 'sum_min', 'city',\n",
       "       'plan_name', 'churn_date', 'month_reg', 'isNy_Nj', 'mesg_inc', 'mb_inc',\n",
       "       'min_inc', 'usd_monthly', 'usd_per_gb', 'usd_per_mesg', 'usd_per_min',\n",
       "       'gb_inc'],\n",
       "      dtype='object')"
      ]
     },
     "execution_count": 68,
     "metadata": {},
     "output_type": "execute_result"
    }
   ],
   "source": [
    "final.columns"
   ]
  },
 
  {
   "cell_type": "markdown",
   "metadata": {},
   "source": [
    "\n",
    "\n",
    "Menghitung pendapatan bulanan dari setiap pengguna"
   ]
  },
  {
   "cell_type": "code",
   "execution_count": 69,
   "metadata": {},
   "outputs": [],
   "source": [
    "# Hitung pendapatan bulanan untuk setiap pengguna\n",
    "\n",
    "def count_extra_price (used, month, usd_per):\n",
    "    extra = used - month\n",
    "    if extra > 0:\n",
    "        return extra * usd_per\n",
    "    else:\n",
    "        return 0"
   ]
  },
 
  {
   "cell_type": "markdown",
   "metadata": {},
   "source": [
    "Menambahkan kolom extra_inet, yaitu kolom yang memberitahu harga lebih yang harus dibayar pengguna untuk pemakaian data inet yang melebihi batas pemakaian."
   ]
  },
  {
   "cell_type": "code",
   "execution_count": 70,
   "metadata": {},
   "outputs": [],
   "source": [
    "final['extra_inet']  = final.apply(lambda row: count_extra_price(used=row['gb_used'], \n",
    "                                                                 month=row['gb_inc'], usd_per=row['usd_per_gb']), axis=1)\n",
    "\n"
   ]
  },
  {
   "cell_type": "code",
   "execution_count": 71,
   "metadata": {
    "scrolled": true
   },
   "outputs": [
    {
     "data": {
      "text/html": [
       "<div>\n",
       "<style scoped>\n",
       "    .dataframe tbody tr th:only-of-type {\n",
       "        vertical-align: middle;\n",
       "    }\n",
       "\n",
       "    .dataframe tbody tr th {\n",
       "        vertical-align: top;\n",
       "    }\n",
       "\n",
       "    .dataframe thead th {\n",
       "        text-align: right;\n",
       "    }\n",
       "</style>\n",
       "<table border=\"1\" class=\"dataframe\">\n",
       "  <thead>\n",
       "    <tr style=\"text-align: right;\">\n",
       "      <th></th>\n",
       "      <th>user_id</th>\n",
       "      <th>month</th>\n",
       "      <th>mesg_sum</th>\n",
       "      <th>mb_used</th>\n",
       "      <th>gb_used</th>\n",
       "      <th>sum_min</th>\n",
       "      <th>city</th>\n",
       "      <th>plan_name</th>\n",
       "      <th>churn_date</th>\n",
       "      <th>month_reg</th>\n",
       "      <th>isNy_Nj</th>\n",
       "      <th>mesg_inc</th>\n",
       "      <th>mb_inc</th>\n",
       "      <th>min_inc</th>\n",
       "      <th>usd_monthly</th>\n",
       "      <th>usd_per_gb</th>\n",
       "      <th>usd_per_mesg</th>\n",
       "      <th>usd_per_min</th>\n",
       "      <th>gb_inc</th>\n",
       "      <th>extra_inet</th>\n",
       "    </tr>\n",
       "  </thead>\n",
       "  <tbody>\n",
       "    <tr>\n",
       "      <th>0</th>\n",
       "      <td>1000</td>\n",
       "      <td>2018-12</td>\n",
       "      <td>11</td>\n",
       "      <td>1899.0</td>\n",
       "      <td>2.0</td>\n",
       "      <td>124.0</td>\n",
       "      <td>GA</td>\n",
       "      <td>ultimate</td>\n",
       "      <td>NaT</td>\n",
       "      <td>2018-12</td>\n",
       "      <td>0</td>\n",
       "      <td>1000</td>\n",
       "      <td>30720</td>\n",
       "      <td>3000</td>\n",
       "      <td>70</td>\n",
       "      <td>7</td>\n",
       "      <td>0.01</td>\n",
       "      <td>0.01</td>\n",
       "      <td>30</td>\n",
       "      <td>0.0</td>\n",
       "    </tr>\n",
       "    <tr>\n",
       "      <th>1</th>\n",
       "      <td>1006</td>\n",
       "      <td>2018-11</td>\n",
       "      <td>15</td>\n",
       "      <td>2066.0</td>\n",
       "      <td>3.0</td>\n",
       "      <td>10.0</td>\n",
       "      <td>CA</td>\n",
       "      <td>ultimate</td>\n",
       "      <td>2018-12-18</td>\n",
       "      <td>2018-11</td>\n",
       "      <td>0</td>\n",
       "      <td>1000</td>\n",
       "      <td>30720</td>\n",
       "      <td>3000</td>\n",
       "      <td>70</td>\n",
       "      <td>7</td>\n",
       "      <td>0.01</td>\n",
       "      <td>0.01</td>\n",
       "      <td>30</td>\n",
       "      <td>0.0</td>\n",
       "    </tr>\n",
       "    <tr>\n",
       "      <th>2</th>\n",
       "      <td>1006</td>\n",
       "      <td>2018-12</td>\n",
       "      <td>139</td>\n",
       "      <td>32085.0</td>\n",
       "      <td>32.0</td>\n",
       "      <td>59.0</td>\n",
       "      <td>CA</td>\n",
       "      <td>ultimate</td>\n",
       "      <td>2018-12-18</td>\n",
       "      <td>2018-11</td>\n",
       "      <td>0</td>\n",
       "      <td>1000</td>\n",
       "      <td>30720</td>\n",
       "      <td>3000</td>\n",
       "      <td>70</td>\n",
       "      <td>7</td>\n",
       "      <td>0.01</td>\n",
       "      <td>0.01</td>\n",
       "      <td>30</td>\n",
       "      <td>14.0</td>\n",
       "    </tr>\n",
       "    <tr>\n",
       "      <th>3</th>\n",
       "      <td>1008</td>\n",
       "      <td>2018-10</td>\n",
       "      <td>21</td>\n",
       "      <td>17083.0</td>\n",
       "      <td>17.0</td>\n",
       "      <td>476.0</td>\n",
       "      <td>FL</td>\n",
       "      <td>ultimate</td>\n",
       "      <td>NaT</td>\n",
       "      <td>2018-08</td>\n",
       "      <td>0</td>\n",
       "      <td>1000</td>\n",
       "      <td>30720</td>\n",
       "      <td>3000</td>\n",
       "      <td>70</td>\n",
       "      <td>7</td>\n",
       "      <td>0.01</td>\n",
       "      <td>0.01</td>\n",
       "      <td>30</td>\n",
       "      <td>0.0</td>\n",
       "    </tr>\n",
       "    <tr>\n",
       "      <th>4</th>\n",
       "      <td>1008</td>\n",
       "      <td>2018-11</td>\n",
       "      <td>37</td>\n",
       "      <td>23652.0</td>\n",
       "      <td>24.0</td>\n",
       "      <td>446.0</td>\n",
       "      <td>FL</td>\n",
       "      <td>ultimate</td>\n",
       "      <td>NaT</td>\n",
       "      <td>2018-08</td>\n",
       "      <td>0</td>\n",
       "      <td>1000</td>\n",
       "      <td>30720</td>\n",
       "      <td>3000</td>\n",
       "      <td>70</td>\n",
       "      <td>7</td>\n",
       "      <td>0.01</td>\n",
       "      <td>0.01</td>\n",
       "      <td>30</td>\n",
       "      <td>0.0</td>\n",
       "    </tr>\n",
       "  </tbody>\n",
       "</table>\n",
       "</div>"
      ],
      "text/plain": [
       "   user_id    month  mesg_sum  mb_used  gb_used  sum_min city plan_name  \\\n",
       "0     1000  2018-12        11   1899.0      2.0    124.0   GA  ultimate   \n",
       "1     1006  2018-11        15   2066.0      3.0     10.0   CA  ultimate   \n",
       "2     1006  2018-12       139  32085.0     32.0     59.0   CA  ultimate   \n",
       "3     1008  2018-10        21  17083.0     17.0    476.0   FL  ultimate   \n",
       "4     1008  2018-11        37  23652.0     24.0    446.0   FL  ultimate   \n",
       "\n",
       "  churn_date month_reg  isNy_Nj  mesg_inc  mb_inc  min_inc  usd_monthly  \\\n",
       "0        NaT   2018-12        0      1000   30720     3000           70   \n",
       "1 2018-12-18   2018-11        0      1000   30720     3000           70   \n",
       "2 2018-12-18   2018-11        0      1000   30720     3000           70   \n",
       "3        NaT   2018-08        0      1000   30720     3000           70   \n",
       "4        NaT   2018-08        0      1000   30720     3000           70   \n",
       "\n",
       "   usd_per_gb  usd_per_mesg  usd_per_min  gb_inc  extra_inet  \n",
       "0           7          0.01         0.01      30         0.0  \n",
       "1           7          0.01         0.01      30         0.0  \n",
       "2           7          0.01         0.01      30        14.0  \n",
       "3           7          0.01         0.01      30         0.0  \n",
       "4           7          0.01         0.01      30         0.0  "
      ]
     },
     "execution_count": 71,
     "metadata": {},
     "output_type": "execute_result"
    }
   ],
   "source": [
    "final.head()"
   ]
  },
 
  {
   "cell_type": "markdown",
   "metadata": {},
   "source": [
    "Menambahkan kolom extra_call, yaitu kolom yang memberitahu harga lebih yang harus dibayar pengguna untuk pemakaian telepon yang melebihi batas pemakaian."
   ]
  },
  {
   "cell_type": "code",
   "execution_count": 72,
   "metadata": {},
   "outputs": [],
   "source": [
    "final['extra_call'] = final.apply(lambda row: count_extra_price(used=row['sum_min'], \n",
    "                                                                month=row['min_inc'], usd_per=row['usd_per_min']), axis=1)"
   ]
  },
  {
   "cell_type": "code",
   "execution_count": 73,
   "metadata": {
    "scrolled": false
   },
   "outputs": [
    {
     "data": {
      "text/html": [
       "<div>\n",
       "<style scoped>\n",
       "    .dataframe tbody tr th:only-of-type {\n",
       "        vertical-align: middle;\n",
       "    }\n",
       "\n",
       "    .dataframe tbody tr th {\n",
       "        vertical-align: top;\n",
       "    }\n",
       "\n",
       "    .dataframe thead th {\n",
       "        text-align: right;\n",
       "    }\n",
       "</style>\n",
       "<table border=\"1\" class=\"dataframe\">\n",
       "  <thead>\n",
       "    <tr style=\"text-align: right;\">\n",
       "      <th></th>\n",
       "      <th>user_id</th>\n",
       "      <th>month</th>\n",
       "      <th>mesg_sum</th>\n",
       "      <th>mb_used</th>\n",
       "      <th>gb_used</th>\n",
       "      <th>sum_min</th>\n",
       "      <th>city</th>\n",
       "      <th>plan_name</th>\n",
       "      <th>churn_date</th>\n",
       "      <th>month_reg</th>\n",
       "      <th>...</th>\n",
       "      <th>mesg_inc</th>\n",
       "      <th>mb_inc</th>\n",
       "      <th>min_inc</th>\n",
       "      <th>usd_monthly</th>\n",
       "      <th>usd_per_gb</th>\n",
       "      <th>usd_per_mesg</th>\n",
       "      <th>usd_per_min</th>\n",
       "      <th>gb_inc</th>\n",
       "      <th>extra_inet</th>\n",
       "      <th>extra_call</th>\n",
       "    </tr>\n",
       "  </thead>\n",
       "  <tbody>\n",
       "    <tr>\n",
       "      <th>0</th>\n",
       "      <td>1000</td>\n",
       "      <td>2018-12</td>\n",
       "      <td>11</td>\n",
       "      <td>1899.0</td>\n",
       "      <td>2.0</td>\n",
       "      <td>124.0</td>\n",
       "      <td>GA</td>\n",
       "      <td>ultimate</td>\n",
       "      <td>NaT</td>\n",
       "      <td>2018-12</td>\n",
       "      <td>...</td>\n",
       "      <td>1000</td>\n",
       "      <td>30720</td>\n",
       "      <td>3000</td>\n",
       "      <td>70</td>\n",
       "      <td>7</td>\n",
       "      <td>0.01</td>\n",
       "      <td>0.01</td>\n",
       "      <td>30</td>\n",
       "      <td>0.0</td>\n",
       "      <td>0.0</td>\n",
       "    </tr>\n",
       "    <tr>\n",
       "      <th>1</th>\n",
       "      <td>1006</td>\n",
       "      <td>2018-11</td>\n",
       "      <td>15</td>\n",
       "      <td>2066.0</td>\n",
       "      <td>3.0</td>\n",
       "      <td>10.0</td>\n",
       "      <td>CA</td>\n",
       "      <td>ultimate</td>\n",
       "      <td>2018-12-18</td>\n",
       "      <td>2018-11</td>\n",
       "      <td>...</td>\n",
       "      <td>1000</td>\n",
       "      <td>30720</td>\n",
       "      <td>3000</td>\n",
       "      <td>70</td>\n",
       "      <td>7</td>\n",
       "      <td>0.01</td>\n",
       "      <td>0.01</td>\n",
       "      <td>30</td>\n",
       "      <td>0.0</td>\n",
       "      <td>0.0</td>\n",
       "    </tr>\n",
       "    <tr>\n",
       "      <th>2</th>\n",
       "      <td>1006</td>\n",
       "      <td>2018-12</td>\n",
       "      <td>139</td>\n",
       "      <td>32085.0</td>\n",
       "      <td>32.0</td>\n",
       "      <td>59.0</td>\n",
       "      <td>CA</td>\n",
       "      <td>ultimate</td>\n",
       "      <td>2018-12-18</td>\n",
       "      <td>2018-11</td>\n",
       "      <td>...</td>\n",
       "      <td>1000</td>\n",
       "      <td>30720</td>\n",
       "      <td>3000</td>\n",
       "      <td>70</td>\n",
       "      <td>7</td>\n",
       "      <td>0.01</td>\n",
       "      <td>0.01</td>\n",
       "      <td>30</td>\n",
       "      <td>14.0</td>\n",
       "      <td>0.0</td>\n",
       "    </tr>\n",
       "    <tr>\n",
       "      <th>3</th>\n",
       "      <td>1008</td>\n",
       "      <td>2018-10</td>\n",
       "      <td>21</td>\n",
       "      <td>17083.0</td>\n",
       "      <td>17.0</td>\n",
       "      <td>476.0</td>\n",
       "      <td>FL</td>\n",
       "      <td>ultimate</td>\n",
       "      <td>NaT</td>\n",
       "      <td>2018-08</td>\n",
       "      <td>...</td>\n",
       "      <td>1000</td>\n",
       "      <td>30720</td>\n",
       "      <td>3000</td>\n",
       "      <td>70</td>\n",
       "      <td>7</td>\n",
       "      <td>0.01</td>\n",
       "      <td>0.01</td>\n",
       "      <td>30</td>\n",
       "      <td>0.0</td>\n",
       "      <td>0.0</td>\n",
       "    </tr>\n",
       "    <tr>\n",
       "      <th>4</th>\n",
       "      <td>1008</td>\n",
       "      <td>2018-11</td>\n",
       "      <td>37</td>\n",
       "      <td>23652.0</td>\n",
       "      <td>24.0</td>\n",
       "      <td>446.0</td>\n",
       "      <td>FL</td>\n",
       "      <td>ultimate</td>\n",
       "      <td>NaT</td>\n",
       "      <td>2018-08</td>\n",
       "      <td>...</td>\n",
       "      <td>1000</td>\n",
       "      <td>30720</td>\n",
       "      <td>3000</td>\n",
       "      <td>70</td>\n",
       "      <td>7</td>\n",
       "      <td>0.01</td>\n",
       "      <td>0.01</td>\n",
       "      <td>30</td>\n",
       "      <td>0.0</td>\n",
       "      <td>0.0</td>\n",
       "    </tr>\n",
       "  </tbody>\n",
       "</table>\n",
       "<p>5 rows × 21 columns</p>\n",
       "</div>"
      ],
      "text/plain": [
       "   user_id    month  mesg_sum  mb_used  gb_used  sum_min city plan_name  \\\n",
       "0     1000  2018-12        11   1899.0      2.0    124.0   GA  ultimate   \n",
       "1     1006  2018-11        15   2066.0      3.0     10.0   CA  ultimate   \n",
       "2     1006  2018-12       139  32085.0     32.0     59.0   CA  ultimate   \n",
       "3     1008  2018-10        21  17083.0     17.0    476.0   FL  ultimate   \n",
       "4     1008  2018-11        37  23652.0     24.0    446.0   FL  ultimate   \n",
       "\n",
       "  churn_date month_reg  ...  mesg_inc  mb_inc  min_inc  usd_monthly  \\\n",
       "0        NaT   2018-12  ...      1000   30720     3000           70   \n",
       "1 2018-12-18   2018-11  ...      1000   30720     3000           70   \n",
       "2 2018-12-18   2018-11  ...      1000   30720     3000           70   \n",
       "3        NaT   2018-08  ...      1000   30720     3000           70   \n",
       "4        NaT   2018-08  ...      1000   30720     3000           70   \n",
       "\n",
       "   usd_per_gb  usd_per_mesg  usd_per_min  gb_inc  extra_inet  extra_call  \n",
       "0           7          0.01         0.01      30         0.0         0.0  \n",
       "1           7          0.01         0.01      30         0.0         0.0  \n",
       "2           7          0.01         0.01      30        14.0         0.0  \n",
       "3           7          0.01         0.01      30         0.0         0.0  \n",
       "4           7          0.01         0.01      30         0.0         0.0  \n",
       "\n",
       "[5 rows x 21 columns]"
      ]
     },
     "execution_count": 73,
     "metadata": {},
     "output_type": "execute_result"
    }
   ],
   "source": [
    "final.head()"
   ]
  },
  
  {
   "cell_type": "markdown",
   "metadata": {},
   "source": [
    "Menambahkan kolom extra_mesg, yaitu kolom yang memberitahu harga lebih yang harus dibayar pengguna untuk pemakaian SMS yang melebihi batas pemakaian."
   ]
  },
  {
   "cell_type": "code",
   "execution_count": 74,
   "metadata": {},
   "outputs": [],
   "source": [
    "final['extra_mesg'] = final.apply(lambda row: count_extra_price(\n",
    "    used=row['mesg_sum'], month=row['mesg_inc'], usd_per = row['usd_per_mesg']), axis=1)"
   ]
  },
  {
   "cell_type": "code",
   "execution_count": 75,
   "metadata": {
    "scrolled": false
   },
   "outputs": [
    {
     "data": {
      "text/html": [
       "<div>\n",
       "<style scoped>\n",
       "    .dataframe tbody tr th:only-of-type {\n",
       "        vertical-align: middle;\n",
       "    }\n",
       "\n",
       "    .dataframe tbody tr th {\n",
       "        vertical-align: top;\n",
       "    }\n",
       "\n",
       "    .dataframe thead th {\n",
       "        text-align: right;\n",
       "    }\n",
       "</style>\n",
       "<table border=\"1\" class=\"dataframe\">\n",
       "  <thead>\n",
       "    <tr style=\"text-align: right;\">\n",
       "      <th></th>\n",
       "      <th>user_id</th>\n",
       "      <th>month</th>\n",
       "      <th>mesg_sum</th>\n",
       "      <th>mb_used</th>\n",
       "      <th>gb_used</th>\n",
       "      <th>sum_min</th>\n",
       "      <th>city</th>\n",
       "      <th>plan_name</th>\n",
       "      <th>churn_date</th>\n",
       "      <th>month_reg</th>\n",
       "      <th>...</th>\n",
       "      <th>mb_inc</th>\n",
       "      <th>min_inc</th>\n",
       "      <th>usd_monthly</th>\n",
       "      <th>usd_per_gb</th>\n",
       "      <th>usd_per_mesg</th>\n",
       "      <th>usd_per_min</th>\n",
       "      <th>gb_inc</th>\n",
       "      <th>extra_inet</th>\n",
       "      <th>extra_call</th>\n",
       "      <th>extra_mesg</th>\n",
       "    </tr>\n",
       "  </thead>\n",
       "  <tbody>\n",
       "    <tr>\n",
       "      <th>0</th>\n",
       "      <td>1000</td>\n",
       "      <td>2018-12</td>\n",
       "      <td>11</td>\n",
       "      <td>1899.0</td>\n",
       "      <td>2.0</td>\n",
       "      <td>124.0</td>\n",
       "      <td>GA</td>\n",
       "      <td>ultimate</td>\n",
       "      <td>NaT</td>\n",
       "      <td>2018-12</td>\n",
       "      <td>...</td>\n",
       "      <td>30720</td>\n",
       "      <td>3000</td>\n",
       "      <td>70</td>\n",
       "      <td>7</td>\n",
       "      <td>0.01</td>\n",
       "      <td>0.01</td>\n",
       "      <td>30</td>\n",
       "      <td>0.0</td>\n",
       "      <td>0.0</td>\n",
       "      <td>0.0</td>\n",
       "    </tr>\n",
       "    <tr>\n",
       "      <th>1</th>\n",
       "      <td>1006</td>\n",
       "      <td>2018-11</td>\n",
       "      <td>15</td>\n",
       "      <td>2066.0</td>\n",
       "      <td>3.0</td>\n",
       "      <td>10.0</td>\n",
       "      <td>CA</td>\n",
       "      <td>ultimate</td>\n",
       "      <td>2018-12-18</td>\n",
       "      <td>2018-11</td>\n",
       "      <td>...</td>\n",
       "      <td>30720</td>\n",
       "      <td>3000</td>\n",
       "      <td>70</td>\n",
       "      <td>7</td>\n",
       "      <td>0.01</td>\n",
       "      <td>0.01</td>\n",
       "      <td>30</td>\n",
       "      <td>0.0</td>\n",
       "      <td>0.0</td>\n",
       "      <td>0.0</td>\n",
       "    </tr>\n",
       "    <tr>\n",
       "      <th>2</th>\n",
       "      <td>1006</td>\n",
       "      <td>2018-12</td>\n",
       "      <td>139</td>\n",
       "      <td>32085.0</td>\n",
       "      <td>32.0</td>\n",
       "      <td>59.0</td>\n",
       "      <td>CA</td>\n",
       "      <td>ultimate</td>\n",
       "      <td>2018-12-18</td>\n",
       "      <td>2018-11</td>\n",
       "      <td>...</td>\n",
       "      <td>30720</td>\n",
       "      <td>3000</td>\n",
       "      <td>70</td>\n",
       "      <td>7</td>\n",
       "      <td>0.01</td>\n",
       "      <td>0.01</td>\n",
       "      <td>30</td>\n",
       "      <td>14.0</td>\n",
       "      <td>0.0</td>\n",
       "      <td>0.0</td>\n",
       "    </tr>\n",
       "    <tr>\n",
       "      <th>3</th>\n",
       "      <td>1008</td>\n",
       "      <td>2018-10</td>\n",
       "      <td>21</td>\n",
       "      <td>17083.0</td>\n",
       "      <td>17.0</td>\n",
       "      <td>476.0</td>\n",
       "      <td>FL</td>\n",
       "      <td>ultimate</td>\n",
       "      <td>NaT</td>\n",
       "      <td>2018-08</td>\n",
       "      <td>...</td>\n",
       "      <td>30720</td>\n",
       "      <td>3000</td>\n",
       "      <td>70</td>\n",
       "      <td>7</td>\n",
       "      <td>0.01</td>\n",
       "      <td>0.01</td>\n",
       "      <td>30</td>\n",
       "      <td>0.0</td>\n",
       "      <td>0.0</td>\n",
       "      <td>0.0</td>\n",
       "    </tr>\n",
       "    <tr>\n",
       "      <th>4</th>\n",
       "      <td>1008</td>\n",
       "      <td>2018-11</td>\n",
       "      <td>37</td>\n",
       "      <td>23652.0</td>\n",
       "      <td>24.0</td>\n",
       "      <td>446.0</td>\n",
       "      <td>FL</td>\n",
       "      <td>ultimate</td>\n",
       "      <td>NaT</td>\n",
       "      <td>2018-08</td>\n",
       "      <td>...</td>\n",
       "      <td>30720</td>\n",
       "      <td>3000</td>\n",
       "      <td>70</td>\n",
       "      <td>7</td>\n",
       "      <td>0.01</td>\n",
       "      <td>0.01</td>\n",
       "      <td>30</td>\n",
       "      <td>0.0</td>\n",
       "      <td>0.0</td>\n",
       "      <td>0.0</td>\n",
       "    </tr>\n",
       "  </tbody>\n",
       "</table>\n",
       "<p>5 rows × 22 columns</p>\n",
       "</div>"
      ],
      "text/plain": [
       "   user_id    month  mesg_sum  mb_used  gb_used  sum_min city plan_name  \\\n",
       "0     1000  2018-12        11   1899.0      2.0    124.0   GA  ultimate   \n",
       "1     1006  2018-11        15   2066.0      3.0     10.0   CA  ultimate   \n",
       "2     1006  2018-12       139  32085.0     32.0     59.0   CA  ultimate   \n",
       "3     1008  2018-10        21  17083.0     17.0    476.0   FL  ultimate   \n",
       "4     1008  2018-11        37  23652.0     24.0    446.0   FL  ultimate   \n",
       "\n",
       "  churn_date month_reg  ...  mb_inc  min_inc  usd_monthly  usd_per_gb  \\\n",
       "0        NaT   2018-12  ...   30720     3000           70           7   \n",
       "1 2018-12-18   2018-11  ...   30720     3000           70           7   \n",
       "2 2018-12-18   2018-11  ...   30720     3000           70           7   \n",
       "3        NaT   2018-08  ...   30720     3000           70           7   \n",
       "4        NaT   2018-08  ...   30720     3000           70           7   \n",
       "\n",
       "   usd_per_mesg  usd_per_min  gb_inc  extra_inet  extra_call  extra_mesg  \n",
       "0          0.01         0.01      30         0.0         0.0         0.0  \n",
       "1          0.01         0.01      30         0.0         0.0         0.0  \n",
       "2          0.01         0.01      30        14.0         0.0         0.0  \n",
       "3          0.01         0.01      30         0.0         0.0         0.0  \n",
       "4          0.01         0.01      30         0.0         0.0         0.0  \n",
       "\n",
       "[5 rows x 22 columns]"
      ]
     },
     "execution_count": 75,
     "metadata": {},
     "output_type": "execute_result"
    }
   ],
   "source": [
    "final.head()"
   ]
  },

  {
   "cell_type": "markdown",
   "metadata": {},
   "source": [
    "Mentotalkan keseluruhan biaya extra yang harus dibayarkan pengguna."
   ]
  },
  {
   "cell_type": "code",
   "execution_count": 76,
   "metadata": {},
   "outputs": [],
   "source": [
    "final['sum_extra'] = final['extra_inet'] + final['extra_mesg'] + final['extra_call']"
   ]
  },
  {
   "cell_type": "code",
   "execution_count": 77,
   "metadata": {
    "scrolled": false
   },
   "outputs": [
    {
     "data": {
      "text/html": [
       "<div>\n",
       "<style scoped>\n",
       "    .dataframe tbody tr th:only-of-type {\n",
       "        vertical-align: middle;\n",
       "    }\n",
       "\n",
       "    .dataframe tbody tr th {\n",
       "        vertical-align: top;\n",
       "    }\n",
       "\n",
       "    .dataframe thead th {\n",
       "        text-align: right;\n",
       "    }\n",
       "</style>\n",
       "<table border=\"1\" class=\"dataframe\">\n",
       "  <thead>\n",
       "    <tr style=\"text-align: right;\">\n",
       "      <th></th>\n",
       "      <th>user_id</th>\n",
       "      <th>month</th>\n",
       "      <th>mesg_sum</th>\n",
       "      <th>mb_used</th>\n",
       "      <th>gb_used</th>\n",
       "      <th>sum_min</th>\n",
       "      <th>city</th>\n",
       "      <th>plan_name</th>\n",
       "      <th>churn_date</th>\n",
       "      <th>month_reg</th>\n",
       "      <th>...</th>\n",
       "      <th>min_inc</th>\n",
       "      <th>usd_monthly</th>\n",
       "      <th>usd_per_gb</th>\n",
       "      <th>usd_per_mesg</th>\n",
       "      <th>usd_per_min</th>\n",
       "      <th>gb_inc</th>\n",
       "      <th>extra_inet</th>\n",
       "      <th>extra_call</th>\n",
       "      <th>extra_mesg</th>\n",
       "      <th>sum_extra</th>\n",
       "    </tr>\n",
       "  </thead>\n",
       "  <tbody>\n",
       "    <tr>\n",
       "      <th>0</th>\n",
       "      <td>1000</td>\n",
       "      <td>2018-12</td>\n",
       "      <td>11</td>\n",
       "      <td>1899.0</td>\n",
       "      <td>2.0</td>\n",
       "      <td>124.0</td>\n",
       "      <td>GA</td>\n",
       "      <td>ultimate</td>\n",
       "      <td>NaT</td>\n",
       "      <td>2018-12</td>\n",
       "      <td>...</td>\n",
       "      <td>3000</td>\n",
       "      <td>70</td>\n",
       "      <td>7</td>\n",
       "      <td>0.01</td>\n",
       "      <td>0.01</td>\n",
       "      <td>30</td>\n",
       "      <td>0.0</td>\n",
       "      <td>0.0</td>\n",
       "      <td>0.0</td>\n",
       "      <td>0.0</td>\n",
       "    </tr>\n",
       "    <tr>\n",
       "      <th>1</th>\n",
       "      <td>1006</td>\n",
       "      <td>2018-11</td>\n",
       "      <td>15</td>\n",
       "      <td>2066.0</td>\n",
       "      <td>3.0</td>\n",
       "      <td>10.0</td>\n",
       "      <td>CA</td>\n",
       "      <td>ultimate</td>\n",
       "      <td>2018-12-18</td>\n",
       "      <td>2018-11</td>\n",
       "      <td>...</td>\n",
       "      <td>3000</td>\n",
       "      <td>70</td>\n",
       "      <td>7</td>\n",
       "      <td>0.01</td>\n",
       "      <td>0.01</td>\n",
       "      <td>30</td>\n",
       "      <td>0.0</td>\n",
       "      <td>0.0</td>\n",
       "      <td>0.0</td>\n",
       "      <td>0.0</td>\n",
       "    </tr>\n",
       "    <tr>\n",
       "      <th>2</th>\n",
       "      <td>1006</td>\n",
       "      <td>2018-12</td>\n",
       "      <td>139</td>\n",
       "      <td>32085.0</td>\n",
       "      <td>32.0</td>\n",
       "      <td>59.0</td>\n",
       "      <td>CA</td>\n",
       "      <td>ultimate</td>\n",
       "      <td>2018-12-18</td>\n",
       "      <td>2018-11</td>\n",
       "      <td>...</td>\n",
       "      <td>3000</td>\n",
       "      <td>70</td>\n",
       "      <td>7</td>\n",
       "      <td>0.01</td>\n",
       "      <td>0.01</td>\n",
       "      <td>30</td>\n",
       "      <td>14.0</td>\n",
       "      <td>0.0</td>\n",
       "      <td>0.0</td>\n",
       "      <td>14.0</td>\n",
       "    </tr>\n",
       "    <tr>\n",
       "      <th>3</th>\n",
       "      <td>1008</td>\n",
       "      <td>2018-10</td>\n",
       "      <td>21</td>\n",
       "      <td>17083.0</td>\n",
       "      <td>17.0</td>\n",
       "      <td>476.0</td>\n",
       "      <td>FL</td>\n",
       "      <td>ultimate</td>\n",
       "      <td>NaT</td>\n",
       "      <td>2018-08</td>\n",
       "      <td>...</td>\n",
       "      <td>3000</td>\n",
       "      <td>70</td>\n",
       "      <td>7</td>\n",
       "      <td>0.01</td>\n",
       "      <td>0.01</td>\n",
       "      <td>30</td>\n",
       "      <td>0.0</td>\n",
       "      <td>0.0</td>\n",
       "      <td>0.0</td>\n",
       "      <td>0.0</td>\n",
       "    </tr>\n",
       "    <tr>\n",
       "      <th>4</th>\n",
       "      <td>1008</td>\n",
       "      <td>2018-11</td>\n",
       "      <td>37</td>\n",
       "      <td>23652.0</td>\n",
       "      <td>24.0</td>\n",
       "      <td>446.0</td>\n",
       "      <td>FL</td>\n",
       "      <td>ultimate</td>\n",
       "      <td>NaT</td>\n",
       "      <td>2018-08</td>\n",
       "      <td>...</td>\n",
       "      <td>3000</td>\n",
       "      <td>70</td>\n",
       "      <td>7</td>\n",
       "      <td>0.01</td>\n",
       "      <td>0.01</td>\n",
       "      <td>30</td>\n",
       "      <td>0.0</td>\n",
       "      <td>0.0</td>\n",
       "      <td>0.0</td>\n",
       "      <td>0.0</td>\n",
       "    </tr>\n",
       "  </tbody>\n",
       "</table>\n",
       "<p>5 rows × 23 columns</p>\n",
       "</div>"
      ],
      "text/plain": [
       "   user_id    month  mesg_sum  mb_used  gb_used  sum_min city plan_name  \\\n",
       "0     1000  2018-12        11   1899.0      2.0    124.0   GA  ultimate   \n",
       "1     1006  2018-11        15   2066.0      3.0     10.0   CA  ultimate   \n",
       "2     1006  2018-12       139  32085.0     32.0     59.0   CA  ultimate   \n",
       "3     1008  2018-10        21  17083.0     17.0    476.0   FL  ultimate   \n",
       "4     1008  2018-11        37  23652.0     24.0    446.0   FL  ultimate   \n",
       "\n",
       "  churn_date month_reg  ...  min_inc  usd_monthly  usd_per_gb  usd_per_mesg  \\\n",
       "0        NaT   2018-12  ...     3000           70           7          0.01   \n",
       "1 2018-12-18   2018-11  ...     3000           70           7          0.01   \n",
       "2 2018-12-18   2018-11  ...     3000           70           7          0.01   \n",
       "3        NaT   2018-08  ...     3000           70           7          0.01   \n",
       "4        NaT   2018-08  ...     3000           70           7          0.01   \n",
       "\n",
       "   usd_per_min  gb_inc  extra_inet  extra_call  extra_mesg  sum_extra  \n",
       "0         0.01      30         0.0         0.0         0.0        0.0  \n",
       "1         0.01      30         0.0         0.0         0.0        0.0  \n",
       "2         0.01      30        14.0         0.0         0.0       14.0  \n",
       "3         0.01      30         0.0         0.0         0.0        0.0  \n",
       "4         0.01      30         0.0         0.0         0.0        0.0  \n",
       "\n",
       "[5 rows x 23 columns]"
      ]
     },
     "execution_count": 77,
     "metadata": {},
     "output_type": "execute_result"
    }
   ],
   "source": [
    "final.head()"
   ]
  },
  {
   "cell_type": "code",
   "execution_count": 78,
   "metadata": {},
   "outputs": [],
   "source": [
    "final['total_income'] = final['sum_extra'] + final['usd_monthly']"
   ]
  },
  {
   "cell_type": "code",
   "execution_count": 79,
   "metadata": {},
   "outputs": [
    {
     "name": "stdout",
     "output_type": "stream",
     "text": [
      "<class 'pandas.core.frame.DataFrame'>\n",
      "Int64Index: 1759 entries, 0 to 1758\n",
      "Data columns (total 24 columns):\n",
      " #   Column        Non-Null Count  Dtype         \n",
      "---  ------        --------------  -----         \n",
      " 0   user_id       1759 non-null   int64         \n",
      " 1   month         1759 non-null   period[M]     \n",
      " 2   mesg_sum      1759 non-null   int64         \n",
      " 3   mb_used       1759 non-null   float64       \n",
      " 4   gb_used       1759 non-null   float64       \n",
      " 5   sum_min       1759 non-null   float64       \n",
      " 6   city          1759 non-null   object        \n",
      " 7   plan_name     1759 non-null   object        \n",
      " 8   churn_date    118 non-null    datetime64[ns]\n",
      " 9   month_reg     1759 non-null   period[M]     \n",
      " 10  isNy_Nj       1759 non-null   int64         \n",
      " 11  mesg_inc      1759 non-null   int64         \n",
      " 12  mb_inc        1759 non-null   int64         \n",
      " 13  min_inc       1759 non-null   int64         \n",
      " 14  usd_monthly   1759 non-null   int64         \n",
      " 15  usd_per_gb    1759 non-null   int64         \n",
      " 16  usd_per_mesg  1759 non-null   float64       \n",
      " 17  usd_per_min   1759 non-null   float64       \n",
      " 18  gb_inc        1759 non-null   int16         \n",
      " 19  extra_inet    1759 non-null   float64       \n",
      " 20  extra_call    1759 non-null   float64       \n",
      " 21  extra_mesg    1759 non-null   float64       \n",
      " 22  sum_extra     1759 non-null   float64       \n",
      " 23  total_income  1759 non-null   float64       \n",
      "dtypes: datetime64[ns](1), float64(10), int16(1), int64(8), object(2), period[M](2)\n",
      "memory usage: 333.2+ KB\n"
     ]
    }
   ],
   "source": [
    "final.info()"
   ]
  },
  {
   "cell_type": "code",
   "execution_count": 79,
   "metadata": {
    "scrolled": true
   },
   "outputs": [
    {
     "data": {
      "text/html": [
       "<div>\n",
       "<style scoped>\n",
       "    .dataframe tbody tr th:only-of-type {\n",
       "        vertical-align: middle;\n",
       "    }\n",
       "\n",
       "    .dataframe tbody tr th {\n",
       "        vertical-align: top;\n",
       "    }\n",
       "\n",
       "    .dataframe thead th {\n",
       "        text-align: right;\n",
       "    }\n",
       "</style>\n",
       "<table border=\"1\" class=\"dataframe\">\n",
       "  <thead>\n",
       "    <tr style=\"text-align: right;\">\n",
       "      <th></th>\n",
       "      <th>user_id</th>\n",
       "      <th>month</th>\n",
       "      <th>mesg_sum</th>\n",
       "      <th>mb_used</th>\n",
       "      <th>gb_used</th>\n",
       "      <th>sum_min</th>\n",
       "      <th>city</th>\n",
       "      <th>plan_name</th>\n",
       "      <th>churn_date</th>\n",
       "      <th>month_reg</th>\n",
       "      <th>...</th>\n",
       "      <th>usd_monthly</th>\n",
       "      <th>usd_per_gb</th>\n",
       "      <th>usd_per_mesg</th>\n",
       "      <th>usd_per_min</th>\n",
       "      <th>gb_inc</th>\n",
       "      <th>extra_inet</th>\n",
       "      <th>extra_call</th>\n",
       "      <th>extra_mesg</th>\n",
       "      <th>sum_extra</th>\n",
       "      <th>total_income</th>\n",
       "    </tr>\n",
       "  </thead>\n",
       "  <tbody>\n",
       "    <tr>\n",
       "      <th>0</th>\n",
       "      <td>1000</td>\n",
       "      <td>2018-12</td>\n",
       "      <td>11</td>\n",
       "      <td>1899.0</td>\n",
       "      <td>2.0</td>\n",
       "      <td>124.0</td>\n",
       "      <td>GA</td>\n",
       "      <td>ultimate</td>\n",
       "      <td>NaT</td>\n",
       "      <td>2018-12</td>\n",
       "      <td>...</td>\n",
       "      <td>70</td>\n",
       "      <td>7</td>\n",
       "      <td>0.01</td>\n",
       "      <td>0.01</td>\n",
       "      <td>30</td>\n",
       "      <td>0.0</td>\n",
       "      <td>0.0</td>\n",
       "      <td>0.0</td>\n",
       "      <td>0.0</td>\n",
       "      <td>70.0</td>\n",
       "    </tr>\n",
       "    <tr>\n",
       "      <th>1</th>\n",
       "      <td>1006</td>\n",
       "      <td>2018-11</td>\n",
       "      <td>15</td>\n",
       "      <td>2066.0</td>\n",
       "      <td>3.0</td>\n",
       "      <td>10.0</td>\n",
       "      <td>CA</td>\n",
       "      <td>ultimate</td>\n",
       "      <td>2018-12-18</td>\n",
       "      <td>2018-11</td>\n",
       "      <td>...</td>\n",
       "      <td>70</td>\n",
       "      <td>7</td>\n",
       "      <td>0.01</td>\n",
       "      <td>0.01</td>\n",
       "      <td>30</td>\n",
       "      <td>0.0</td>\n",
       "      <td>0.0</td>\n",
       "      <td>0.0</td>\n",
       "      <td>0.0</td>\n",
       "      <td>70.0</td>\n",
       "    </tr>\n",
       "    <tr>\n",
       "      <th>2</th>\n",
       "      <td>1006</td>\n",
       "      <td>2018-12</td>\n",
       "      <td>139</td>\n",
       "      <td>32085.0</td>\n",
       "      <td>32.0</td>\n",
       "      <td>59.0</td>\n",
       "      <td>CA</td>\n",
       "      <td>ultimate</td>\n",
       "      <td>2018-12-18</td>\n",
       "      <td>2018-11</td>\n",
       "      <td>...</td>\n",
       "      <td>70</td>\n",
       "      <td>7</td>\n",
       "      <td>0.01</td>\n",
       "      <td>0.01</td>\n",
       "      <td>30</td>\n",
       "      <td>14.0</td>\n",
       "      <td>0.0</td>\n",
       "      <td>0.0</td>\n",
       "      <td>14.0</td>\n",
       "      <td>84.0</td>\n",
       "    </tr>\n",
       "  </tbody>\n",
       "</table>\n",
       "<p>3 rows × 24 columns</p>\n",
       "</div>"
      ],
      "text/plain": [
       "   user_id    month  mesg_sum  mb_used  gb_used  sum_min city plan_name  \\\n",
       "0     1000  2018-12        11   1899.0      2.0    124.0   GA  ultimate   \n",
       "1     1006  2018-11        15   2066.0      3.0     10.0   CA  ultimate   \n",
       "2     1006  2018-12       139  32085.0     32.0     59.0   CA  ultimate   \n",
       "\n",
       "  churn_date month_reg  ...  usd_monthly  usd_per_gb  usd_per_mesg  \\\n",
       "0        NaT   2018-12  ...           70           7          0.01   \n",
       "1 2018-12-18   2018-11  ...           70           7          0.01   \n",
       "2 2018-12-18   2018-11  ...           70           7          0.01   \n",
       "\n",
       "   usd_per_min  gb_inc  extra_inet  extra_call  extra_mesg  sum_extra  \\\n",
       "0         0.01      30         0.0         0.0         0.0        0.0   \n",
       "1         0.01      30         0.0         0.0         0.0        0.0   \n",
       "2         0.01      30        14.0         0.0         0.0       14.0   \n",
       "\n",
       "   total_income  \n",
       "0          70.0  \n",
       "1          70.0  \n",
       "2          84.0  \n",
       "\n",
       "[3 rows x 24 columns]"
      ]
     },
     "execution_count": 79,
     "metadata": {},
     "output_type": "execute_result"
    }
   ],
   "source": [
    "final.head(3)"
   ]
  },
 
  {
   "cell_type": "markdown",
   "metadata": {},
   "source": [
    "## Mempelajari Perilaku Pengguna"
   ]
  },
  {
   "cell_type": "markdown",
   "metadata": {},
   "source": []
  },
  {
   "cell_type": "code",
   "execution_count": 80,
   "metadata": {},
   "outputs": [],
   "source": [
    "def deskripsi_stats(dataset, value_col, group_col):\n",
    "    groups = dataset[group_col].unique()\n",
    "    for group in groups:\n",
    "        print(f'paket:{group}')\n",
    "        sample = dataset.loc[dataset[group_col] == group, value_col]\n",
    "        median = round(sample.median(), 1)\n",
    "        mean = round(sample.mean(), 1)\n",
    "        std = round(sample.std(), 1)\n",
    "        summ = round(sample.sum(), 1)\n",
    "        var = round(sample.var(), 1)\n",
    "        print('Median: ', median)\n",
    "        print('mean: ', mean)        \n",
    "        print('std: ', std)  \n",
    "        print('sum: ', summ)        \n",
    "        print('var: ', var) \n",
    "        print('---------------')"
   ]
  },
  {
   "cell_type": "code",
   "execution_count": 81,
   "metadata": {},
   "outputs": [],
   "source": [
    "# Bandingkan durasi rata-rata panggilan setiap paket per bulannya. Buatlah sebuah diagram batang untuk memvisualisasikannya.\n",
    "\n",
    "avg = pd.pivot_table(final, index='month', columns='plan_name', values='sum_min', aggfunc='mean').reset_index()\n",
    "avg['month'] = avg['month'].astype(str)"
   ]
  },

  {
   "cell_type": "markdown",
   "metadata": {},
   "source": [
    "Diagram dari rata-rata durasinya panggilan per-bulan dari tiap paket"
   ]
  },
  {
   "cell_type": "code",
   "execution_count": 82,
   "metadata": {
    "scrolled": false
   },
   "outputs": [
    {
     "data": {
      "image/png": "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\n",
      "text/plain": [
       "<Figure size 864x360 with 1 Axes>"
      ]
     },
     "metadata": {
      "needs_background": "light"
     },
     "output_type": "display_data"
    }
   ],
   "source": [
    "avg.plot(kind='bar', figsize=(12, 5), x='month')\n",
    "plt.xlabel('month')\n",
    "plt.ylabel('Rata-Rata Durasi Menit')\n",
    "plt.show()"
   ]
  },
 
  {
   "cell_type": "code",
   "execution_count": 83,
   "metadata": {
    "scrolled": true
   },
   "outputs": [
    {
     "data": {
      "image/png": "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\n",
      "text/plain": [
       "<Figure size 864x360 with 1 Axes>"
      ]
     },
     "metadata": {
      "needs_background": "light"
     },
     "output_type": "display_data"
    }
   ],
   "source": [
    "#plt.subplots(figsize=(10,10))\n",
    "avg.plot( figsize=(12, 5))\n",
    "plt.xlabel('Month')\n",
    "plt.ylabel('Rata-Rata Durasi Menit')\n",
    "plt.show()"
   ]
  },
  {
   "cell_type": "markdown",
   "metadata": {},
   "source": [
    "- Dari grafik, rata-rata durasi menit penggunaan layanan telepon terlihat tidak selalu naik.\n",
    "- Rata-rata durasi panggilan dari paket Ultimate mengalami puncak nya pada bulan 1 dan untuk paket Surf mengalami puncak pada bulan 12\n",
    "- Pada bulan 2 hingga 3 rata-rata panggilan  dipuncaki oleh paket Ultimate, namun paket Ultimate juga mengalami kemerosotan hingga bulan 4\n",
    "- pada bulan 4 hingga 7 rata-rata panggilan dipuncaki paket Surf\n",
    "- pada bulan 8 hingga 11 rata-rata pemakaian durasi telpon pada paket Ultimate menjadi lebih tinggi dari paket Surf, kemuadian pada bulan 12 paket Surf melewati paket Ultimate."
   ]
  },
 
  {
   "cell_type": "code",
   "execution_count": 84,
   "metadata": {},
   "outputs": [],
   "source": [
    "# Bandingkan jumlah menit yang dibutuhkan pengguna tiap paket per bulannya. Buatlah sebuah histogram.\n",
    "sum_call = pd.pivot_table(final, index='month', columns='plan_name', values='sum_min', aggfunc='sum').reset_index()"
   ]
  },
  {
   "cell_type": "markdown",
   "metadata": {},
   "source": [
    "Diagram dari jumlah durasi panggilan per-bulan dari tiap paket"
   ]
  },
  {
   "cell_type": "code",
   "execution_count": 85,
   "metadata": {},
   "outputs": [
    {
     "data": {
      "image/png": "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\n",
      "text/plain": [
       "<Figure size 864x360 with 1 Axes>"
      ]
     },
     "metadata": {
      "needs_background": "light"
     },
     "output_type": "display_data"
    }
   ],
   "source": [
    "sum_call.plot(figsize=(12,5), x='month')\n",
    "plt.xlabel('Month')\n",
    "plt.ylabel('Durasi Menit')\n",
    "plt.show()"
   ]
  },
  {
   "cell_type": "markdown",
   "metadata": {},
   "source": [
    "- Terjadi peningkatan dari bulan 1 hingga bulan 12 dari penggunaan layanan telepon terhadap pelanggan kedua paket\n",
    "- Untuk durasi panggilan paket surf memiliki lebih banyak jumlah panggilan disetiap bulannya dibanding paket ultimate\n",
    "- Pada paket Ultimate di bulan 2 hingga 4 tidak terjadi penaikan penggunaan telepon "
   ]
  },
 
  {
   "cell_type": "code",
   "execution_count": 86,
   "metadata": {},
   "outputs": [
    {
     "data": {
      "text/plain": [
       "surf        1180\n",
       "ultimate     579\n",
       "Name: plan_name, dtype: int64"
      ]
     },
     "execution_count": 86,
     "metadata": {},
     "output_type": "execute_result"
    }
   ],
   "source": [
    "final['plan_name'].value_counts()"
   ]
  },
  {
   "cell_type": "code",
   "execution_count": 87,
   "metadata": {
    "scrolled": true
   },
   "outputs": [
    {
     "name": "stdout",
     "output_type": "stream",
     "text": [
      "paket:ultimate\n",
      "Median:  424.0\n",
      "mean:  442.5\n",
      "std:  249.6\n",
      "sum:  256215.0\n",
      "var:  62288.4\n",
      "---------------\n",
      "paket:surf\n",
      "Median:  439.0\n",
      "mean:  445.8\n",
      "std:  235.2\n",
      "sum:  526015.0\n",
      "var:  55321.4\n",
      "---------------\n"
     ]
    }
   ],
   "source": [
    "# Hitung rata-rata dan varians dari durasi panggilan bulanan\n",
    "deskripsi_stats(final, value_col='sum_min', group_col='plan_name')"
   ]
  },
  {
   "cell_type": "code",
   "execution_count": 88,
   "metadata": {},
   "outputs": [
    {
     "data": {
      "image/png": "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\n",
      "text/plain": [
       "<Figure size 864x432 with 1 Axes>"
      ]
     },
     "metadata": {
      "needs_background": "light"
     },
     "output_type": "display_data"
    }
   ],
   "source": [
    "# Buatlah grafik boxplot untuk memvisualisasikan distribusi durasi panggilan bulanan\n",
    "plt.figure(figsize = (12,6))\n",
    "sns.boxplot(data=final, x='plan_name', y='sum_min')\n",
    "plt.title('Boxplot Dari Distribusi Durasi Panggilan Bulanan')\n",
    "plt.ylabel('Durasi Menit')\n",
    "plt.show()"
   ]
  },
  {
   "cell_type": "markdown",
   "metadata": {},
   "source": [
    "[Rumuskan kesimpulan tentang perilaku pengguna dalam melakukan panggilan. Apakah perilaku mereka berbeda antara setiap paketnya?]"
   ]
  },
  {
   "cell_type": "markdown",
   "metadata": {},
   "source": [
    "Kesimpulan yang didapat :\n",
    "- Rata-rata penggunaan paket telepon pada paket Ultimate mengalami kemerosotan pada bulan 3 hingga 4 mungkin disebabkan karena pada bulan tersebut terdapat bertambahnya pelanggan namun tidak dibarengi dengan bertambahnya penggunaan paket telepon. \n",
    "- Walaupun terlihat penggunaan layanan telepon pada paket Surf selalu lebih tinggi dari paket Ultimate, Namun perilaku pengguna paket Ultimate dan Surf terhadap layanan telpon tiap bulan nya terlihat sama saja tidak ada perbedaan yang signifikan. Rata-rata kedua pengguna paket menggunakan layanan telepon sama banyak."
   ]
  },

  {
   "cell_type": "markdown",
   "metadata": {},
   "source": [
    " "
   ]
  },
  {
   "cell_type": "markdown",
   "metadata": {},
   "source": [
    "### Pesan/SMS"
   ]
  },
  {
   "cell_type": "code",
   "execution_count": 89,
   "metadata": {
    "scrolled": false
   },
   "outputs": [],
   "source": [
    "# Bandingkan jumlah SMS yang cenderung dikirim pengguna tiap paket per bulannya\n",
    "sum_mesg = pd.pivot_table(final, index='month', columns='plan_name', values='mesg_sum', aggfunc='sum').reset_index()"
   ]
  },
  {
   "cell_type": "code",
   "execution_count": 90,
   "metadata": {
    "scrolled": false
   },
   "outputs": [
    {
     "data": {
      "image/png": "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\n",
      "text/plain": [
       "<Figure size 864x360 with 1 Axes>"
      ]
     },
     "metadata": {
      "needs_background": "light"
     },
     "output_type": "display_data"
    }
   ],
   "source": [
    "sum_mesg.plot(kind='bar', figsize=(12,5))\n",
    "plt.xlabel('Month')\n",
    "plt.ylabel('Banyak SMS')\n",
    "plt.show()"
   ]
  },
  {
   "cell_type": "code",
   "execution_count": 91,
   "metadata": {
    "scrolled": false
   },
   "outputs": [
    {
     "data": {
      "image/png": "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\n",
      "text/plain": [
       "<Figure size 864x360 with 1 Axes>"
      ]
     },
     "metadata": {
      "needs_background": "light"
     },
     "output_type": "display_data"
    }
   ],
   "source": [
    "sum_mesg.plot(figsize=(12,5), x='month')\n",
    "plt.xlabel('Month')\n",
    "plt.ylabel('Banyak SMS')\n",
    "plt.show()"
   ]
  },
  {
   "cell_type": "markdown",
   "metadata": {},
   "source": [
    "- Banyak penggunaan layanan SMS dari kedua paket terlihat terus meningkat dari bulan 1 hingga bulan 12\n",
    "- Dari jumlah total pengiriman SMS, pengguna paket surf paling banyak mengirimkan SMS, yang didapat pada angka 11000 pada bulan 12\n",
    "- Untuk paket ultimate banyak SMS yang dikirmkan paling banyak didapat pada angka 6000 pada bulan 12"
   ]
  },
 
  {
   "cell_type": "code",
   "execution_count": 92,
   "metadata": {},
   "outputs": [],
   "source": [
    "avg_mesg = pd.pivot_table(final, index='month', columns='plan_name', values='mesg_sum', aggfunc='mean').reset_index()"
   ]
  },
  {
   "cell_type": "code",
   "execution_count": 93,
   "metadata": {
    "scrolled": true
   },
   "outputs": [
    {
     "data": {
      "image/png": "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\n",
      "text/plain": [
       "<Figure size 864x360 with 1 Axes>"
      ]
     },
     "metadata": {
      "needs_background": "light"
     },
     "output_type": "display_data"
    }
   ],
   "source": [
    "avg_mesg.plot(kind='bar', figsize=(12,5))\n",
    "plt.xlabel('Month')\n",
    "plt.ylabel('Rata-Rata Banyak SMS')\n",
    "plt.show()"
   ]
  },
  {
   "cell_type": "code",
   "execution_count": 94,
   "metadata": {
    "scrolled": true
   },
   "outputs": [
    {
     "data": {
      "image/png": "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\n",
      "text/plain": [
       "<Figure size 864x360 with 1 Axes>"
      ]
     },
     "metadata": {
      "needs_background": "light"
     },
     "output_type": "display_data"
    }
   ],
   "source": [
    "avg_mesg.plot(figsize=(12,5), x='month')\n",
    "plt.xlabel('Month')\n",
    "plt.ylabel('Rata-Rata Banyak SMS')\n",
    "plt.show()"
   ]
  },
  {
   "cell_type": "markdown",
   "metadata": {},
   "source": [
    "- Dari bulan 2 hingga bulan 12, rata-rata penggunaan SMS pada paket Ultimate lebih besar dibanding rata-rata pada paket Surf\n",
    "- Rata-rata tertinggi banyak SMS dikirimkan oleh paket Ultimate pada bulan 12 sekitar 50 SMS\n",
    "- Untuk paket Surf rata-rata pengiriman SMS paling tinggi juga didapat pada bulan 12  sebanyak 40 SMS\n"
   ]
  },
 
  {
   "cell_type": "code",
   "execution_count": 95,
   "metadata": {
    "scrolled": true
   },
   "outputs": [
    {
     "name": "stdout",
     "output_type": "stream",
     "text": [
      "paket:ultimate\n",
      "Median:  41.0\n",
      "mean:  46.5\n",
      "std:  32.9\n",
      "sum:  26898\n",
      "var:  1084.4\n",
      "---------------\n",
      "paket:surf\n",
      "Median:  32.0\n",
      "mean:  39.5\n",
      "std:  32.3\n",
      "sum:  46598\n",
      "var:  1044.2\n",
      "---------------\n"
     ]
    }
   ],
   "source": [
    "deskripsi_stats(final, value_col='mesg_sum', group_col='plan_name')"
   ]
  },
  {
   "cell_type": "code",
   "execution_count": 96,
   "metadata": {},
   "outputs": [
    {
     "data": {
      "image/png": "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\n",
      "text/plain": [
       "<Figure size 864x432 with 1 Axes>"
      ]
     },
     "metadata": {
      "needs_background": "light"
     },
     "output_type": "display_data"
    }
   ],
   "source": [
    "plt.figure(figsize = (12,6))\n",
    "sns.boxplot(data=final, x='plan_name', y='mesg_sum')\n",
    "plt.title('Boxplot Dari Distribusi Jumlah SMS Bulanan')\n",
    "plt.ylabel('Durasi Menit')\n",
    "plt.show()"
   ]
  },
  {
   "cell_type": "markdown",
   "metadata": {},
   "source": [
    "Kesimpulan yang didapat :\n",
    "- Walaupun jumlah SMS paling banyak ada pada paket Surf, namun rata-rata penggunaan pelayanan SMS paling banyak ada pada paket Ultimate.\n",
    "- Pengguna paket Ultimate lebih banyak menggunakan layanan SMS dibanding pengguna paket Surf. Hal ini mungkin disebabkan karena paket SMS yang diberikan pada paket Ultimate bisa mencapai 1000 SMS jadi menjadi salah satu daya tarik dari paket Ultimate."
   ]
  },
 
  {
   "cell_type": "markdown",
   "metadata": {},
   "source": [
    "Presentasi pengguna Paket Ultimate yang memakai lebih dari 50 kali layanan SMS"
   ]
  },
  {
   "cell_type": "code",
   "execution_count": 97,
   "metadata": {},
   "outputs": [
    {
     "data": {
      "text/plain": [
       "41.8"
      ]
     },
     "execution_count": 97,
     "metadata": {},
     "output_type": "execute_result"
    }
   ],
   "source": [
    "round(len(final.loc[(final['plan_name'] == 'ultimate') & (final['mesg_sum'] >= 50)]) / len(final.loc[(final['plan_name'] == 'ultimate')])*100, 1) "
   ]
  },
  {
   "cell_type": "markdown",
   "metadata": {},
   "source": [
    "Presentasi pengguna Paket Surf yang memakai lebih dari 50 kali layanan SMS"
   ]
  },
  {
   "cell_type": "code",
   "execution_count": 98,
   "metadata": {},
   "outputs": [
    {
     "data": {
      "text/plain": [
       "26.9"
      ]
     },
     "execution_count": 98,
     "metadata": {},
     "output_type": "execute_result"
    }
   ],
   "source": [
    "round( len(final.loc[(final['plan_name'] == 'surf') & (final['mesg_sum'] > 50)]) /  len(final.loc[(final['plan_name'] == 'surf')])*100, 1)"
   ]
  },
  {
   "cell_type": "markdown",
   "metadata": {},
   "source": [
    "- 41% Pengguna Paket Ultimate menggunakan layanan SMS lebih dari 50 kali sedangkan untuk pengguna paket Surf hanya 26%  pengguna saja yang menggunakan SMS lebih dari 50 kali. Ini menunjukkan bahwa paket SMS lebih dari 50 kali adalah paket yang dibutuhkan oleh pengguna paket Ultimate"
   ]
  },
 
  {
   "cell_type": "markdown",
   "metadata": {},
   "source": [
    " "
   ]
  },
  {
   "cell_type": "markdown",
   "metadata": {},
   "source": [
    "### Internet"
   ]
  },
  {
   "cell_type": "code",
   "execution_count": 99,
   "metadata": {},
   "outputs": [
    {
     "data": {
      "text/plain": [
       "Index(['user_id', 'month', 'mesg_sum', 'mb_used', 'gb_used', 'sum_min', 'city',\n",
       "       'plan_name', 'churn_date', 'month_reg', 'isNy_Nj', 'mesg_inc', 'mb_inc',\n",
       "       'min_inc', 'usd_monthly', 'usd_per_gb', 'usd_per_mesg', 'usd_per_min',\n",
       "       'gb_inc', 'extra_inet', 'extra_call', 'extra_mesg', 'sum_extra',\n",
       "       'total_income'],\n",
       "      dtype='object')"
      ]
     },
     "execution_count": 99,
     "metadata": {},
     "output_type": "execute_result"
    }
   ],
   "source": [
    "final.columns"
   ]
  },
  {
   "cell_type": "code",
   "execution_count": 100,
   "metadata": {},
   "outputs": [],
   "source": [
    "# Bandingkan jumlah traffic internet yang dihabiskan oleh pengguna per paket\n",
    "sum_inet = pd.pivot_table(final, index='month', columns='plan_name', values='gb_used', aggfunc='sum').reset_index()"
   ]
  },
  {
   "cell_type": "code",
   "execution_count": 101,
   "metadata": {},
   "outputs": [
    {
     "data": {
      "text/plain": [
       "Text(0, 0.5, 'Jumlah GB')"
      ]
     },
     "execution_count": 101,
     "metadata": {},
     "output_type": "execute_result"
    },
    {
     "data": {
      "image/png": "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\n",
      "text/plain": [
       "<Figure size 864x360 with 1 Axes>"
      ]
     },
     "metadata": {
      "needs_background": "light"
     },
     "output_type": "display_data"
    }
   ],
   "source": [
    "sum_inet.plot(kind='bar', figsize=(12,5), x='month')\n",
    "plt.xlabel('Month')\n",
    "plt.ylabel('Jumlah GB')"
   ]
  },
  {
   "cell_type": "code",
   "execution_count": 102,
   "metadata": {
    "scrolled": false
   },
   "outputs": [
    {
     "data": {
      "text/plain": [
       "Text(0, 0.5, 'Jumlah GB')"
      ]
     },
     "execution_count": 102,
     "metadata": {},
     "output_type": "execute_result"
    },
    {
     "data": {
      "image/png": "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\n",
      "text/plain": [
       "<Figure size 864x360 with 1 Axes>"
      ]
     },
     "metadata": {
      "needs_background": "light"
     },
     "output_type": "display_data"
    }
   ],
   "source": [
    "sum_inet.plot(figsize=(12,5), x='month')\n",
    "plt.xlabel('Month')\n",
    "plt.ylabel('Jumlah GB')"
   ]
  },
  {
   "cell_type": "markdown",
   "metadata": {},
   "source": [
    "- Mulai dari bulan Maret pjumlah penggunaan paket internet paket Surf lebih banyak memakai internet dibanding pengguna paket Ultimate.\n",
    "- Penggunaan layanan internet pada kedua paket terus menaik tiap bulan nya"
   ]
  },
  
  {
   "cell_type": "code",
   "execution_count": 103,
   "metadata": {},
   "outputs": [],
   "source": [
    "avg_inet = pd.pivot_table(final, index='month', columns='plan_name', values='gb_used', aggfunc='mean').reset_index()"
   ]
  },
  {
   "cell_type": "code",
   "execution_count": 104,
   "metadata": {},
   "outputs": [
    {
     "data": {
      "text/plain": [
       "Text(0, 0.5, 'Rata-rata GB')"
      ]
     },
     "execution_count": 104,
     "metadata": {},
     "output_type": "execute_result"
    },
    {
     "data": {
      "image/png": "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\n",
      "text/plain": [
       "<Figure size 864x360 with 1 Axes>"
      ]
     },
     "metadata": {
      "needs_background": "light"
     },
     "output_type": "display_data"
    }
   ],
   "source": [
    "avg_inet.plot(kind='bar', figsize=(12,5))\n",
    "plt.xlabel('Month')\n",
    "plt.ylabel('Rata-rata GB')"
   ]
  },
  {
   "cell_type": "code",
   "execution_count": 105,
   "metadata": {
    "scrolled": false
   },
   "outputs": [
    {
     "data": {
      "text/plain": [
       "Text(0, 0.5, 'Rata-rata GB')"
      ]
     },
     "execution_count": 105,
     "metadata": {},
     "output_type": "execute_result"
    },
    {
     "data": {
      "image/png": "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\n",
      "text/plain": [
       "<Figure size 864x360 with 1 Axes>"
      ]
     },
     "metadata": {
      "needs_background": "light"
     },
     "output_type": "display_data"
    }
   ],
   "source": [
    "avg_inet.plot(figsize=(12,5), x='month')\n",
    "plt.xlabel('Month')\n",
    "plt.ylabel('Rata-rata GB')"
   ]
  },
  {
   "cell_type": "markdown",
   "metadata": {},
   "source": [
    "- Rata-rata traffic internet pada paket Ultimate Terjadi puncak pada bulan 3.\n",
    "- Rata-rata traffic internet pada paket Surf terjadi puncak pada bulan 10 dan 12\n",
    "- Perbandingan traffic internet untuk kedua paket tidak terlihat begitu besar perbedaan tiap bulan nya kecuali pada bulan 2 hingga bulan 4"
   ]
  },
  {
   "cell_type": "code",
   "execution_count": 106,
   "metadata": {},
   "outputs": [
    {
     "data": {
      "image/png": "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\n",
      "text/plain": [
       "<Figure size 864x432 with 1 Axes>"
      ]
     },
     "metadata": {
      "needs_background": "light"
     },
     "output_type": "display_data"
    }
   ],
   "source": [
    "plt.figure(figsize = (12,6))\n",
    "sns.boxplot(data=final, x='plan_name', y='gb_used')\n",
    "plt.title('Boxplot Dari Distribusi Traffic Internet')\n",
    "plt.ylabel('Banyak GB')\n",
    "plt.show()"
   ]
  },
  {
   "cell_type": "code",
   "execution_count": 107,
   "metadata": {},
   "outputs": [
    {
     "name": "stdout",
     "output_type": "stream",
     "text": [
      "paket:ultimate\n",
      "Median:  17.0\n",
      "mean:  17.3\n",
      "std:  7.5\n",
      "sum:  10030.0\n",
      "var:  56.1\n",
      "---------------\n",
      "paket:surf\n",
      "Median:  17.0\n",
      "mean:  16.7\n",
      "std:  7.5\n",
      "sum:  19742.0\n",
      "var:  56.9\n",
      "---------------\n"
     ]
    }
   ],
   "source": [
    "deskripsi_stats(final, value_col='gb_used', group_col='plan_name')"
   ]
  },
  {
   "cell_type": "markdown",
   "metadata": {},
   "source": [
    "Kesimpulan yang didapat :\n",
    "-  Rata-rata traffic internet pada Paket Surf ialah 16.7 dan pada Paket Ultimate ialah 17.3.\n",
    "- Walaupun trafficb internet lebih banyak dilakukan pelanggan paket Surf, namun dilihat dari rata-rata penggunaan kedua paket terlihat sama tidak terlihat ada perbedaan yang signifikan dari pelaku kedua pengguna paket tersebut.\n"
   ]
  },
  {
   "cell_type": "markdown",
   "metadata": {},
   "source": [
    "Kesimpulan perilaku ketiga paket : \n",
    "- Perilaku pengguna paket surf dan pengguna paket ultimate rata-rata hampir sama dalam penggunaan paket telepon dan paket internet. Namun, untuk rata-rata pemakaian paket SMS terlihat perbedaan yang signifikan terhadap kedua paket, dimana rata-rata penggunaan paket SMS pelanggan Ultimate beda jauh banyak dibanding penggunaan pelanggan Surf. Ada kemungkinan bahwa pelanggan Ultimate memilih paket Ultimate karena paket SMS yang ditawarkan.\n"
   ]
  },
 
  {
   "cell_type": "markdown",
   "metadata": {},
   "source": [
    " "
   ]
  },
  {
   "cell_type": "markdown",
   "metadata": {},
   "source": [
    "## Pendapatan"
   ]
  },
  {
   "cell_type": "markdown",
   "metadata": {},
   "source": [
    "\n",
    " - Berapa total pendapatan tiap paket per-bulan nya?"
   ]
  },
  {
   "cell_type": "code",
   "execution_count": 108,
   "metadata": {},
   "outputs": [],
   "source": [
    "pendapatan_bulanan = pd.pivot_table(final, index='month', columns='plan_name', values='total_income', aggfunc='sum')"
   ]
  },
  {
   "cell_type": "code",
   "execution_count": 109,
   "metadata": {},
   "outputs": [
    {
     "data": {
      "text/html": [
       "<div>\n",
       "<style scoped>\n",
       "    .dataframe tbody tr th:only-of-type {\n",
       "        vertical-align: middle;\n",
       "    }\n",
       "\n",
       "    .dataframe tbody tr th {\n",
       "        vertical-align: top;\n",
       "    }\n",
       "\n",
       "    .dataframe thead th {\n",
       "        text-align: right;\n",
       "    }\n",
       "</style>\n",
       "<table border=\"1\" class=\"dataframe\">\n",
       "  <thead>\n",
       "    <tr style=\"text-align: right;\">\n",
       "      <th>plan_name</th>\n",
       "      <th>surf</th>\n",
       "      <th>ultimate</th>\n",
       "    </tr>\n",
       "    <tr>\n",
       "      <th>month</th>\n",
       "      <th></th>\n",
       "      <th></th>\n",
       "    </tr>\n",
       "  </thead>\n",
       "  <tbody>\n",
       "    <tr>\n",
       "      <th>2018-01</th>\n",
       "      <td>20.00</td>\n",
       "      <td>210.0</td>\n",
       "    </tr>\n",
       "    <tr>\n",
       "      <th>2018-02</th>\n",
       "      <td>119.57</td>\n",
       "      <td>350.0</td>\n",
       "    </tr>\n",
       "    <tr>\n",
       "      <th>2018-03</th>\n",
       "      <td>616.65</td>\n",
       "      <td>546.0</td>\n",
       "    </tr>\n",
       "    <tr>\n",
       "      <th>2018-04</th>\n",
       "      <td>1420.70</td>\n",
       "      <td>1169.0</td>\n",
       "    </tr>\n",
       "    <tr>\n",
       "      <th>2018-05</th>\n",
       "      <td>2685.43</td>\n",
       "      <td>1491.0</td>\n",
       "    </tr>\n",
       "    <tr>\n",
       "      <th>2018-06</th>\n",
       "      <td>3645.67</td>\n",
       "      <td>2660.0</td>\n",
       "    </tr>\n",
       "    <tr>\n",
       "      <th>2018-07</th>\n",
       "      <td>5480.77</td>\n",
       "      <td>3402.0</td>\n",
       "    </tr>\n",
       "    <tr>\n",
       "      <th>2018-08</th>\n",
       "      <td>7661.59</td>\n",
       "      <td>4130.0</td>\n",
       "    </tr>\n",
       "    <tr>\n",
       "      <th>2018-09</th>\n",
       "      <td>8377.94</td>\n",
       "      <td>5061.0</td>\n",
       "    </tr>\n",
       "    <tr>\n",
       "      <th>2018-10</th>\n",
       "      <td>11791.67</td>\n",
       "      <td>6349.0</td>\n",
       "    </tr>\n",
       "    <tr>\n",
       "      <th>2018-11</th>\n",
       "      <td>12421.42</td>\n",
       "      <td>7357.0</td>\n",
       "    </tr>\n",
       "    <tr>\n",
       "      <th>2018-12</th>\n",
       "      <td>16879.28</td>\n",
       "      <td>9093.0</td>\n",
       "    </tr>\n",
       "  </tbody>\n",
       "</table>\n",
       "</div>"
      ],
      "text/plain": [
       "plan_name      surf  ultimate\n",
       "month                        \n",
       "2018-01       20.00     210.0\n",
       "2018-02      119.57     350.0\n",
       "2018-03      616.65     546.0\n",
       "2018-04     1420.70    1169.0\n",
       "2018-05     2685.43    1491.0\n",
       "2018-06     3645.67    2660.0\n",
       "2018-07     5480.77    3402.0\n",
       "2018-08     7661.59    4130.0\n",
       "2018-09     8377.94    5061.0\n",
       "2018-10    11791.67    6349.0\n",
       "2018-11    12421.42    7357.0\n",
       "2018-12    16879.28    9093.0"
      ]
     },
     "execution_count": 109,
     "metadata": {},
     "output_type": "execute_result"
    }
   ],
   "source": [
    "pendapatan_bulanan"
   ]
  },
  {
   "cell_type": "code",
   "execution_count": 110,
   "metadata": {
    "scrolled": false
   },
   "outputs": [
    {
     "data": {
      "text/plain": [
       "<AxesSubplot:xlabel='month'>"
      ]
     },
     "execution_count": 110,
     "metadata": {},
     "output_type": "execute_result"
    },
    {
     "data": {
      "image/png": "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\n",
      "text/plain": [
       "<Figure size 864x360 with 1 Axes>"
      ]
     },
     "metadata": {
      "needs_background": "light"
     },
     "output_type": "display_data"
    }
   ],
   "source": [
    "pendapatan_bulanan.plot(figsize=(12,5))"
   ]
  },
  {
   "cell_type": "markdown",
   "metadata": {},
   "source": [
    " - Bulan Jan - Maret pendapatan dari user bulanan antar paket Surf dan Ultimate mengalami kenaikan yang hampir sama\n",
    " - Mulai bulan April hingga Des kedua paket dari user terus mengalami kenaikan pendapatan, namun terlhiat bahwa pendapatan Paket Surf lebih unggul dari Paket Ultimate.\n",
    " "
   ]
  },

  {
   "cell_type": "markdown",
   "metadata": {},
   "source": [
    " 2. Berapa total rata-rata kedua paket tiap bulan nya ?"
   ]
  },
  {
   "cell_type": "code",
   "execution_count": 111,
   "metadata": {},
   "outputs": [],
   "source": [
    "avg_pendapatan_bulanan = pd.pivot_table(final, index='month', columns='plan_name', values='total_income', aggfunc='mean')"
   ]
  },
  {
   "cell_type": "code",
   "execution_count": 112,
   "metadata": {},
   "outputs": [
    {
     "data": {
      "text/html": [
       "<div>\n",
       "<style scoped>\n",
       "    .dataframe tbody tr th:only-of-type {\n",
       "        vertical-align: middle;\n",
       "    }\n",
       "\n",
       "    .dataframe tbody tr th {\n",
       "        vertical-align: top;\n",
       "    }\n",
       "\n",
       "    .dataframe thead th {\n",
       "        text-align: right;\n",
       "    }\n",
       "</style>\n",
       "<table border=\"1\" class=\"dataframe\">\n",
       "  <thead>\n",
       "    <tr style=\"text-align: right;\">\n",
       "      <th>plan_name</th>\n",
       "      <th>surf</th>\n",
       "      <th>ultimate</th>\n",
       "    </tr>\n",
       "    <tr>\n",
       "      <th>month</th>\n",
       "      <th></th>\n",
       "      <th></th>\n",
       "    </tr>\n",
       "  </thead>\n",
       "  <tbody>\n",
       "    <tr>\n",
       "      <th>2018-01</th>\n",
       "      <td>20.000000</td>\n",
       "      <td>70.000000</td>\n",
       "    </tr>\n",
       "    <tr>\n",
       "      <th>2018-02</th>\n",
       "      <td>23.914000</td>\n",
       "      <td>70.000000</td>\n",
       "    </tr>\n",
       "    <tr>\n",
       "      <th>2018-03</th>\n",
       "      <td>38.540625</td>\n",
       "      <td>78.000000</td>\n",
       "    </tr>\n",
       "    <tr>\n",
       "      <th>2018-04</th>\n",
       "      <td>40.591429</td>\n",
       "      <td>73.062500</td>\n",
       "    </tr>\n",
       "    <tr>\n",
       "      <th>2018-05</th>\n",
       "      <td>50.668491</td>\n",
       "      <td>71.000000</td>\n",
       "    </tr>\n",
       "    <tr>\n",
       "      <th>2018-06</th>\n",
       "      <td>52.081000</td>\n",
       "      <td>71.891892</td>\n",
       "    </tr>\n",
       "    <tr>\n",
       "      <th>2018-07</th>\n",
       "      <td>61.581685</td>\n",
       "      <td>72.382979</td>\n",
       "    </tr>\n",
       "    <tr>\n",
       "      <th>2018-08</th>\n",
       "      <td>64.383109</td>\n",
       "      <td>72.456140</td>\n",
       "    </tr>\n",
       "    <tr>\n",
       "      <th>2018-09</th>\n",
       "      <td>56.992789</td>\n",
       "      <td>71.281690</td>\n",
       "    </tr>\n",
       "    <tr>\n",
       "      <th>2018-10</th>\n",
       "      <td>65.147348</td>\n",
       "      <td>72.147727</td>\n",
       "    </tr>\n",
       "    <tr>\n",
       "      <th>2018-11</th>\n",
       "      <td>56.978991</td>\n",
       "      <td>72.127451</td>\n",
       "    </tr>\n",
       "    <tr>\n",
       "      <th>2018-12</th>\n",
       "      <td>68.614959</td>\n",
       "      <td>72.744000</td>\n",
       "    </tr>\n",
       "  </tbody>\n",
       "</table>\n",
       "</div>"
      ],
      "text/plain": [
       "plan_name       surf   ultimate\n",
       "month                          \n",
       "2018-01    20.000000  70.000000\n",
       "2018-02    23.914000  70.000000\n",
       "2018-03    38.540625  78.000000\n",
       "2018-04    40.591429  73.062500\n",
       "2018-05    50.668491  71.000000\n",
       "2018-06    52.081000  71.891892\n",
       "2018-07    61.581685  72.382979\n",
       "2018-08    64.383109  72.456140\n",
       "2018-09    56.992789  71.281690\n",
       "2018-10    65.147348  72.147727\n",
       "2018-11    56.978991  72.127451\n",
       "2018-12    68.614959  72.744000"
      ]
     },
     "execution_count": 112,
     "metadata": {},
     "output_type": "execute_result"
    }
   ],
   "source": [
    "avg_pendapatan_bulanan"
   ]
  },
  {
   "cell_type": "code",
   "execution_count": 113,
   "metadata": {
    "scrolled": false
   },
   "outputs": [
    {
     "data": {
      "text/plain": [
       "<AxesSubplot:xlabel='month'>"
      ]
     },
     "execution_count": 113,
     "metadata": {},
     "output_type": "execute_result"
    },
    {
     "data": {
      "image/png": "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\n",
      "text/plain": [
       "<Figure size 864x360 with 1 Axes>"
      ]
     },
     "metadata": {
      "needs_background": "light"
     },
     "output_type": "display_data"
    }
   ],
   "source": [
    "avg_pendapatan_bulanan.plot(figsize=(12,5))"
   ]
  },
  {
   "cell_type": "markdown",
   "metadata": {},
   "source": [
    " - Rata-rata pendapatan dari Paket Ultimate lebih tinggi dibanding Paket Surf sejak bulan Januari hingga Desember\n",
    " - Rata-rata pendapatan dari paket Surf selalu mengalami peningkatan tiap bulannya kecuali pada bulan September dan November. Sedangkan Paket Ultimate hanya mengalami satu kali lonjakan pada bulan Maret, di bulan-bulan berikutnya rata-rata Paket Ultimate hanya berada di garis 70."
   ]
  },
 
  {
   "cell_type": "markdown",
   "metadata": {},
   "source": [
    " 3. Bagaimana korelasi antara rata-rata pendapatan dengan banyaknya user untuk tiap paket?"
   ]
  },
  {
   "cell_type": "code",
   "execution_count": 114,
   "metadata": {},
   "outputs": [],
   "source": [
    "avg_user = pd.pivot_table(final, index='user_id', columns='plan_name', values='total_income', aggfunc='mean').reset_index()"
   ]
  },
  {
   "cell_type": "code",
   "execution_count": 115,
   "metadata": {
    "scrolled": true
   },
   "outputs": [
    {
     "data": {
      "text/html": [
       "<div>\n",
       "<style scoped>\n",
       "    .dataframe tbody tr th:only-of-type {\n",
       "        vertical-align: middle;\n",
       "    }\n",
       "\n",
       "    .dataframe tbody tr th {\n",
       "        vertical-align: top;\n",
       "    }\n",
       "\n",
       "    .dataframe thead th {\n",
       "        text-align: right;\n",
       "    }\n",
       "</style>\n",
       "<table border=\"1\" class=\"dataframe\">\n",
       "  <thead>\n",
       "    <tr style=\"text-align: right;\">\n",
       "      <th>plan_name</th>\n",
       "      <th>user_id</th>\n",
       "      <th>surf</th>\n",
       "      <th>ultimate</th>\n",
       "    </tr>\n",
       "  </thead>\n",
       "  <tbody>\n",
       "    <tr>\n",
       "      <th>0</th>\n",
       "      <td>1000</td>\n",
       "      <td>NaN</td>\n",
       "      <td>70.0</td>\n",
       "    </tr>\n",
       "    <tr>\n",
       "      <th>1</th>\n",
       "      <td>1001</td>\n",
       "      <td>50.018000</td>\n",
       "      <td>NaN</td>\n",
       "    </tr>\n",
       "    <tr>\n",
       "      <th>2</th>\n",
       "      <td>1002</td>\n",
       "      <td>33.333333</td>\n",
       "      <td>NaN</td>\n",
       "    </tr>\n",
       "    <tr>\n",
       "      <th>3</th>\n",
       "      <td>1003</td>\n",
       "      <td>158.120000</td>\n",
       "      <td>NaN</td>\n",
       "    </tr>\n",
       "    <tr>\n",
       "      <th>4</th>\n",
       "      <td>1004</td>\n",
       "      <td>76.250000</td>\n",
       "      <td>NaN</td>\n",
       "    </tr>\n",
       "  </tbody>\n",
       "</table>\n",
       "</div>"
      ],
      "text/plain": [
       "plan_name  user_id        surf  ultimate\n",
       "0             1000         NaN      70.0\n",
       "1             1001   50.018000       NaN\n",
       "2             1002   33.333333       NaN\n",
       "3             1003  158.120000       NaN\n",
       "4             1004   76.250000       NaN"
      ]
     },
     "execution_count": 115,
     "metadata": {},
     "output_type": "execute_result"
    }
   ],
   "source": [
    "avg_user.head()"
   ]
  },
  {
   "cell_type": "code",
   "execution_count": 116,
   "metadata": {},
   "outputs": [],
   "source": [
    "#membuat rata-rata pendapatan tiapa user dari paket surf\n",
    "avg_surf = avg_user.loc[:, ['user_id', 'surf']].dropna()\n",
    "avg_surf = avg_surf.rename(columns = {'surf' : 'total_avg'})"
   ]
  },
  {
   "cell_type": "code",
   "execution_count": 117,
   "metadata": {},
   "outputs": [],
   "source": [
    "#membuat rata-rata pendapatan tiapa user dari paket ultimate\n",
    "avg_ulti = avg_user.loc[:, ['user_id', 'ultimate']].dropna()\n",
    "avg_ulti = avg_ulti.rename(columns = {'ultimate' : 'total_avg'})"
   ]
  },
  {
   "cell_type": "markdown",
   "metadata": {},
   "source": [
    "Berikut adalah  grafik dari rata-rata pendapatan tiap user di tiap paket"
   ]
  },
  {
   "cell_type": "code",
   "execution_count": 118,
   "metadata": {
    "scrolled": false
   },
   "outputs": [
    {
     "data": {
      "text/plain": [
       "<AxesSubplot:title={'center':'Surf'}, xlabel='total_avg', ylabel='Count'>"
      ]
     },
     "execution_count": 118,
     "metadata": {},
     "output_type": "execute_result"
    },
    {
     "data": {
      "image/png": "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\n",
      "text/plain": [
       "<Figure size 864x360 with 2 Axes>"
      ]
     },
     "metadata": {
      "needs_background": "light"
     },
     "output_type": "display_data"
    }
   ],
   "source": [
    "plt.figure(figsize=(12, 5))\n",
    "plt.subplot(1, 2, 1)\n",
    "plt.title('Surf')\n",
    "sns.histplot(avg_surf['total_avg'], binwidth=5, color='red')\n",
    "\n",
    "plt.subplot(1, 2, 2)\n",
    "plt.title('Surf')\n",
    "sns.histplot(avg_ulti['total_avg'], binwidth=5, color='blue')"
   ]
  },
  {
   "cell_type": "markdown",
   "metadata": {},
   "source": [
    " - Banyak dari pengguna Paket Surf  menggunakan additional paket sehingga rata-rata pengguna paket surf membayar lebih dari harga paket yang sudah ditentukan yaitu usd 20.\n",
    " - Untuk pengguna Paket Ultimate tidak banyak menggunakan additional paket, sehingga tidak banyak yang membayar lebih dari harga paket Ultimate yaitu usd 70\n",
    " - Untuk paket Surf, paling tinggi pendapatan dari user bisa sampai usd 300.\n",
    " - Untuk paket Ultimate, paling tinggi pendapatan dari user hanya sampai 120."
   ]
  },
  
  {
   "cell_type": "markdown",
   "metadata": {},
   "source": [
    "Banyaknya presentasi user yang melakukan pembayaran diluar harga paket ?"
   ]
  },
  {
   "cell_type": "code",
   "execution_count": 119,
   "metadata": {
    "scrolled": false
   },
   "outputs": [
    {
     "data": {
      "text/plain": [
       "89.3"
      ]
     },
     "execution_count": 119,
     "metadata": {},
     "output_type": "execute_result"
    }
   ],
   "source": [
    "round(len(avg_surf.loc[avg_surf['total_avg'] > 20]) / len(avg_surf) * 100, 1) "
   ]
  },
  {
   "cell_type": "markdown",
   "metadata": {},
   "source": [
    " - lebih dari 89% pelanggan surf melakukan transaksi additional paket dan 10% lagi hanya membayar dengan harga  normal paket"
   ]
  },
  {
   "cell_type": "code",
   "execution_count": 120,
   "metadata": {},
   "outputs": [
    {
     "data": {
      "text/plain": [
       "10.7"
      ]
     },
     "execution_count": 120,
     "metadata": {},
     "output_type": "execute_result"
    }
   ],
   "source": [
    "round(len(avg_ulti.loc[avg_ulti['total_avg'] > 70]) / len(avg_ulti) *100, 1)"
   ]
  },
  {
   "cell_type": "markdown",
   "metadata": {
    "scrolled": true
   },
   "source": [
    " - Hanya 10% lebih orang melakukan transaksi additional paket, hanya 10% orang yang melakukan pembayaran lebih dari usd 70"
   ]
  },
  {
   "cell_type": "markdown",
   "metadata": {},
   "source": [
    "Menunjukan statistik desktiptif avg_surf"
   ]
  },
  {
   "cell_type": "code",
   "execution_count": 121,
   "metadata": {
    "scrolled": false
   },
   "outputs": [
    {
     "data": {
      "text/plain": [
       "count    262.000000\n",
       "mean      57.435409\n",
       "std       41.125987\n",
       "min       20.000000\n",
       "25%       29.017500\n",
       "50%       47.617083\n",
       "75%       70.000000\n",
       "max      320.185000\n",
       "Name: total_avg, dtype: float64"
      ]
     },
     "execution_count": 121,
     "metadata": {},
     "output_type": "execute_result"
    }
   ],
   "source": [
    "avg_surf['total_avg'].describe()"
   ]
  },
  {
   "cell_type": "markdown",
   "metadata": {},
   "source": [
    "Menunjukan statistik desktiptif avg_ulti"
   ]
  },
  {
   "cell_type": "code",
   "execution_count": 122,
   "metadata": {
    "scrolled": true
   },
   "outputs": [
    {
     "data": {
      "text/plain": [
       "count    131.000000\n",
       "mean      71.670844\n",
       "std        7.204071\n",
       "min       70.000000\n",
       "25%       70.000000\n",
       "50%       70.000000\n",
       "75%       70.000000\n",
       "max      123.200000\n",
       "Name: total_avg, dtype: float64"
      ]
     },
     "execution_count": 122,
     "metadata": {},
     "output_type": "execute_result"
    }
   ],
   "source": [
    "avg_ulti.total_avg.describe()"
   ]
  },
  {
   "cell_type": "code",
   "execution_count": 123,
   "metadata": {},
   "outputs": [
    {
     "name": "stdout",
     "output_type": "stream",
     "text": [
      "Paket Surf:\n",
      "Standar Deviasi : 41.1\n",
      "Varians : 1691.3\n",
      "\n",
      "Paket Ultimate:\n",
      "Standar Deviasi : 7.2\n",
      "Varians : 51.9\n"
     ]
    }
   ],
   "source": [
    "surf_std = round(avg_surf['total_avg'].std(), 1)\n",
    "surf_var = round(avg_surf['total_avg'].var(), 1)\n",
    "print('Paket Surf:')\n",
    "print('Standar Deviasi :', surf_std)\n",
    "print('Varians :',  surf_var)\n",
    "print()\n",
    "ulti_std = round(avg_ulti['total_avg'].std(), 1)\n",
    "ulti_var = round(avg_ulti['total_avg'].var(), 1)\n",
    "print('Paket Ultimate:')\n",
    "print('Standar Deviasi :', ulti_std)\n",
    "print('Varians :', ulti_var)"
   ]
  },
  {
   "cell_type": "markdown",
   "metadata": {},
   "source": [
    "Paket Ultimate :\n",
    " - Rata-rata pendapatan per-user dari Paket Ultimate paling besar ialah USD 123 \n",
    " - USD 70 menjadi pendapatan paling banyak yang didapat dari tiap user. \n",
    " - Hampir 90% user Paket Ultimate tidak melakukan additional paket atau tambahan biaya.\n",
    " - Standar deviasi dan varians dari paket Ultimate ialah 7.2 dan 51.9\n",
    "\n",
    "Paket Surf :\n",
    " - Rata-rata pendapatan per-user dari Paket Surf paling besar ialah USD 320\n",
    " - USD 320 menjadi pendapatan paling banyak yang didapat dari user\n",
    " - Hampir 90% user melakukan transaksi biaya tambahan yaitu membeli additional paket.\n",
    " - Standar deviasi dan varians  dari paket Surf ialah 41.1 dan 1691.3\n",
    " "
   ]
  },
  {
 
  {
   "cell_type": "markdown",
   "metadata": {},
   "source": [
    "4. Bagaimana korelasi dari pemakaian internet, SMS, telepon pada meningkatnya total income?"
   ]
  },
  {
   "cell_type": "code",
   "execution_count": 124,
   "metadata": {},
   "outputs": [
    {
     "data": {
      "text/html": [
       "<div>\n",
       "<style scoped>\n",
       "    .dataframe tbody tr th:only-of-type {\n",
       "        vertical-align: middle;\n",
       "    }\n",
       "\n",
       "    .dataframe tbody tr th {\n",
       "        vertical-align: top;\n",
       "    }\n",
       "\n",
       "    .dataframe thead th {\n",
       "        text-align: right;\n",
       "    }\n",
       "</style>\n",
       "<table border=\"1\" class=\"dataframe\">\n",
       "  <thead>\n",
       "    <tr style=\"text-align: right;\">\n",
       "      <th></th>\n",
       "      <th>gb_used</th>\n",
       "      <th>total_income</th>\n",
       "    </tr>\n",
       "  </thead>\n",
       "  <tbody>\n",
       "    <tr>\n",
       "      <th>gb_used</th>\n",
       "      <td>1.000000</td>\n",
       "      <td>0.892183</td>\n",
       "    </tr>\n",
       "    <tr>\n",
       "      <th>total_income</th>\n",
       "      <td>0.892183</td>\n",
       "      <td>1.000000</td>\n",
       "    </tr>\n",
       "  </tbody>\n",
       "</table>\n",
       "</div>"
      ],
      "text/plain": [
       "               gb_used  total_income\n",
       "gb_used       1.000000      0.892183\n",
       "total_income  0.892183      1.000000"
      ]
     },
     "execution_count": 124,
     "metadata": {},
     "output_type": "execute_result"
    }
   ],
   "source": [
    "surf_internet = final.loc[final['plan_name']=='surf', ['gb_used', 'total_income']]\n",
    "surf_internet.corr()"
   ]
  },
  {
   "cell_type": "code",
   "execution_count": 125,
   "metadata": {},
   "outputs": [
    {
     "data": {
      "image/png": "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\n",
      "text/plain": [
       "<Figure size 864x360 with 1 Axes>"
      ]
     },
     "metadata": {
      "needs_background": "light"
     },
     "output_type": "display_data"
    }
   ],
   "source": [
    "plt.figure(figsize=(12,5))\n",
    "sns.scatterplot(data=surf_internet, x='gb_used',y='total_income',color='red').set( title='Pola Pendapatan dari Banyak GB')\n",
    "plt.show()"
   ]
  },
  {
   "cell_type": "markdown",
   "metadata": {},
   "source": [
    " - Pada gambar penyebaran ini, terlihat bahwa sebelum mencapai kuota 15 GB, hubungan antara kuota dan pendapatan cenderung membentuk garis lurus. Namun, setelah titik x = 15 GB, terjadi perubahan dalam pola, di mana pendapatan meningkat secara linear seiring dengan peningkatan kuota di atas 15 GB. Dapat diketahu juga,  Korelasi nya menunjukkan angka 0.89 yang menunjukkan hubungan yang moderat antara keduanya. Hal ini bisa menjadi indikasi bahwa pemakaian internet diatas 15 GB mengadakan perubahan peningkatan terhadap total income."
   ]
  },
 
  {
   "cell_type": "code",
   "execution_count": 126,
   "metadata": {
    "scrolled": true
   },
   "outputs": [
    {
     "data": {
      "text/html": [
       "<div>\n",
       "<style scoped>\n",
       "    .dataframe tbody tr th:only-of-type {\n",
       "        vertical-align: middle;\n",
       "    }\n",
       "\n",
       "    .dataframe tbody tr th {\n",
       "        vertical-align: top;\n",
       "    }\n",
       "\n",
       "    .dataframe thead th {\n",
       "        text-align: right;\n",
       "    }\n",
       "</style>\n",
       "<table border=\"1\" class=\"dataframe\">\n",
       "  <thead>\n",
       "    <tr style=\"text-align: right;\">\n",
       "      <th></th>\n",
       "      <th>sum_min</th>\n",
       "      <th>total_income</th>\n",
       "    </tr>\n",
       "  </thead>\n",
       "  <tbody>\n",
       "    <tr>\n",
       "      <th>sum_min</th>\n",
       "      <td>1.0000</td>\n",
       "      <td>0.3546</td>\n",
       "    </tr>\n",
       "    <tr>\n",
       "      <th>total_income</th>\n",
       "      <td>0.3546</td>\n",
       "      <td>1.0000</td>\n",
       "    </tr>\n",
       "  </tbody>\n",
       "</table>\n",
       "</div>"
      ],
      "text/plain": [
       "              sum_min  total_income\n",
       "sum_min        1.0000        0.3546\n",
       "total_income   0.3546        1.0000"
      ]
     },
     "execution_count": 126,
     "metadata": {},
     "output_type": "execute_result"
    }
   ],
   "source": [
    "surf_min = final.loc[final['plan_name']=='surf', ['sum_min', 'total_income']]\n",
    "surf_min.corr()"
   ]
  },
  {
   "cell_type": "code",
   "execution_count": 127,
   "metadata": {
    "scrolled": true
   },
   "outputs": [
    {
     "data": {
      "image/png": "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\n",
      "text/plain": [
       "<Figure size 864x360 with 1 Axes>"
      ]
     },
     "metadata": {
      "needs_background": "light"
     },
     "output_type": "display_data"
    }
   ],
   "source": [
    "plt.figure(figsize=(12,5))\n",
    "sns.scatterplot(data=surf_min, x='sum_min', y='total_income', color='red')\n",
    "plt.show()"
   ]
  },
  {
   "cell_type": "markdown",
   "metadata": {},
   "source": [
    "- Pada gambar penyebaran ini, kita melihat bahwa titik-titik cenderung berkumpul tanpa membentuk pola yang jelas. Nilai korelasi sebesar 0.35 menunjukkan korelasi yang lemah antara dua variabel tersebut. Ini memperlihatkan bahwa  banyaknya jumlah menit tidak secara kuat mengindikasikan perubahan dalam total income"
   ]
  },
  
  {
   "cell_type": "code",
   "execution_count": 128,
   "metadata": {},
   "outputs": [
    {
     "data": {
      "text/html": [
       "<div>\n",
       "<style scoped>\n",
       "    .dataframe tbody tr th:only-of-type {\n",
       "        vertical-align: middle;\n",
       "    }\n",
       "\n",
       "    .dataframe tbody tr th {\n",
       "        vertical-align: top;\n",
       "    }\n",
       "\n",
       "    .dataframe thead th {\n",
       "        text-align: right;\n",
       "    }\n",
       "</style>\n",
       "<table border=\"1\" class=\"dataframe\">\n",
       "  <thead>\n",
       "    <tr style=\"text-align: right;\">\n",
       "      <th></th>\n",
       "      <th>mesg_sum</th>\n",
       "      <th>total_income</th>\n",
       "    </tr>\n",
       "  </thead>\n",
       "  <tbody>\n",
       "    <tr>\n",
       "      <th>mesg_sum</th>\n",
       "      <td>1.000000</td>\n",
       "      <td>0.221009</td>\n",
       "    </tr>\n",
       "    <tr>\n",
       "      <th>total_income</th>\n",
       "      <td>0.221009</td>\n",
       "      <td>1.000000</td>\n",
       "    </tr>\n",
       "  </tbody>\n",
       "</table>\n",
       "</div>"
      ],
      "text/plain": [
       "              mesg_sum  total_income\n",
       "mesg_sum      1.000000      0.221009\n",
       "total_income  0.221009      1.000000"
      ]
     },
     "execution_count": 128,
     "metadata": {},
     "output_type": "execute_result"
    }
   ],
   "source": [
    "surf_mesg = final.loc[final['plan_name']=='surf', ['mesg_sum', 'total_income']]\n",
    "surf_mesg.corr()"
   ]
  },
  {
   "cell_type": "code",
   "execution_count": 129,
   "metadata": {
    "scrolled": true
   },
   "outputs": [
    {
     "data": {
      "image/png": "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\n",
      "text/plain": [
       "<Figure size 864x360 with 1 Axes>"
      ]
     },
     "metadata": {
      "needs_background": "light"
     },
     "output_type": "display_data"
    }
   ],
   "source": [
    "plt.figure(figsize=(12,5))\n",
    "sns.scatterplot(data=surf_mesg, x='mesg_sum', y='total_income', color='red')\n",
    "plt.show()"
   ]
  },
  {
   "cell_type": "markdown",
   "metadata": {},
   "source": [
    "- Pada gambar penyebaran ini, kita melihat bahwa titik-titik berkumpul diantara pengiriman 0-100 SMS dan pendapatan paling banyak dihasilkan dibawah USD 100. Didaptkan juga nilai korelasi sebesar 0.22 menunjukkan korelasi yang lemah antara dua variabel tersebut. Ini memperlihatkan bahwa  banyaknya jumlah SMS tidak secara kuat mengindikasikan perubahan dalam total income"
   ]
  },
  
  {
   "cell_type": "code",
   "execution_count": 130,
   "metadata": {
    "scrolled": false
   },
   "outputs": [
    {
     "data": {
      "text/html": [
       "<div>\n",
       "<style scoped>\n",
       "    .dataframe tbody tr th:only-of-type {\n",
       "        vertical-align: middle;\n",
       "    }\n",
       "\n",
       "    .dataframe tbody tr th {\n",
       "        vertical-align: top;\n",
       "    }\n",
       "\n",
       "    .dataframe thead th {\n",
       "        text-align: right;\n",
       "    }\n",
       "</style>\n",
       "<table border=\"1\" class=\"dataframe\">\n",
       "  <thead>\n",
       "    <tr style=\"text-align: right;\">\n",
       "      <th></th>\n",
       "      <th>gb_used</th>\n",
       "      <th>total_income</th>\n",
       "    </tr>\n",
       "  </thead>\n",
       "  <tbody>\n",
       "    <tr>\n",
       "      <th>gb_used</th>\n",
       "      <td>1.000000</td>\n",
       "      <td>0.561836</td>\n",
       "    </tr>\n",
       "    <tr>\n",
       "      <th>total_income</th>\n",
       "      <td>0.561836</td>\n",
       "      <td>1.000000</td>\n",
       "    </tr>\n",
       "  </tbody>\n",
       "</table>\n",
       "</div>"
      ],
      "text/plain": [
       "               gb_used  total_income\n",
       "gb_used       1.000000      0.561836\n",
       "total_income  0.561836      1.000000"
      ]
     },
     "execution_count": 130,
     "metadata": {},
     "output_type": "execute_result"
    }
   ],
   "source": [
    "ulti_gb = final.loc[final['plan_name']=='ultimate', ['gb_used','total_income']]\n",
    "ulti_gb.corr()"
   ]
  },
  {
   "cell_type": "code",
   "execution_count": 131,
   "metadata": {
    "scrolled": true
   },
   "outputs": [
    {
     "data": {
      "image/png": "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\n",
      "text/plain": [
       "<Figure size 864x360 with 1 Axes>"
      ]
     },
     "metadata": {
      "needs_background": "light"
     },
     "output_type": "display_data"
    }
   ],
   "source": [
    "plt.figure(figsize=(12,5))\n",
    "sns.scatterplot(data=ulti_gb, x='gb_used', y='total_income', color='blue')\n",
    "plt.show()"
   ]
  },
  {
   "cell_type": "markdown",
   "metadata": {},
   "source": [
    " - Pada gambar penyebaran ini, terlihat bahwa sebelum mencapai kuota 30 GB, hubungan antara kuota dan pendapatan cenderung membentuk garis lurus. Namun, setelah titik x = 30 GB, terjadi perubahan dalam pola, di mana pendapatan meningkat secara linear seiring dengan peningkatan kuota di atas 30 GB. Pengguna yang membayar lebih dari harga paket yang ditetapkan membentuk garis meningkat. Korelasi yang didapat dari hubungan pemakaian GB dengan total income juga senilai 0.56, dimana ini bisa menjadi indikasi kuat bahwa kedua variabel memiliki hubungan yang moderat."
   ]
  },
  
  {
   "cell_type": "code",
   "execution_count": 132,
   "metadata": {},
   "outputs": [
    {
     "data": {
      "text/html": [
       "<div>\n",
       "<style scoped>\n",
       "    .dataframe tbody tr th:only-of-type {\n",
       "        vertical-align: middle;\n",
       "    }\n",
       "\n",
       "    .dataframe tbody tr th {\n",
       "        vertical-align: top;\n",
       "    }\n",
       "\n",
       "    .dataframe thead th {\n",
       "        text-align: right;\n",
       "    }\n",
       "</style>\n",
       "<table border=\"1\" class=\"dataframe\">\n",
       "  <thead>\n",
       "    <tr style=\"text-align: right;\">\n",
       "      <th></th>\n",
       "      <th>sum_min</th>\n",
       "      <th>total_income</th>\n",
       "    </tr>\n",
       "  </thead>\n",
       "  <tbody>\n",
       "    <tr>\n",
       "      <th>sum_min</th>\n",
       "      <td>1.000000</td>\n",
       "      <td>-0.081889</td>\n",
       "    </tr>\n",
       "    <tr>\n",
       "      <th>total_income</th>\n",
       "      <td>-0.081889</td>\n",
       "      <td>1.000000</td>\n",
       "    </tr>\n",
       "  </tbody>\n",
       "</table>\n",
       "</div>"
      ],
      "text/plain": [
       "               sum_min  total_income\n",
       "sum_min       1.000000     -0.081889\n",
       "total_income -0.081889      1.000000"
      ]
     },
     "execution_count": 132,
     "metadata": {},
     "output_type": "execute_result"
    }
   ],
   "source": [
    "ulti_min = final.loc[final['plan_name']=='ultimate', ['sum_min', 'total_income']]\n",
    "ulti_min.corr()"
   ]
  },
  {
   "cell_type": "code",
   "execution_count": 133,
   "metadata": {},
   "outputs": [
    {
     "data": {
      "image/png": "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\n",
      "text/plain": [
       "<Figure size 864x360 with 1 Axes>"
      ]
     },
     "metadata": {
      "needs_background": "light"
     },
     "output_type": "display_data"
    }
   ],
   "source": [
    "plt.figure(figsize=(12,5))\n",
    "sns.scatterplot(data=ulti_min, x='sum_min', y='total_income', color='blue')\n",
    "plt.show()"
   ]
  },
  {
   "cell_type": "markdown",
   "metadata": {},
   "source": [
    " - Dapat dilihat bahwa titik banyak didapatkan di total income 70 yang dimana 70 adalah harga paket dan jika total income nya diatas 70 titik penggunaan telepon juga tidak membentuk garis linear, malah penempatan nya beragam. Ini menunjukkan bahwa user tetap menggunakan paket pada batas paket. Korelasi yang mendekati nol (-0.08) menunjukkan bahwa hubunga kedua variabel diatas tidak sangat kuat."
   ]
  },
 
  {
   "cell_type": "code",
   "execution_count": 134,
   "metadata": {},
   "outputs": [
    {
     "data": {
      "text/html": [
       "<div>\n",
       "<style scoped>\n",
       "    .dataframe tbody tr th:only-of-type {\n",
       "        vertical-align: middle;\n",
       "    }\n",
       "\n",
       "    .dataframe tbody tr th {\n",
       "        vertical-align: top;\n",
       "    }\n",
       "\n",
       "    .dataframe thead th {\n",
       "        text-align: right;\n",
       "    }\n",
       "</style>\n",
       "<table border=\"1\" class=\"dataframe\">\n",
       "  <thead>\n",
       "    <tr style=\"text-align: right;\">\n",
       "      <th></th>\n",
       "      <th>mesg_sum</th>\n",
       "      <th>total_income</th>\n",
       "    </tr>\n",
       "  </thead>\n",
       "  <tbody>\n",
       "    <tr>\n",
       "      <th>mesg_sum</th>\n",
       "      <td>1.000000</td>\n",
       "      <td>0.229399</td>\n",
       "    </tr>\n",
       "    <tr>\n",
       "      <th>total_income</th>\n",
       "      <td>0.229399</td>\n",
       "      <td>1.000000</td>\n",
       "    </tr>\n",
       "  </tbody>\n",
       "</table>\n",
       "</div>"
      ],
      "text/plain": [
       "              mesg_sum  total_income\n",
       "mesg_sum      1.000000      0.229399\n",
       "total_income  0.229399      1.000000"
      ]
     },
     "execution_count": 134,
     "metadata": {},
     "output_type": "execute_result"
    }
   ],
   "source": [
    "ulti_mesg = final.loc[final['plan_name']=='ultimate', ['mesg_sum', 'total_income']]\n",
    "ulti_mesg.corr()"
   ]
  },
  {
   "cell_type": "code",
   "execution_count": 135,
   "metadata": {},
   "outputs": [
    {
     "data": {
      "image/png": "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\n",
      "text/plain": [
       "<Figure size 864x360 with 1 Axes>"
      ]
     },
     "metadata": {
      "needs_background": "light"
     },
     "output_type": "display_data"
    }
   ],
   "source": [
    "plt.figure(figsize=(12,5))\n",
    "sns.scatterplot(data=ulti_mesg, x='mesg_sum', y='total_income', color='blue')\n",
    "plt.show()"
   ]
  },
  {
   "cell_type": "markdown",
   "metadata": {},
   "source": [
    " - Sama dengan perhitungan dengan variabel jumlah menit dengan total pendapatan, dapat dilihat bahwa titik banyak didapatkan di total income 70 yang dimana 70 adalah harga paket dan jika total income nya diatas 70 titik penggunaan SMS juga tidak membentuk garis linear, malah penempatan nya beragam.  Ini menunjukkan bahwa user tetap menggunakan paket pada batas paket. Korelasi yang mendekati nol (0.29) menunjukkan bahwa hubunga kedua variabel diatas tidak kuat."
   ]
  },
  {
   "cell_type": "markdown",
   "metadata": {},
   "source": [
    " - Paket Surf\n",
    "      - Banyak dari pengguna paket telepon, SMS dan internet banyak user yang melebihkan pembelian paket mereka. Seperti menambah additional paket untuk internet, telepon dan SMS. Sehingga pendapatan Paket Surf bisa menjadi lebih banyak.\n",
    "      - Dari korelasi yang sudah di cari, variabel yang berhubungan dengan meningkatnya pendapatan ialah dengan penggunaan internet. Paket internet yang disediakan ialah sebanyak 15 GB namun user banyak yang melakukan pembelian tambahan untuk internet, sehingga semakin bertambahnya pembelian tambahan pada paket internet semakin bertambah juga total pendapatan.\n",
    "      - Untuk paket telepon dan SMS, banyak juga user yang melakukan penambahan pembelian paket diluar paket yang sudah tersedia, namun hal ini tidak mengakibatkan grafik meningkat untuk total pendapatan. Dilihat juga dari korelasi bahwa tidak ada indikasi kuat terhadapa variabel jumlah SMS dan menit terhadap peningkatan total pendapatan.\n",
    "      \n",
    "      \n",
    "      \n",
    "      \n",
    " - Paket Ultimate\n",
    "      - Tidak banyak user paket Ultimate yang melakukan pembelian lebih terhadap paket, baik itu untuk paket SMS dan Telpon. Hal ini mungkin disebabkan karena paket yang diberikan sudah cukup atau malah berlebih. Namun, user paket internet ada beberapa yang membeli paket tambahan sehingga setiap penambahan paket internet (dari paket yang ditawarkan) maka total pendapatan juga meningkat.\n",
    "      - Dari korelasi yang sudah di cari, variabel yang berhubungan dengan meningkatnya pendapatan ialah dengan penggunaan internet.\n",
    "      "
   ]
  },

  {
   "cell_type": "markdown",
   "metadata": {},
   "source": [
    "## Menguji Hipotesis Statistik"
   ]
  },
  {
   "cell_type": "markdown",
   "metadata": {},
   "source": [
    "    \n",
    " 1. Ingin mengetahui apakah ada perbedaan signifikan terhadap rata-rata pendapatan antra dua kelompok pengguna paket telepon. formulasi hipotesis sebagai berikut :\n",
    " \n",
    "    - H0 : Rata-rata pendapatan dari pengguna paket telepon Ultimate dan Surf berbeda.\n",
    "    - H1 : Rata-rata pendapatan dari pengguna paket telepon Ultimate dan Surf tidak berbeda"
   ]
  },
  {
   "cell_type": "code",
   "execution_count": 136,
   "metadata": {},
   "outputs": [
    {
     "name": "stdout",
     "output_type": "stream",
     "text": [
      "p-value : 0.0001007111386207607\n",
      "Rata-rata pendapatan dari pengguna paket telepon Ultimate dan Surf tidak berbeda\n"
     ]
    }
   ],
   "source": [
    "# Uji hipotesisnya\n",
    "alpha = 0.05\n",
    "results = st.ttest_ind(avg_user['surf'], avg_user['ultimate'], nan_policy='omit')\n",
    "\n",
    "print('p-value :', results.pvalue)\n",
    "\n",
    "if (results.pvalue > alpha):\n",
    "    print('Rata-rata pendapatan dari pengguna paket telepon Ultimate dan Surf berbeda.')\n",
    "else :\n",
    "    print('Rata-rata pendapatan dari pengguna paket telepon Ultimate dan Surf tidak berbeda')"
   ]
  },
  {
   "cell_type": "markdown",
   "metadata": {},
   "source": [
    "\n",
    "\n",
    "2. Ingin mengetahu apakah ada perbedaan signifikan terhadap rata-rata pendapatan apengguna di wilayah NY-NJ berbeda dengan pendapatan pengguna dari wilayah lain. formulasi hipotesis sebagai berikut :\n",
    " \n",
    "    - H0 : Rata-rata pendapatan dari pengguna di wilayah NY-NJ berbeda dengan pendapatan pengguna dari wilayah lain.\n",
    "    - H1 : Rata-rata pendapatan dari pengguna di wilayah NY-NJ tidak berbeda dengan pendapatan pengguna dari wilayah lain.\n",
    "\n"
   ]
  },
 
  {
   "cell_type": "code",
   "execution_count": 137,
   "metadata": {},
   "outputs": [],
   "source": [
    "isNYNJ = final.loc[final['isNy_Nj'] == True, ['user_id', 'total_income']]\n",
    "noNYNJ = final.loc[final['isNy_Nj'] == False, ['user_id', 'total_income']]"
   ]
  },
  {
   "cell_type": "code",
   "execution_count": 138,
   "metadata": {},
   "outputs": [
    {
     "name": "stdout",
     "output_type": "stream",
     "text": [
      "p-value : 0.010951934600089244\n",
      "Rata-rata pendapatan dari pengguna NY-NJ dengan kota lain terdapat perbedaan yang signifikan.\n"
     ]
    }
   ],
   "source": [
    "# Uji hipotesisnya\n",
    "alpha = 0.05\n",
    "results = st.ttest_ind(isNYNJ['total_income'], noNYNJ['total_income'], nan_policy='omit')\n",
    "\n",
    "print('p-value :', results.pvalue)\n",
    "\n",
    "if (results.pvalue < alpha):\n",
    "    print('Rata-rata pendapatan dari pengguna NY-NJ dengan kota lain terdapat perbedaan yang signifikan.')\n",
    "else :\n",
    "    print('Rata-rata pendapatan dari pengguna NY-NJ dengan kota lain terdapat perbedaan yang tidak signifikan.')"
   ]
  },
  
  {
   "cell_type": "markdown",
   "metadata": {},
   "source": [
    "## Kesimpulan Umum\n",
    "\n"
   ]
  },
  {
   "cell_type": "markdown",
   "metadata": {},
   "source": [
    "Beberapa penemuan yang didapatkan dari analisis diatas sebagai berikut :\n",
    "\n",
    "- MEMPELAJARI PERILAKU PENGGUNA LAYANAN TIAP BULAN    \n",
    "   - Untuk penggunaan layanan paket tiap bulan nya, untuk layanan telepon Paket Surf lebih tinggi penggunaan telepon nya dibanding dengan Paket Ultimate. Namun, ternyata rata-rata dari kedua paket tersebut menggunakan paket telepon sama banyak. Untuk layanan SMS paket Surf  juga mengungguli pemakaian nya dibanding paket ultimate, namun untuk rata-rata nya Paket Ultimate menempati posisi paling tinggi dibanding paket surf. Untuk layanan internet traffic penggunaan internet dipimpin oleh paket surf, namun rata-rata tertinggi nya ada pada paket Ultimate. Walaupun begitu rata-rata traffic internet bulanan antara dua paket tersebut hanya ada perbedaan selisih sedikit saja.\n",
    " \n",
    "- PENDAPATAN  \n",
    "   - Pada 3 bulan pertama, Paket Surf dan Paket Ultimate mempunyai total pendapatan yang sama. Namun, mulai di bulan 4 total pendapatan paket surf mulai melonjak meninggalkan paket ultimate yang juga meningkat namun secara perlahan. Total pendapatan memang diungguli paket surf, namun untuk rata-rata total pendapatan, paket ultimate selalu mengungguli paket surf dari bulan 1-12. Namun, sekali lagi pada bulan 12 terlihat paket Surf mulai hampir mencapai di titik keberadaan rata-rata total pendapatan paket ultimate.\n",
    "   - Untuk paket Ultimate rata-rata pendapatan dari tiap user ialah USD 70, dengan pendapatan terbesar sebanyak USD 123, STD dan varians nya yaitu 7.2 dan 51.9 dan hampir 90% user tidak melakukan additional paket.\n",
    "   - Rata-rata pendapatan dari paket Surf ialah USD 57, rata-rata pendapatan terbesar ialah USD 320, Std dan varians nya yaitu 41.1 dan 1691.3 dan hampir 90% user melakukan transaksi lebih dari paket yang ditentukan.\n",
    "   - Banyak user dari paket surf yang melakukan transaksi lebih untuk melakukan additional paket. Dari kor yang dicari variabel penggunaan telepon dan SMS tidak memberikan dampak meningkatnya pendapatan, namun  yang berhubungan dengan peningkatan pendapatan ialah penggunaan internet. \n",
    "   - User ultimate tidak banyak yang melakukan transaksi lebih untuk additional paket. Namun peningkatan pendapatan terlihat dengan meningkatnya penggunaan internet yang melebihi kuota pembelian paket. Tidak ada yang melakukan additional paket untuk layanan telepon dan SMS.\n",
    "   - Nilai p yang didapat untuk hipotesis kedua yaitu 1% masih lebih besar dari alpha, sehingga menghasilkan H1 : Rata-rata pendapatan dari pengguna NY-NJ dengan kota lain terdapat perbedaan yang signifikan.\n",
    "   -  Nilai p yang didapat untuk hipotesis pertama hanya kurang dari 1% lebih kecil dari alpha, sehingga menghasilkan H1 : Rata-rata pendapatan dari pengguna paket telepon Ultimate dan Surf tidak berbeda\n",
    "         \n",
    "      "
   ]
  },
 
  {
   "cell_type": "markdown",
   "metadata": {},
   "source": []
  },
  {
   "cell_type": "markdown",
   "metadata": {},
   "source": [
    "\n",
    "        \n",
    "    \n",
    "### Insights\n",
    "Beberapa wawasan yang didapat dari keterangan diatas sebagai berikut :\n",
    "\n",
    "- MEMPELAJARI PERILAKU PENGGUNA LAYANAN TIAP BULAN     \n",
    " - Untuk rata-rata pemakaian paket SMS terlihat perbedaan yang signifikan terhadap kedua paket, dimana rata-rata penggunaan paket SMS pelanggan Ultimate beda jauh banyak dibanding penggunaan pelanggan Surf. Ada kemungkinan bahwa pelanggan Ultimate memilih paket Ultimate karena jumlah SMS yang ditawarkan.\n",
    " \n",
    " \n",
    " \n",
    " \n",
    "- PENDAPATAN \n",
    " - Untuk total pendapatan dari bulan Jan-Maret, paket surf dan ultimate memulai bersama-sama dititk yang sama. Namun, mulai bulan 4 total pendapatan diungguli paket surf. Sedangkan paket ultimate mengungguli paket surf pada rata-rata total pendapatan di setiap bulannya. Namun, terlihat di bulan 12 paket surf hampir mencapai titik paket ultimate. Ada kemungkinan bahwa di bulan selanjutnya paket Surf akan mengalami lonjakan kembali sehingga bisa melewati rata-rata pendapatan paket ultimate di bulan berikutnya, sedangkan dilihat dari garis paket ultimate yang stagnan, paket ultimate mungkin hanya akan mengalami sedikit kenaikan dalam rata-rata pendapatannya.\n",
    " - Walaupun paket Surf adalah paket termurah, namun banyak user nya ternyata lebih memilih menambah aditional paket dibanding menggunakan paket Ultimate. Sepertinya hal ini dikarenakan paket ultimate walaupun pelayanan yang diberi sangat banyak masih terlalu mahal dibanding paket SUrf yang rata-rata user mengeluarkan USD 57. Untuk paket ultimate, banyak yang tidak melakukan additional paket karena paket yang diberikan sudah terlampau banyak. Sehingga paket telepon dan paket SMS tidak banyak yang terpakai sampai se-maksimalnya. Namun ada beberapa juga yang masih melakukan additional paket untuk ineternet, mungkin karena internet paket internet 20 GB masih kurang untuk dipakai. Mungkin salah satu mengapa paket Ultimate tidak se-populer paket Surf karena harganya yang mahal dan terlalu boros pake telepon dan SMS dimana user tidak terlalu mementingkan kedua paket tersebut. \n",
    " - Kedua paket menunjukkan peningkatan pendapatan dipengaruhi dengan additional paket internet. Ini menunjukkan bahwa paket internet mempunyai peminatan yang besar dari users.\n",
    "        \n",
    "### Recommendations\n",
    "Beberapa rekomendasi yang bisa diberikan ialah sebagai berikut :\n",
    "\n",
    "   1. Memberikan kenaikan harga paket Surf dengan tambahan paket telepon, SMS dan terlebih untuk internet agar menarik makin banyak peminat\n",
    "   2. Menurunkan harga ultimate dengan memberikan tambahan 5GB dan menurunkan paket telepon dan SMS masing-masing setengahnya untuk menarik makin banyak peminat.\n",
    "   3. Memberikan paket baru dengan harga diantara kisaran 40-57, dengan internet sebesar 20 GB, telepon 550-650 menit dan SMS 60-80 SMS."
   ]
  },
 
  {
   "cell_type": "code",
   "execution_count": null,
   "metadata": {},
   "outputs": [],
   "source": []
  }
 ],
 "metadata": {
  "ExecuteTimeLog": [
   {
    "duration": 828,
    "start_time": "2021-11-16T09:21:11.304Z"
   },
   {
    "duration": 893,
    "start_time": "2021-11-16T09:21:17.728Z"
   },
   {
    "duration": 1150,
    "start_time": "2021-11-16T09:21:29.568Z"
   },
   {
    "duration": 3,
    "start_time": "2021-11-16T09:24:14.495Z"
   },
   {
    "duration": 120,
    "start_time": "2021-11-16T09:24:46.630Z"
   },
   {
    "duration": 3,
    "start_time": "2021-11-16T09:28:27.882Z"
   },
   {
    "duration": 4,
    "start_time": "2021-11-16T09:29:54.281Z"
   },
   {
    "duration": 3,
    "start_time": "2021-11-16T09:30:45.936Z"
   },
   {
    "duration": 4,
    "start_time": "2021-11-16T09:31:06.300Z"
   },
   {
    "duration": 113,
    "start_time": "2021-11-16T09:31:37.208Z"
   },
   {
    "duration": 143,
    "start_time": "2021-11-16T09:31:48.656Z"
   },
   {
    "duration": 98,
    "start_time": "2021-11-16T09:31:55.678Z"
   },
   {
    "duration": 3,
    "start_time": "2021-11-16T09:32:08.535Z"
   },
   {
    "duration": 111,
    "start_time": "2021-11-16T09:32:10.120Z"
   },
   {
    "duration": 3,
    "start_time": "2021-11-16T09:32:15.732Z"
   },
   {
    "duration": 4,
    "start_time": "2021-11-16T09:32:29.423Z"
   },
   {
    "duration": 3,
    "start_time": "2021-11-16T10:03:03.074Z"
   },
   {
    "duration": 3,
    "start_time": "2021-11-16T10:10:01.288Z"
   },
   {
    "duration": 3,
    "start_time": "2021-11-16T10:10:46.923Z"
   },
   {
    "duration": 121,
    "start_time": "2021-11-16T10:37:46.494Z"
   },
   {
    "duration": 125,
    "start_time": "2021-11-16T10:38:20.632Z"
   },
   {
    "duration": 112,
    "start_time": "2021-11-16T10:46:53.001Z"
   },
   {
    "duration": 110,
    "start_time": "2021-11-16T10:48:25.775Z"
   },
   {
    "duration": 3,
    "start_time": "2021-11-16T10:50:18.720Z"
   },
   {
    "duration": 4,
    "start_time": "2021-11-16T10:50:37.649Z"
   },
   {
    "duration": 2,
    "start_time": "2021-11-16T10:50:51.884Z"
   },
   {
    "duration": 3,
    "start_time": "2021-11-16T10:51:56.237Z"
   },
   {
    "duration": 101,
    "start_time": "2021-11-16T10:53:13.791Z"
   },
   {
    "duration": 3,
    "start_time": "2021-11-16T10:55:59.186Z"
   },
   {
    "duration": 3,
    "start_time": "2021-11-16T10:56:10.751Z"
   },
   {
    "duration": 3,
    "start_time": "2021-11-16T10:56:49.038Z"
   },
   {
    "duration": 3,
    "start_time": "2021-11-16T10:56:49.174Z"
   },
   {
    "duration": 4,
    "start_time": "2021-11-16T10:56:49.414Z"
   },
   {
    "duration": 3,
    "start_time": "2021-11-16T10:56:49.680Z"
   },
   {
    "duration": 3,
    "start_time": "2021-11-16T10:56:50.370Z"
   },
   {
    "duration": 114,
    "start_time": "2021-11-16T10:59:34.518Z"
   },
   {
    "duration": 3,
    "start_time": "2021-11-16T11:01:41.201Z"
   },
   {
    "duration": 116,
    "start_time": "2021-11-16T11:01:48.754Z"
   },
   {
    "duration": 3,
    "start_time": "2021-11-16T11:02:16.685Z"
   },
   {
    "duration": 3,
    "start_time": "2021-11-16T11:02:19.479Z"
   },
   {
    "duration": 3,
    "start_time": "2021-11-16T11:02:47.067Z"
   },
   {
    "duration": 3,
    "start_time": "2021-11-16T11:02:49.353Z"
   },
   {
    "duration": 3,
    "start_time": "2021-11-16T11:03:07.835Z"
   },
   {
    "duration": 3,
    "start_time": "2021-11-16T11:03:07.953Z"
   },
   {
    "duration": 112,
    "start_time": "2021-11-16T11:07:52.072Z"
   },
   {
    "duration": 187,
    "start_time": "2021-11-16T11:09:23.468Z"
   },
   {
    "duration": 4,
    "start_time": "2021-11-16T11:10:01.455Z"
   },
   {
    "duration": 3,
    "start_time": "2021-11-16T11:10:05.069Z"
   },
   {
    "duration": 4,
    "start_time": "2021-11-16T11:10:13.376Z"
   },
   {
    "duration": 3,
    "start_time": "2021-11-16T11:10:14.434Z"
   },
   {
    "duration": 3,
    "start_time": "2021-11-16T11:10:22.853Z"
   },
   {
    "duration": 4,
    "start_time": "2021-11-16T11:27:29.279Z"
   },
   {
    "duration": 4,
    "start_time": "2021-11-16T11:29:08.919Z"
   },
   {
    "duration": 118,
    "start_time": "2021-11-16T11:29:46.703Z"
   },
   {
    "duration": 437,
    "start_time": "2021-11-16T11:36:02.181Z"
   },
   {
    "duration": 157,
    "start_time": "2021-11-16T11:36:14.388Z"
   },
   {
    "duration": 207,
    "start_time": "2021-11-16T11:47:15.898Z"
   },
   {
    "duration": 3,
    "start_time": "2021-11-16T11:53:52.092Z"
   },
   {
    "duration": 3,
    "start_time": "2021-11-16T11:53:52.236Z"
   },
   {
    "duration": 3,
    "start_time": "2021-11-16T11:59:12.005Z"
   },
   {
    "duration": 112,
    "start_time": "2021-11-16T12:00:33.446Z"
   },
   {
    "duration": 3,
    "start_time": "2021-11-16T12:02:14.453Z"
   },
   {
    "duration": 3,
    "start_time": "2021-11-16T12:02:39.512Z"
   },
   {
    "duration": 106,
    "start_time": "2021-11-16T12:03:03.460Z"
   },
   {
    "duration": 3,
    "start_time": "2021-11-17T20:37:21.139Z"
   },
   {
    "duration": 3,
    "start_time": "2021-11-17T20:37:22.229Z"
   },
   {
    "duration": 3,
    "start_time": "2021-11-17T20:38:38.806Z"
   },
   {
    "duration": 3,
    "start_time": "2021-11-17T20:38:41.958Z"
   },
   {
    "duration": 3,
    "start_time": "2021-11-17T20:43:46.551Z"
   },
   {
    "duration": 4,
    "start_time": "2021-11-17T20:58:21.835Z"
   },
   {
    "duration": 3,
    "start_time": "2021-11-17T20:59:21.872Z"
   },
   {
    "duration": 4,
    "start_time": "2021-11-17T20:59:45.352Z"
   },
   {
    "duration": 4,
    "start_time": "2021-11-17T20:59:49.646Z"
   },
   {
    "duration": 159,
    "start_time": "2021-11-17T21:02:26.949Z"
   },
   {
    "duration": 3,
    "start_time": "2021-11-17T21:03:53.461Z"
   },
   {
    "duration": 3,
    "start_time": "2021-11-17T21:03:53.694Z"
   },
   {
    "duration": 3,
    "start_time": "2021-11-17T21:05:28.145Z"
   },
   {
    "duration": 116,
    "start_time": "2021-11-17T21:05:57.787Z"
   },
   {
    "duration": 3,
    "start_time": "2021-11-17T21:06:37.993Z"
   },
   {
    "duration": 3,
    "start_time": "2021-11-17T21:06:38.261Z"
   },
   {
    "duration": 3,
    "start_time": "2021-11-17T21:11:54.358Z"
   },
   {
    "duration": 3,
    "start_time": "2021-11-17T21:12:43.846Z"
   },
   {
    "duration": 4,
    "start_time": "2021-11-17T21:13:08.773Z"
   },
   {
    "duration": 3,
    "start_time": "2021-11-17T21:14:44.441Z"
   },
   {
    "duration": 3,
    "start_time": "2021-11-17T21:15:42.059Z"
   },
   {
    "duration": 4,
    "start_time": "2021-11-17T21:15:51.995Z"
   },
   {
    "duration": 3,
    "start_time": "2021-11-17T21:15:53.923Z"
   },
   {
    "duration": 3,
    "start_time": "2021-11-17T21:15:55.282Z"
   },
   {
    "duration": 3,
    "start_time": "2021-11-17T21:16:28.492Z"
   },
   {
    "duration": 3,
    "start_time": "2021-11-17T21:16:32.603Z"
   },
   {
    "duration": 3,
    "start_time": "2021-11-17T21:17:06.941Z"
   },
   {
    "duration": 98,
    "start_time": "2021-11-17T21:18:05.733Z"
   },
   {
    "duration": 4,
    "start_time": "2021-11-17T21:21:35.255Z"
   },
   {
    "duration": 3,
    "start_time": "2021-11-17T21:21:37.804Z"
   },
   {
    "duration": 4,
    "start_time": "2021-11-17T21:23:06.071Z"
   },
   {
    "duration": 3,
    "start_time": "2021-11-17T21:23:24.799Z"
   },
   {
    "duration": 3,
    "start_time": "2021-11-17T21:23:32.591Z"
   },
   {
    "duration": 98,
    "start_time": "2021-11-17T21:28:31.559Z"
   },
   {
    "duration": 3,
    "start_time": "2021-11-17T21:28:45.448Z"
   },
   {
    "duration": 3,
    "start_time": "2021-11-17T21:29:17.303Z"
   },
   {
    "duration": 3,
    "start_time": "2021-11-17T21:29:29.617Z"
   },
   {
    "duration": 3,
    "start_time": "2021-11-17T21:29:32.681Z"
   },
   {
    "duration": 3,
    "start_time": "2021-11-17T21:36:11.474Z"
   },
   {
    "duration": 3,
    "start_time": "2021-11-17T21:36:14.791Z"
   },
   {
    "duration": 3,
    "start_time": "2021-11-17T21:36:53.943Z"
   },
   {
    "duration": 3,
    "start_time": "2021-11-17T21:36:56.165Z"
   },
   {
    "duration": 4,
    "start_time": "2021-11-17T21:37:16.590Z"
   },
   {
    "duration": 3,
    "start_time": "2021-11-17T21:37:22.702Z"
   },
   {
    "duration": 4,
    "start_time": "2021-11-17T21:38:03.479Z"
   },
   {
    "duration": 3,
    "start_time": "2021-11-17T21:38:08.601Z"
   },
   {
    "duration": 3,
    "start_time": "2021-11-17T21:38:12.928Z"
   },
   {
    "duration": 3,
    "start_time": "2021-11-17T21:38:48.896Z"
   },
   {
    "duration": 2,
    "start_time": "2021-11-17T21:38:49.171Z"
   },
   {
    "duration": 4,
    "start_time": "2021-11-17T21:39:57.889Z"
   },
   {
    "duration": 3,
    "start_time": "2021-11-17T21:39:58.057Z"
   },
   {
    "duration": 3,
    "start_time": "2021-11-17T21:41:20.108Z"
   },
   {
    "duration": 3,
    "start_time": "2021-11-17T21:41:20.629Z"
   },
   {
    "duration": 3,
    "start_time": "2021-11-17T21:42:49.136Z"
   },
   {
    "duration": 3,
    "start_time": "2021-11-17T21:43:15.137Z"
   },
   {
    "duration": 4,
    "start_time": "2021-11-17T21:43:16.766Z"
   },
   {
    "duration": 4,
    "start_time": "2021-11-17T21:43:31.711Z"
   },
   {
    "duration": 3,
    "start_time": "2021-11-17T21:43:36.312Z"
   },
   {
    "duration": 4,
    "start_time": "2021-11-17T21:45:08.825Z"
   },
   {
    "duration": 4,
    "start_time": "2021-11-17T21:45:10.119Z"
   },
   {
    "duration": 4,
    "start_time": "2021-11-17T21:45:13.748Z"
   },
   {
    "duration": 3,
    "start_time": "2021-11-17T21:45:22.219Z"
   },
   {
    "duration": 3,
    "start_time": "2021-11-17T21:45:33.412Z"
   },
   {
    "duration": 2,
    "start_time": "2021-11-17T21:46:01.885Z"
   },
   {
    "duration": 3,
    "start_time": "2021-11-17T21:46:03.628Z"
   },
   {
    "duration": 107,
    "start_time": "2021-11-17T21:47:32.512Z"
   },
   {
    "duration": 103,
    "start_time": "2021-11-17T21:50:36.243Z"
   },
   {
    "duration": 3,
    "start_time": "2021-11-18T06:28:31.440Z"
   },
   {
    "duration": 3,
    "start_time": "2021-11-18T06:29:00.168Z"
   },
   {
    "duration": 3,
    "start_time": "2021-11-18T06:31:27.008Z"
   },
   {
    "duration": 2,
    "start_time": "2021-11-18T06:35:34.288Z"
   },
   {
    "duration": 2,
    "start_time": "2021-11-18T06:38:04.527Z"
   }
  ],
  "celltoolbar": "Raw Cell Format",
  "kernelspec": {
   "display_name": "Python 3 (ipykernel)",
   "language": "python",
   "name": "python3"
  },
  "language_info": {
   "codemirror_mode": {
    "name": "ipython",
    "version": 3
   },
   "file_extension": ".py",
   "mimetype": "text/x-python",
   "name": "python",
   "nbconvert_exporter": "python",
   "pygments_lexer": "ipython3",
   "version": "3.9.5"
  },
  "toc": {
   "base_numbering": 1,
   "nav_menu": {},
   "number_sections": true,
   "sideBar": true,
   "skip_h1_title": false,
   "title_cell": "Table of Contents",
   "title_sidebar": "Contents",
   "toc_cell": false,
   "toc_position": {
    "height": "calc(100% - 180px)",
    "left": "10px",
    "top": "150px",
    "width": "275.469px"
   },
   "toc_section_display": true,
   "toc_window_display": false
  }
 },
 "nbformat": 4,
 "nbformat_minor": 2
}
